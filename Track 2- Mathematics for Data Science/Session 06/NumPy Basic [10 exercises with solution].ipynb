{
 "cells": [
  {
   "cell_type": "markdown",
   "id": "2202ec9f",
   "metadata": {},
   "source": [
    "## Import NumPy Library"
   ]
  },
  {
   "cell_type": "code",
   "execution_count": 1,
   "id": "31d468aa",
   "metadata": {
    "ExecuteTime": {
     "end_time": "2022-10-15T00:25:49.598900Z",
     "start_time": "2022-10-15T00:25:49.400890Z"
    }
   },
   "outputs": [],
   "source": [
    "import numpy as np"
   ]
  },
  {
   "cell_type": "markdown",
   "id": "666c59cb",
   "metadata": {},
   "source": [
    "#### 1. Write a NumPy program to create an array of 10 zeros,10 ones, 10 fives."
   ]
  },
  {
   "cell_type": "code",
   "execution_count": 4,
   "id": "21c813b8",
   "metadata": {
    "ExecuteTime": {
     "end_time": "2022-10-15T00:30:04.000539Z",
     "start_time": "2022-10-15T00:30:03.980537Z"
    }
   },
   "outputs": [
    {
     "name": "stdout",
     "output_type": "stream",
     "text": [
      "[0. 0. 0. 0. 0. 0. 0. 0. 0. 0.]\n",
      "[1. 1. 1. 1. 1. 1. 1. 1. 1. 1.]\n",
      "[5 5 5 5 5 5 5 5 5 5]\n"
     ]
    }
   ],
   "source": [
    "a = np.zeros(10) # 1-D array of 10 zeros\n",
    "b = np.ones(10)  # 1-D array of 10 ones\n",
    "c = np.full((10), 5) # 1-D array of 10 fives\n",
    "print(a)\n",
    "print(b)\n",
    "print(c)"
   ]
  },
  {
   "cell_type": "markdown",
   "id": "e5b63202",
   "metadata": {},
   "source": [
    "##### 2. Write a NumPy program to find the missing data in an array"
   ]
  },
  {
   "cell_type": "code",
   "execution_count": 22,
   "id": "1b338d1b",
   "metadata": {
    "ExecuteTime": {
     "end_time": "2022-10-15T00:47:18.750409Z",
     "start_time": "2022-10-15T00:47:18.738408Z"
    }
   },
   "outputs": [
    {
     "name": "stdout",
     "output_type": "stream",
     "text": [
      "Values with missing data in array: \n",
      " [[ 1.  2.  3.  4.]\n",
      " [nan  5.  6.  7.]\n",
      " [ 2.  3.  4.  5.]\n",
      " [ 1.  2.  3. nan]]\n",
      "\n",
      "The missing data in an array: \n",
      " [[False False False False]\n",
      " [ True False False False]\n",
      " [False False False False]\n",
      " [False False False  True]]\n"
     ]
    }
   ],
   "source": [
    "array = np.array([[1,2,3,4],\n",
    "             [np.nan, 5,6,7],\n",
    "             [2,3,4,5],\n",
    "             [1,2,3,np.nan]])\n",
    "\n",
    "print(\"Values with missing data in array: \\n\", array)\n",
    "print()\n",
    "print(\"The missing data in an array: \\n\", np.isnan(array))"
   ]
  },
  {
   "cell_type": "markdown",
   "id": "c5f7030e",
   "metadata": {},
   "source": [
    "##### 3. Write a NumPy program to create a vector of length 5 filled with arbitrary integers from 0 to 10."
   ]
  },
  {
   "cell_type": "code",
   "execution_count": 23,
   "id": "7f20f6f7",
   "metadata": {
    "ExecuteTime": {
     "end_time": "2022-10-15T00:50:38.380108Z",
     "start_time": "2022-10-15T00:50:38.363605Z"
    }
   },
   "outputs": [
    {
     "name": "stdout",
     "output_type": "stream",
     "text": [
      "Vector values are:  [4 3 2 9 4]\n"
     ]
    }
   ],
   "source": [
    "vector = np.random.randint(0, 11, 5)\n",
    "print(\"Vector values are: \", vector)"
   ]
  },
  {
   "cell_type": "markdown",
   "id": "4f53f203",
   "metadata": {},
   "source": [
    "##### 4. Write a NumPy program to create a 3x3 identity matrix,  diagonal elements are 1,the rest are 0."
   ]
  },
  {
   "cell_type": "code",
   "execution_count": 24,
   "id": "19022833",
   "metadata": {
    "ExecuteTime": {
     "end_time": "2022-10-15T00:53:24.656750Z",
     "start_time": "2022-10-15T00:53:24.644750Z"
    }
   },
   "outputs": [
    {
     "data": {
      "text/plain": [
       "array([[1., 0., 0.],\n",
       "       [0., 1., 0.],\n",
       "       [0., 0., 1.]])"
      ]
     },
     "execution_count": 24,
     "metadata": {},
     "output_type": "execute_result"
    }
   ],
   "source": [
    "iden_matrix = np.eye(3)\n",
    "iden_matrix"
   ]
  },
  {
   "cell_type": "markdown",
   "id": "66b9beaa",
   "metadata": {},
   "source": [
    "#### 5. Write a NumPy program to create a 3x4 matrix filled with values ​​from 10 to 21"
   ]
  },
  {
   "cell_type": "code",
   "execution_count": 25,
   "id": "cc6f9cca",
   "metadata": {
    "ExecuteTime": {
     "end_time": "2022-10-15T00:56:04.140850Z",
     "start_time": "2022-10-15T00:56:04.132818Z"
    }
   },
   "outputs": [
    {
     "data": {
      "text/plain": [
       "array([[10, 11, 12, 13],\n",
       "       [14, 15, 16, 17],\n",
       "       [18, 19, 20, 21]])"
      ]
     },
     "execution_count": 25,
     "metadata": {},
     "output_type": "execute_result"
    }
   ],
   "source": [
    "matrix = np.arange(10, 22).reshape(3, 4)\n",
    "matrix"
   ]
  },
  {
   "cell_type": "markdown",
   "id": "f673fc51",
   "metadata": {},
   "source": [
    "#### 6. Write a NumPy program to generate a random number between 0 and 1."
   ]
  },
  {
   "cell_type": "code",
   "execution_count": 30,
   "id": "88e489a9",
   "metadata": {
    "ExecuteTime": {
     "end_time": "2022-10-15T01:00:07.912357Z",
     "start_time": "2022-10-15T01:00:07.892358Z"
    }
   },
   "outputs": [
    {
     "name": "stdout",
     "output_type": "stream",
     "text": [
      "Random number between 0 and 1 is:  [-0.33531679]\n"
     ]
    }
   ],
   "source": [
    "num = np.random.normal(0, 1, 1)\n",
    "print(\"Random number between 0 and 1 is: \", num)"
   ]
  },
  {
   "cell_type": "markdown",
   "id": "d69dddee",
   "metadata": {},
   "source": [
    "#### 7. Write a NumPy program to create an array of all the even integers from 30 to 70."
   ]
  },
  {
   "cell_type": "code",
   "execution_count": 31,
   "id": "80432b69",
   "metadata": {
    "ExecuteTime": {
     "end_time": "2022-10-15T01:02:09.259865Z",
     "start_time": "2022-10-15T01:02:09.243865Z"
    }
   },
   "outputs": [
    {
     "name": "stdout",
     "output_type": "stream",
     "text": [
      "Even values between 30 and 70 are:  [30 32 34 36 38 40 42 44 46 48 50 52 54 56 58 60 62 64 66 68 70]\n"
     ]
    }
   ],
   "source": [
    "array = np.arange(30, 71, 2)\n",
    "print(\"Even values between 30 and 70 are: \", array)"
   ]
  },
  {
   "cell_type": "markdown",
   "id": "c3a341d9",
   "metadata": {},
   "source": [
    "#### 8. Write a NumPy program to create a vector with values ​​ranging from 15 to 55 and print all values ​​except the first and last."
   ]
  },
  {
   "cell_type": "code",
   "execution_count": 34,
   "id": "cbe86cc5",
   "metadata": {
    "ExecuteTime": {
     "end_time": "2022-10-15T01:04:49.882440Z",
     "start_time": "2022-10-15T01:04:49.866403Z"
    }
   },
   "outputs": [
    {
     "name": "stdout",
     "output_type": "stream",
     "text": [
      "All values except the first and last are: \n",
      " [16 17 18 19 20 21 22 23 24 25 26 27 28 29 30 31 32 33 34 35 36 37 38 39\n",
      " 40 41 42 43 44 45 46 47 48 49 50 51 52 53]\n"
     ]
    }
   ],
   "source": [
    "vector = np.arange(15, 55)\n",
    "print(\"All values except the first and last are: \\n\", vector[1 : -1])"
   ]
  },
  {
   "cell_type": "markdown",
   "id": "4c0ad388",
   "metadata": {},
   "source": [
    "#### 9. Write a NumPy program to sort an array by row and column in ascending order."
   ]
  },
  {
   "cell_type": "code",
   "execution_count": 39,
   "id": "2c9eabde",
   "metadata": {
    "ExecuteTime": {
     "end_time": "2022-10-15T01:12:56.046727Z",
     "start_time": "2022-10-15T01:12:56.026728Z"
    }
   },
   "outputs": [
    {
     "name": "stdout",
     "output_type": "stream",
     "text": [
      "Original array is: \n",
      " [[ 1  5  1  8  9]\n",
      " [ 9  6  8  9 -3]\n",
      " [ 6 -1  9  3 -3]\n",
      " [ 5  3 -3  7 -2]]\n",
      "\n",
      "array sorted br rows: \n",
      " [[ 1  1  5  8  9]\n",
      " [-3  6  8  9  9]\n",
      " [-3 -1  3  6  9]\n",
      " [-3 -2  3  5  7]]\n",
      "\n",
      "array sorted br columns: \n",
      " [[ 1 -1 -3  3 -3]\n",
      " [ 5  3  1  7 -3]\n",
      " [ 6  5  8  8 -2]\n",
      " [ 9  6  9  9  9]]\n"
     ]
    }
   ],
   "source": [
    "array = np.random.randint(-3,10,size=20).reshape((4,5))\n",
    "print(\"Original array is: \\n\", array)\n",
    "print()\n",
    "print(\"array sorted br rows: \\n\", np.sort(array, axis = 1))\n",
    "print()\n",
    "print(\"array sorted br columns: \\n\", np.sort(array, axis = 0))"
   ]
  },
  {
   "cell_type": "markdown",
   "id": "ef6ed4ae",
   "metadata": {},
   "source": [
    "#### 10. Write a NumPy program to create a three-dimension array with shape (3,5,4) and set to a variable."
   ]
  },
  {
   "cell_type": "code",
   "execution_count": 46,
   "id": "d173c344",
   "metadata": {
    "ExecuteTime": {
     "end_time": "2022-10-15T01:20:10.236995Z",
     "start_time": "2022-10-15T01:20:10.216995Z"
    }
   },
   "outputs": [
    {
     "name": "stdout",
     "output_type": "stream",
     "text": [
      "3D array with shape (3,5,4) is: \n",
      " [[[0. 0. 0. 0.]\n",
      "  [0. 0. 0. 0.]\n",
      "  [0. 0. 0. 0.]\n",
      "  [0. 0. 0. 0.]\n",
      "  [0. 0. 0. 0.]]\n",
      "\n",
      " [[0. 0. 0. 0.]\n",
      "  [0. 0. 0. 0.]\n",
      "  [0. 0. 0. 0.]\n",
      "  [0. 0. 0. 0.]\n",
      "  [0. 0. 0. 0.]]\n",
      "\n",
      " [[0. 0. 0. 0.]\n",
      "  [0. 0. 0. 0.]\n",
      "  [0. 0. 0. 0.]\n",
      "  [0. 0. 0. 0.]\n",
      "  [0. 0. 0. 0.]]]\n"
     ]
    }
   ],
   "source": [
    "Three_D_array = np.zeros((3, 5, 4))\n",
    "print(\"3D array with shape (3,5,4) is: \\n\", Three_D_array)"
   ]
  }
 ],
 "metadata": {
  "kernelspec": {
   "display_name": "Python 3 (ipykernel)",
   "language": "python",
   "name": "python3"
  },
  "language_info": {
   "codemirror_mode": {
    "name": "ipython",
    "version": 3
   },
   "file_extension": ".py",
   "mimetype": "text/x-python",
   "name": "python",
   "nbconvert_exporter": "python",
   "pygments_lexer": "ipython3",
   "version": "3.9.12"
  }
 },
 "nbformat": 4,
 "nbformat_minor": 5
}
