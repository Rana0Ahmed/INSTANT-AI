{
 "cells": [
  {
   "cell_type": "markdown",
   "id": "587c856f",
   "metadata": {},
   "source": [
    "## Import needed modules"
   ]
  },
  {
   "cell_type": "code",
   "execution_count": 1,
   "id": "5650fe6c",
   "metadata": {
    "ExecuteTime": {
     "end_time": "2022-10-30T01:45:56.880686Z",
     "start_time": "2022-10-30T01:45:56.456649Z"
    }
   },
   "outputs": [],
   "source": [
    "import pandas as pd\n",
    "import csv"
   ]
  },
  {
   "cell_type": "markdown",
   "id": "11ffb40a",
   "metadata": {},
   "source": [
    "## Creating DataFrame from dictionaries"
   ]
  },
  {
   "cell_type": "code",
   "execution_count": 2,
   "id": "57193d39",
   "metadata": {
    "ExecuteTime": {
     "end_time": "2022-10-30T01:45:56.895648Z",
     "start_time": "2022-10-30T01:45:56.881686Z"
    }
   },
   "outputs": [
    {
     "data": {
      "text/html": [
       "<div>\n",
       "<style scoped>\n",
       "    .dataframe tbody tr th:only-of-type {\n",
       "        vertical-align: middle;\n",
       "    }\n",
       "\n",
       "    .dataframe tbody tr th {\n",
       "        vertical-align: top;\n",
       "    }\n",
       "\n",
       "    .dataframe thead th {\n",
       "        text-align: right;\n",
       "    }\n",
       "</style>\n",
       "<table border=\"1\" class=\"dataframe\">\n",
       "  <thead>\n",
       "    <tr style=\"text-align: right;\">\n",
       "      <th></th>\n",
       "      <th>Name</th>\n",
       "      <th>Major</th>\n",
       "      <th>Age</th>\n",
       "    </tr>\n",
       "  </thead>\n",
       "  <tbody>\n",
       "    <tr>\n",
       "      <th>0</th>\n",
       "      <td>Rana</td>\n",
       "      <td>CS</td>\n",
       "      <td>20</td>\n",
       "    </tr>\n",
       "    <tr>\n",
       "      <th>1</th>\n",
       "      <td>Ahmed</td>\n",
       "      <td>CS</td>\n",
       "      <td>20</td>\n",
       "    </tr>\n",
       "    <tr>\n",
       "      <th>2</th>\n",
       "      <td>Reem</td>\n",
       "      <td>IS</td>\n",
       "      <td>19</td>\n",
       "    </tr>\n",
       "    <tr>\n",
       "      <th>3</th>\n",
       "      <td>Mohamed</td>\n",
       "      <td>IS</td>\n",
       "      <td>19</td>\n",
       "    </tr>\n",
       "  </tbody>\n",
       "</table>\n",
       "</div>"
      ],
      "text/plain": [
       "      Name Major  Age\n",
       "0     Rana    CS   20\n",
       "1    Ahmed    CS   20\n",
       "2     Reem    IS   19\n",
       "3  Mohamed    IS   19"
      ]
     },
     "execution_count": 2,
     "metadata": {},
     "output_type": "execute_result"
    }
   ],
   "source": [
    "df = pd.DataFrame (\n",
    "    data = {\n",
    "        'Name'  : ['Rana','Ahmed','Reem','Mohamed'],\n",
    "        'Major' : ['CS', 'CS', 'IS', 'IS'],\n",
    "        'Age'   : [20, 20, 19, 19]\n",
    "    }\n",
    ")\n",
    "df"
   ]
  },
  {
   "cell_type": "markdown",
   "id": "ddc47a27",
   "metadata": {},
   "source": [
    "## Write to csv"
   ]
  },
  {
   "cell_type": "code",
   "execution_count": 3,
   "id": "29264d6c",
   "metadata": {
    "ExecuteTime": {
     "end_time": "2022-10-30T01:45:56.910818Z",
     "start_time": "2022-10-30T01:45:56.896645Z"
    }
   },
   "outputs": [],
   "source": [
    "df.to_csv ('data.csv',index = False)"
   ]
  },
  {
   "cell_type": "markdown",
   "id": "defd0d82",
   "metadata": {},
   "source": [
    "## Creating new DataFrame from dictionaries"
   ]
  },
  {
   "cell_type": "code",
   "execution_count": 4,
   "id": "b50fa3c7",
   "metadata": {
    "ExecuteTime": {
     "end_time": "2022-10-30T01:45:56.926815Z",
     "start_time": "2022-10-30T01:45:56.911816Z"
    }
   },
   "outputs": [
    {
     "data": {
      "text/html": [
       "<div>\n",
       "<style scoped>\n",
       "    .dataframe tbody tr th:only-of-type {\n",
       "        vertical-align: middle;\n",
       "    }\n",
       "\n",
       "    .dataframe tbody tr th {\n",
       "        vertical-align: top;\n",
       "    }\n",
       "\n",
       "    .dataframe thead th {\n",
       "        text-align: right;\n",
       "    }\n",
       "</style>\n",
       "<table border=\"1\" class=\"dataframe\">\n",
       "  <thead>\n",
       "    <tr style=\"text-align: right;\">\n",
       "      <th></th>\n",
       "      <th>Name</th>\n",
       "      <th>Major</th>\n",
       "      <th>Age</th>\n",
       "    </tr>\n",
       "  </thead>\n",
       "  <tbody>\n",
       "    <tr>\n",
       "      <th>0</th>\n",
       "      <td>Omnia</td>\n",
       "      <td>CS</td>\n",
       "      <td>19</td>\n",
       "    </tr>\n",
       "    <tr>\n",
       "      <th>1</th>\n",
       "      <td>Amgad</td>\n",
       "      <td>IS</td>\n",
       "      <td>20</td>\n",
       "    </tr>\n",
       "    <tr>\n",
       "      <th>2</th>\n",
       "      <td>Yomna</td>\n",
       "      <td>CS</td>\n",
       "      <td>19</td>\n",
       "    </tr>\n",
       "    <tr>\n",
       "      <th>3</th>\n",
       "      <td>Shahd</td>\n",
       "      <td>IT</td>\n",
       "      <td>20</td>\n",
       "    </tr>\n",
       "  </tbody>\n",
       "</table>\n",
       "</div>"
      ],
      "text/plain": [
       "    Name Major  Age\n",
       "0  Omnia    CS   19\n",
       "1  Amgad    IS   20\n",
       "2  Yomna    CS   19\n",
       "3  Shahd    IT   20"
      ]
     },
     "execution_count": 4,
     "metadata": {},
     "output_type": "execute_result"
    }
   ],
   "source": [
    "new_df = pd.DataFrame (\n",
    "    data = {\n",
    "        'Name'  : ['Omnia','Amgad','Yomna','Shahd'],\n",
    "        'Major' : ['CS', 'IS', 'CS', 'IT'],\n",
    "        'Age'   : [19, 20, 19, 20]\n",
    "    }\n",
    ")\n",
    "new_df"
   ]
  },
  {
   "cell_type": "markdown",
   "id": "e6a1f7b3",
   "metadata": {},
   "source": [
    "## Creating a connection to the csv file"
   ]
  },
  {
   "cell_type": "code",
   "execution_count": 5,
   "id": "8a8b9e9a",
   "metadata": {
    "ExecuteTime": {
     "end_time": "2022-10-30T01:45:57.034846Z",
     "start_time": "2022-10-30T01:45:56.927774Z"
    }
   },
   "outputs": [],
   "source": [
    "File = open('data.csv', 'a', newline = '')\n",
    "writer = csv.writer(File)\n",
    "writer.writerows(new_df.iloc)\n",
    "File.close()"
   ]
  }
 ],
 "metadata": {
  "kernelspec": {
   "display_name": "Python 3 (ipykernel)",
   "language": "python",
   "name": "python3"
  },
  "language_info": {
   "codemirror_mode": {
    "name": "ipython",
    "version": 3
   },
   "file_extension": ".py",
   "mimetype": "text/x-python",
   "name": "python",
   "nbconvert_exporter": "python",
   "pygments_lexer": "ipython3",
   "version": "3.9.12"
  }
 },
 "nbformat": 4,
 "nbformat_minor": 5
}
