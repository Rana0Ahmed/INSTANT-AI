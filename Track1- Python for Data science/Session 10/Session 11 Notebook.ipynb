{
 "cells": [
  {
   "cell_type": "code",
   "execution_count": null,
   "id": "7106d79a",
   "metadata": {},
   "outputs": [],
   "source": [
    "AI:\n",
    "    80% Data\n",
    "    20% Model (Actual AI)\n",
    "    \n",
    "80% Data:\n",
    "    90% Data Cleaning, Filtering\n",
    "    10% Apply Data Analysis Algorithm (i.e. Understand Data)"
   ]
  },
  {
   "cell_type": "code",
   "execution_count": null,
   "id": "1c4b5531",
   "metadata": {},
   "outputs": [],
   "source": [
    "# Why we clean and filter data !\n",
    "# These are different types of how can we write the date, so we handel these data with Data Cleaning, Data Filtering\n",
    "\n",
    "31/3/1998\n",
    "31/03/1998\n",
    "03/31/1998\n",
    "31.3.1998\n",
    "3131998\n",
    "31st Mar. 1998"
   ]
  },
  {
   "cell_type": "code",
   "execution_count": null,
   "id": "0b2c7b4c",
   "metadata": {},
   "outputs": [],
   "source": [
    "# Regular Expressions ! (Advanced String Manipulation)\n",
    "\n",
    "Data Preprocessing \n",
    "Temprature : Kelvin\n",
    "20\n",
    "30\n",
    "23\n",
    "21   "
   ]
  },
  {
   "cell_type": "markdown",
   "id": "636bb5cd",
   "metadata": {},
   "source": [
    "# -Regular Expression"
   ]
  },
  {
   "cell_type": "code",
   "execution_count": 12,
   "id": "6bc38811",
   "metadata": {
    "ExecuteTime": {
     "end_time": "2022-09-03T22:39:53.493738Z",
     "start_time": "2022-09-03T22:39:53.478745Z"
    }
   },
   "outputs": [],
   "source": [
    "import re # (Regular Exoression)"
   ]
  },
  {
   "cell_type": "code",
   "execution_count": 95,
   "id": "ed142256",
   "metadata": {
    "ExecuteTime": {
     "end_time": "2022-09-04T01:01:19.224640Z",
     "start_time": "2022-09-04T01:01:19.214644Z"
    }
   },
   "outputs": [],
   "source": [
    "text_to_search = '''abcdefghkjhcormsncomrstvuxyz\n",
    "ABCDEFGHIJKLMNOPPQRSTVWXYZ\n",
    "12345678910\n",
    "Ha HaHa\n",
    "MetaCharacters (Need to be escaped)\n",
    ". ^ $ * + ! {} [] \\ | ()\n",
    "abc\n",
    "cat\n",
    "mat\n",
    "hat\n",
    "bat\n",
    "fat\n",
    "sat\n",
    "01092329340\n",
    "01123234355\n",
    "'''"
   ]
  },
  {
   "cell_type": "code",
   "execution_count": 6,
   "id": "1ec50090",
   "metadata": {
    "ExecuteTime": {
     "end_time": "2022-09-03T22:34:41.633542Z",
     "start_time": "2022-09-03T22:34:41.626560Z"
    }
   },
   "outputs": [
    {
     "name": "stdout",
     "output_type": "stream",
     "text": [
      "\t tab = 8 spaces\n",
      "tab\n",
      "\\t Tab\n"
     ]
    }
   ],
   "source": [
    "print(\"\\t tab = 8 spaces\") # special characters \\t, \\n\n",
    "print(\"tab\")\n",
    "print(r\"\\t Tab\") # raw print"
   ]
  },
  {
   "cell_type": "code",
   "execution_count": 7,
   "id": "99e68c0e",
   "metadata": {
    "ExecuteTime": {
     "end_time": "2022-09-03T22:34:43.003658Z",
     "start_time": "2022-09-03T22:34:42.989664Z"
    }
   },
   "outputs": [
    {
     "name": "stdout",
     "output_type": "stream",
     "text": [
      "Ahmed\n",
      "Ahmed\n",
      "------------\n",
      "Ahmed\\nAhmed\n"
     ]
    }
   ],
   "source": [
    "print(\"Ahmed\\nAhmed\")\n",
    "print(\"------------\")\n",
    "print(r\"Ahmed\\nAhmed\")"
   ]
  },
  {
   "cell_type": "code",
   "execution_count": 8,
   "id": "86235ae9",
   "metadata": {
    "ExecuteTime": {
     "end_time": "2022-09-03T22:36:41.286236Z",
     "start_time": "2022-09-03T22:36:41.256264Z"
    }
   },
   "outputs": [
    {
     "data": {
      "text/plain": [
       "6"
      ]
     },
     "execution_count": 8,
     "metadata": {},
     "output_type": "execute_result"
    }
   ],
   "source": [
    "string = \"ahmed amr ali a;i hossam amr\"  #string\n",
    "string.find(\"amr\") #search substring return index first \"amr\""
   ]
  },
  {
   "cell_type": "code",
   "execution_count": 10,
   "id": "626fa8a9",
   "metadata": {
    "ExecuteTime": {
     "end_time": "2022-09-03T22:37:53.710894Z",
     "start_time": "2022-09-03T22:37:53.700906Z"
    }
   },
   "outputs": [
    {
     "data": {
      "text/plain": [
       "-1"
      ]
     },
     "execution_count": 10,
     "metadata": {},
     "output_type": "execute_result"
    }
   ],
   "source": [
    "string = \"ahm5d\"\n",
    "string.find(\"med\") # -1 = not found"
   ]
  },
  {
   "cell_type": "code",
   "execution_count": 20,
   "id": "93380dd4",
   "metadata": {
    "ExecuteTime": {
     "end_time": "2022-09-03T22:48:02.755183Z",
     "start_time": "2022-09-03T22:48:02.745187Z"
    }
   },
   "outputs": [
    {
     "name": "stdout",
     "output_type": "stream",
     "text": [
      "<re.Match object; span=(0, 3), match='abc'>\n",
      "<re.Match object; span=(140, 143), match='abc'>\n"
     ]
    }
   ],
   "source": [
    "# To import Regular Expression\n",
    "import re \n",
    "\n",
    "pattern = re.compile(r\"abc\") #search for \"abc\"\n",
    "matches = pattern.finditer(text_to_search) #store result in matches\n",
    "\n",
    "for match in matches:\n",
    "    print(match)"
   ]
  },
  {
   "cell_type": "code",
   "execution_count": 21,
   "id": "22193780",
   "metadata": {
    "ExecuteTime": {
     "end_time": "2022-09-03T22:48:04.297570Z",
     "start_time": "2022-09-03T22:48:04.282589Z"
    }
   },
   "outputs": [
    {
     "name": "stdout",
     "output_type": "stream",
     "text": [
      "0 3\n",
      "140 143\n",
      "Number of matches:  2\n"
     ]
    }
   ],
   "source": [
    "import re \n",
    "\n",
    "pattern = re.compile(r\"abc\") #search for \"abc\"\n",
    "matches = pattern.finditer(text_to_search) #store result in matches\n",
    "counter = 0\n",
    "\n",
    "for elment in matches:\n",
    "    print(elment.span()[0], elment.span()[1])\n",
    "    counter +=1\n",
    "print (\"Number of matches: \", counter)    "
   ]
  },
  {
   "cell_type": "code",
   "execution_count": 22,
   "id": "9e153b29",
   "metadata": {
    "ExecuteTime": {
     "end_time": "2022-09-03T22:53:15.393200Z",
     "start_time": "2022-09-03T22:53:15.378208Z"
    }
   },
   "outputs": [
    {
     "name": "stdout",
     "output_type": "stream",
     "text": [
      "Found 0 matches\n"
     ]
    }
   ],
   "source": [
    "pattern = re.compile(r\"bca\") #search for \"abc\"\n",
    "matches = pattern.finditer(text_to_search) #store result in matches\n",
    "counter = 0\n",
    "\n",
    "for elment in matches:\n",
    "    print(elment.span()[0], elment.span()[1])\n",
    "    counter +=1\n",
    "print (f\"Found {counter} matches\")  "
   ]
  },
  {
   "cell_type": "code",
   "execution_count": 25,
   "id": "db49630c",
   "metadata": {
    "ExecuteTime": {
     "end_time": "2022-09-03T22:56:02.602832Z",
     "start_time": "2022-09-03T22:56:02.577854Z"
    }
   },
   "outputs": [
    {
     "name": "stdout",
     "output_type": "stream",
     "text": [
      "<re.Match object; span=(0, 1), match='a'>\n",
      "<re.Match object; span=(1, 2), match='b'>\n",
      "<re.Match object; span=(2, 3), match='c'>\n",
      "<re.Match object; span=(3, 4), match='d'>\n",
      "<re.Match object; span=(4, 5), match='e'>\n",
      "<re.Match object; span=(5, 6), match='f'>\n",
      "<re.Match object; span=(6, 7), match='g'>\n",
      "<re.Match object; span=(7, 8), match='h'>\n",
      "<re.Match object; span=(8, 9), match='k'>\n",
      "<re.Match object; span=(9, 10), match='j'>\n",
      "<re.Match object; span=(10, 11), match='h'>\n",
      "<re.Match object; span=(11, 12), match='g'>\n",
      "<re.Match object; span=(12, 13), match='i'>\n",
      "<re.Match object; span=(13, 14), match='j'>\n",
      "<re.Match object; span=(14, 15), match='k'>\n",
      "<re.Match object; span=(15, 16), match='l'>\n",
      "<re.Match object; span=(16, 17), match='m'>\n",
      "<re.Match object; span=(17, 18), match='n'>\n",
      "<re.Match object; span=(18, 19), match='o'>\n",
      "<re.Match object; span=(19, 20), match='p'>\n",
      "<re.Match object; span=(20, 21), match='q'>\n",
      "<re.Match object; span=(21, 22), match='r'>\n",
      "<re.Match object; span=(22, 23), match='s'>\n",
      "<re.Match object; span=(23, 24), match='t'>\n",
      "<re.Match object; span=(24, 25), match='v'>\n",
      "<re.Match object; span=(25, 26), match='u'>\n",
      "<re.Match object; span=(26, 27), match='u'>\n",
      "<re.Match object; span=(27, 28), match='w'>\n",
      "<re.Match object; span=(28, 29), match='x'>\n",
      "<re.Match object; span=(29, 30), match='y'>\n",
      "<re.Match object; span=(30, 31), match='z'>\n",
      "<re.Match object; span=(32, 33), match='A'>\n",
      "<re.Match object; span=(33, 34), match='B'>\n",
      "<re.Match object; span=(34, 35), match='C'>\n",
      "<re.Match object; span=(35, 36), match='D'>\n",
      "<re.Match object; span=(36, 37), match='E'>\n",
      "<re.Match object; span=(37, 38), match='F'>\n",
      "<re.Match object; span=(38, 39), match='G'>\n",
      "<re.Match object; span=(39, 40), match='H'>\n",
      "<re.Match object; span=(40, 41), match='I'>\n",
      "<re.Match object; span=(41, 42), match='J'>\n",
      "<re.Match object; span=(42, 43), match='K'>\n",
      "<re.Match object; span=(43, 44), match='L'>\n",
      "<re.Match object; span=(44, 45), match='M'>\n",
      "<re.Match object; span=(45, 46), match='N'>\n",
      "<re.Match object; span=(46, 47), match='O'>\n",
      "<re.Match object; span=(47, 48), match='P'>\n",
      "<re.Match object; span=(48, 49), match='P'>\n",
      "<re.Match object; span=(49, 50), match='Q'>\n",
      "<re.Match object; span=(50, 51), match='R'>\n",
      "<re.Match object; span=(51, 52), match='S'>\n",
      "<re.Match object; span=(52, 53), match='T'>\n",
      "<re.Match object; span=(53, 54), match='V'>\n",
      "<re.Match object; span=(54, 55), match='W'>\n",
      "<re.Match object; span=(55, 56), match='X'>\n",
      "<re.Match object; span=(56, 57), match='Y'>\n",
      "<re.Match object; span=(57, 58), match='Z'>\n",
      "<re.Match object; span=(59, 60), match='1'>\n",
      "<re.Match object; span=(60, 61), match='2'>\n",
      "<re.Match object; span=(61, 62), match='3'>\n",
      "<re.Match object; span=(62, 63), match='4'>\n",
      "<re.Match object; span=(63, 64), match='5'>\n",
      "<re.Match object; span=(64, 65), match='6'>\n",
      "<re.Match object; span=(65, 66), match='7'>\n",
      "<re.Match object; span=(66, 67), match='8'>\n",
      "<re.Match object; span=(67, 68), match='9'>\n",
      "<re.Match object; span=(68, 69), match='1'>\n",
      "<re.Match object; span=(69, 70), match='0'>\n",
      "<re.Match object; span=(71, 72), match='H'>\n",
      "<re.Match object; span=(72, 73), match='a'>\n",
      "<re.Match object; span=(73, 74), match=' '>\n",
      "<re.Match object; span=(74, 75), match='H'>\n",
      "<re.Match object; span=(75, 76), match='a'>\n",
      "<re.Match object; span=(76, 77), match='H'>\n",
      "<re.Match object; span=(77, 78), match='a'>\n",
      "<re.Match object; span=(79, 80), match='M'>\n",
      "<re.Match object; span=(80, 81), match='e'>\n",
      "<re.Match object; span=(81, 82), match='t'>\n",
      "<re.Match object; span=(82, 83), match='a'>\n",
      "<re.Match object; span=(83, 84), match='C'>\n",
      "<re.Match object; span=(84, 85), match='h'>\n",
      "<re.Match object; span=(85, 86), match='a'>\n",
      "<re.Match object; span=(86, 87), match='r'>\n",
      "<re.Match object; span=(87, 88), match='a'>\n",
      "<re.Match object; span=(88, 89), match='c'>\n",
      "<re.Match object; span=(89, 90), match='t'>\n",
      "<re.Match object; span=(90, 91), match='e'>\n",
      "<re.Match object; span=(91, 92), match='r'>\n",
      "<re.Match object; span=(92, 93), match='s'>\n",
      "<re.Match object; span=(93, 94), match=' '>\n",
      "<re.Match object; span=(94, 95), match='('>\n",
      "<re.Match object; span=(95, 96), match='N'>\n",
      "<re.Match object; span=(96, 97), match='e'>\n",
      "<re.Match object; span=(97, 98), match='e'>\n",
      "<re.Match object; span=(98, 99), match='d'>\n",
      "<re.Match object; span=(99, 100), match=' '>\n",
      "<re.Match object; span=(100, 101), match='t'>\n",
      "<re.Match object; span=(101, 102), match='o'>\n",
      "<re.Match object; span=(102, 103), match=' '>\n",
      "<re.Match object; span=(103, 104), match='b'>\n",
      "<re.Match object; span=(104, 105), match='e'>\n",
      "<re.Match object; span=(105, 106), match=' '>\n",
      "<re.Match object; span=(106, 107), match='e'>\n",
      "<re.Match object; span=(107, 108), match='s'>\n",
      "<re.Match object; span=(108, 109), match='c'>\n",
      "<re.Match object; span=(109, 110), match='a'>\n",
      "<re.Match object; span=(110, 111), match='p'>\n",
      "<re.Match object; span=(111, 112), match='e'>\n",
      "<re.Match object; span=(112, 113), match='d'>\n",
      "<re.Match object; span=(113, 114), match=')'>\n",
      "<re.Match object; span=(115, 116), match='.'>\n",
      "<re.Match object; span=(116, 117), match=' '>\n",
      "<re.Match object; span=(117, 118), match='^'>\n",
      "<re.Match object; span=(118, 119), match=' '>\n",
      "<re.Match object; span=(119, 120), match='$'>\n",
      "<re.Match object; span=(120, 121), match=' '>\n",
      "<re.Match object; span=(121, 122), match='*'>\n",
      "<re.Match object; span=(122, 123), match=' '>\n",
      "<re.Match object; span=(123, 124), match='+'>\n",
      "<re.Match object; span=(124, 125), match=' '>\n",
      "<re.Match object; span=(125, 126), match='!'>\n",
      "<re.Match object; span=(126, 127), match=' '>\n",
      "<re.Match object; span=(127, 128), match='{'>\n",
      "<re.Match object; span=(128, 129), match='}'>\n",
      "<re.Match object; span=(129, 130), match=' '>\n",
      "<re.Match object; span=(130, 131), match='['>\n",
      "<re.Match object; span=(131, 132), match=']'>\n",
      "<re.Match object; span=(132, 133), match=' '>\n",
      "<re.Match object; span=(133, 134), match='\\\\'>\n",
      "<re.Match object; span=(134, 135), match=' '>\n",
      "<re.Match object; span=(135, 136), match='|'>\n",
      "<re.Match object; span=(136, 137), match=' '>\n",
      "<re.Match object; span=(137, 138), match='('>\n",
      "<re.Match object; span=(138, 139), match=')'>\n",
      "<re.Match object; span=(140, 141), match='a'>\n",
      "<re.Match object; span=(141, 142), match='b'>\n",
      "<re.Match object; span=(142, 143), match='c'>\n",
      "<re.Match object; span=(144, 145), match='c'>\n",
      "<re.Match object; span=(145, 146), match='a'>\n",
      "<re.Match object; span=(146, 147), match='t'>\n",
      "<re.Match object; span=(148, 149), match='m'>\n",
      "<re.Match object; span=(149, 150), match='a'>\n",
      "<re.Match object; span=(150, 151), match='t'>\n",
      "<re.Match object; span=(152, 153), match='h'>\n",
      "<re.Match object; span=(153, 154), match='a'>\n",
      "<re.Match object; span=(154, 155), match='t'>\n",
      "<re.Match object; span=(156, 157), match='b'>\n",
      "<re.Match object; span=(157, 158), match='a'>\n",
      "<re.Match object; span=(158, 159), match='t'>\n",
      "<re.Match object; span=(160, 161), match='f'>\n",
      "<re.Match object; span=(161, 162), match='a'>\n",
      "<re.Match object; span=(162, 163), match='t'>\n",
      "<re.Match object; span=(164, 165), match='s'>\n",
      "<re.Match object; span=(165, 166), match='a'>\n",
      "<re.Match object; span=(166, 167), match='t'>\n",
      "<re.Match object; span=(168, 169), match='0'>\n",
      "<re.Match object; span=(169, 170), match='1'>\n",
      "<re.Match object; span=(170, 171), match='0'>\n",
      "<re.Match object; span=(171, 172), match='9'>\n",
      "<re.Match object; span=(172, 173), match='2'>\n",
      "<re.Match object; span=(173, 174), match='3'>\n",
      "<re.Match object; span=(174, 175), match='2'>\n",
      "<re.Match object; span=(175, 176), match='9'>\n",
      "<re.Match object; span=(176, 177), match='3'>\n",
      "<re.Match object; span=(177, 178), match='4'>\n",
      "<re.Match object; span=(178, 179), match='0'>\n",
      "<re.Match object; span=(180, 181), match='0'>\n",
      "<re.Match object; span=(181, 182), match='1'>\n",
      "<re.Match object; span=(182, 183), match='1'>\n",
      "<re.Match object; span=(183, 184), match='2'>\n",
      "<re.Match object; span=(184, 185), match='3'>\n",
      "<re.Match object; span=(185, 186), match='2'>\n",
      "<re.Match object; span=(186, 187), match='3'>\n",
      "<re.Match object; span=(187, 188), match='4'>\n",
      "<re.Match object; span=(188, 189), match='3'>\n",
      "<re.Match object; span=(189, 190), match='5'>\n",
      "<re.Match object; span=(190, 191), match='5'>\n"
     ]
    }
   ],
   "source": [
    "pattern = re.compile(r\".\") # matches everything, except(\\n)\n",
    "matches = pattern.finditer(text_to_search) #store result in matches\n",
    "\n",
    "for match in matches:\n",
    "    print(match)"
   ]
  },
  {
   "cell_type": "code",
   "execution_count": 28,
   "id": "8e4e46e0",
   "metadata": {
    "ExecuteTime": {
     "end_time": "2022-09-03T23:00:07.425521Z",
     "start_time": "2022-09-03T23:00:07.415511Z"
    }
   },
   "outputs": [
    {
     "name": "stdout",
     "output_type": "stream",
     "text": [
      "Srart index:  115 and the end is:  116\n",
      "d\n",
      "1\n"
     ]
    }
   ],
   "source": [
    "pattern = re.compile(r\"\\.\") # matches only dot\n",
    "matches = pattern.finditer(text_to_search) #store result in matches\n",
    "\n",
    "for match in matches:\n",
    "    print(\"Srart index: \", match.span()[0], \"and the end is: \", match.span()[1])\n",
    "\n",
    "print(text_to_search[112])\n",
    "print(text_to_search[59])"
   ]
  },
  {
   "cell_type": "code",
   "execution_count": 96,
   "id": "a27298b7",
   "metadata": {
    "ExecuteTime": {
     "end_time": "2022-09-04T01:01:29.701079Z",
     "start_time": "2022-09-04T01:01:29.696094Z"
    }
   },
   "outputs": [],
   "source": [
    "import re\n",
    "pattern = re.compile(r\"corems.com\") # matches \"corems\"( . = anything)\"com\"\n",
    "matches = pattern.finditer(text_to_search) #store result in matches\n",
    "l = []\n",
    "for match in matches:\n",
    "    print(match)"
   ]
  },
  {
   "cell_type": "code",
   "execution_count": 97,
   "id": "1ab61043",
   "metadata": {
    "ExecuteTime": {
     "end_time": "2022-09-04T01:01:30.383118Z",
     "start_time": "2022-09-04T01:01:30.368126Z"
    }
   },
   "outputs": [],
   "source": [
    "pattern = re.compile(r\"corems\\.com\")  # to search for only(corems.com)\n",
    "matches = pattern.finditer(text_to_search) \n",
    "l = []\n",
    "for match in matches:\n",
    "    print(match)"
   ]
  },
  {
   "cell_type": "code",
   "execution_count": 39,
   "id": "cea04304",
   "metadata": {
    "ExecuteTime": {
     "end_time": "2022-09-03T23:25:14.370209Z",
     "start_time": "2022-09-03T23:25:14.355180Z"
    }
   },
   "outputs": [
    {
     "name": "stdout",
     "output_type": "stream",
     "text": [
      "<re.Match object; span=(3, 4), match='d'>\n",
      "<re.Match object; span=(95, 96), match='d'>\n",
      "<re.Match object; span=(109, 110), match='d'>\n"
     ]
    }
   ],
   "source": [
    "pattern = re.compile(r\"d\")  # to match \"d\"\n",
    "matches = pattern.finditer(text_to_search) \n",
    "l = []\n",
    "for match in matches:\n",
    "    print(match)"
   ]
  },
  {
   "cell_type": "code",
   "execution_count": 42,
   "id": "49e32036",
   "metadata": {
    "ExecuteTime": {
     "end_time": "2022-09-03T23:26:44.806919Z",
     "start_time": "2022-09-03T23:26:44.791922Z"
    }
   },
   "outputs": [],
   "source": [
    "pattern = re.compile(r\"/d\")  # to match all numbers in \"text_to_search\"\n",
    "matches = pattern.finditer(text_to_search) \n",
    "l = []\n",
    "for match in matches:\n",
    "    print(match)"
   ]
  },
  {
   "cell_type": "code",
   "execution_count": 46,
   "id": "4b53428c",
   "metadata": {
    "ExecuteTime": {
     "end_time": "2022-09-03T23:30:59.100821Z",
     "start_time": "2022-09-03T23:30:59.085834Z"
    }
   },
   "outputs": [],
   "source": [
    "pattern = re.compile(r\"/d/d\")  # matches only two digits in \"text_to_search\"\n",
    "matches = pattern.finditer(text_to_search) \n",
    "l = []\n",
    "for match in matches:\n",
    "    print(match)"
   ]
  },
  {
   "cell_type": "code",
   "execution_count": 44,
   "id": "60c4d126",
   "metadata": {
    "ExecuteTime": {
     "end_time": "2022-09-03T23:30:27.036458Z",
     "start_time": "2022-09-03T23:30:27.025702Z"
    }
   },
   "outputs": [
    {
     "name": "stdout",
     "output_type": "stream",
     "text": [
      "<re.Match object; span=(0, 1), match='a'>\n",
      "<re.Match object; span=(1, 2), match='b'>\n",
      "<re.Match object; span=(2, 3), match='c'>\n",
      "<re.Match object; span=(3, 4), match='d'>\n",
      "<re.Match object; span=(4, 5), match='e'>\n",
      "<re.Match object; span=(5, 6), match='f'>\n",
      "<re.Match object; span=(6, 7), match='g'>\n",
      "<re.Match object; span=(7, 8), match='h'>\n",
      "<re.Match object; span=(8, 9), match='k'>\n",
      "<re.Match object; span=(9, 10), match='j'>\n",
      "<re.Match object; span=(10, 11), match='h'>\n",
      "<re.Match object; span=(11, 12), match='c'>\n",
      "<re.Match object; span=(12, 13), match='o'>\n",
      "<re.Match object; span=(13, 14), match='r'>\n",
      "<re.Match object; span=(14, 15), match='m'>\n",
      "<re.Match object; span=(15, 16), match='s'>\n",
      "<re.Match object; span=(16, 17), match='n'>\n",
      "<re.Match object; span=(17, 18), match='c'>\n",
      "<re.Match object; span=(18, 19), match='o'>\n",
      "<re.Match object; span=(19, 20), match='m'>\n",
      "<re.Match object; span=(20, 21), match='r'>\n",
      "<re.Match object; span=(21, 22), match='s'>\n",
      "<re.Match object; span=(22, 23), match='t'>\n",
      "<re.Match object; span=(23, 24), match='v'>\n",
      "<re.Match object; span=(24, 25), match='u'>\n",
      "<re.Match object; span=(25, 26), match='x'>\n",
      "<re.Match object; span=(26, 27), match='y'>\n",
      "<re.Match object; span=(27, 28), match='z'>\n",
      "<re.Match object; span=(28, 29), match='\\n'>\n",
      "<re.Match object; span=(29, 30), match='A'>\n",
      "<re.Match object; span=(30, 31), match='B'>\n",
      "<re.Match object; span=(31, 32), match='C'>\n",
      "<re.Match object; span=(32, 33), match='D'>\n",
      "<re.Match object; span=(33, 34), match='E'>\n",
      "<re.Match object; span=(34, 35), match='F'>\n",
      "<re.Match object; span=(35, 36), match='G'>\n",
      "<re.Match object; span=(36, 37), match='H'>\n",
      "<re.Match object; span=(37, 38), match='I'>\n",
      "<re.Match object; span=(38, 39), match='J'>\n",
      "<re.Match object; span=(39, 40), match='K'>\n",
      "<re.Match object; span=(40, 41), match='L'>\n",
      "<re.Match object; span=(41, 42), match='M'>\n",
      "<re.Match object; span=(42, 43), match='N'>\n",
      "<re.Match object; span=(43, 44), match='O'>\n",
      "<re.Match object; span=(44, 45), match='P'>\n",
      "<re.Match object; span=(45, 46), match='P'>\n",
      "<re.Match object; span=(46, 47), match='Q'>\n",
      "<re.Match object; span=(47, 48), match='R'>\n",
      "<re.Match object; span=(48, 49), match='S'>\n",
      "<re.Match object; span=(49, 50), match='T'>\n",
      "<re.Match object; span=(50, 51), match='V'>\n",
      "<re.Match object; span=(51, 52), match='W'>\n",
      "<re.Match object; span=(52, 53), match='X'>\n",
      "<re.Match object; span=(53, 54), match='Y'>\n",
      "<re.Match object; span=(54, 55), match='Z'>\n",
      "<re.Match object; span=(55, 56), match='\\n'>\n",
      "<re.Match object; span=(67, 68), match='\\n'>\n",
      "<re.Match object; span=(68, 69), match='H'>\n",
      "<re.Match object; span=(69, 70), match='a'>\n",
      "<re.Match object; span=(70, 71), match=' '>\n",
      "<re.Match object; span=(71, 72), match='H'>\n",
      "<re.Match object; span=(72, 73), match='a'>\n",
      "<re.Match object; span=(73, 74), match='H'>\n",
      "<re.Match object; span=(74, 75), match='a'>\n",
      "<re.Match object; span=(75, 76), match='\\n'>\n",
      "<re.Match object; span=(76, 77), match='M'>\n",
      "<re.Match object; span=(77, 78), match='e'>\n",
      "<re.Match object; span=(78, 79), match='t'>\n",
      "<re.Match object; span=(79, 80), match='a'>\n",
      "<re.Match object; span=(80, 81), match='C'>\n",
      "<re.Match object; span=(81, 82), match='h'>\n",
      "<re.Match object; span=(82, 83), match='a'>\n",
      "<re.Match object; span=(83, 84), match='r'>\n",
      "<re.Match object; span=(84, 85), match='a'>\n",
      "<re.Match object; span=(85, 86), match='c'>\n",
      "<re.Match object; span=(86, 87), match='t'>\n",
      "<re.Match object; span=(87, 88), match='e'>\n",
      "<re.Match object; span=(88, 89), match='r'>\n",
      "<re.Match object; span=(89, 90), match='s'>\n",
      "<re.Match object; span=(90, 91), match=' '>\n",
      "<re.Match object; span=(91, 92), match='('>\n",
      "<re.Match object; span=(92, 93), match='N'>\n",
      "<re.Match object; span=(93, 94), match='e'>\n",
      "<re.Match object; span=(94, 95), match='e'>\n",
      "<re.Match object; span=(95, 96), match='d'>\n",
      "<re.Match object; span=(96, 97), match=' '>\n",
      "<re.Match object; span=(97, 98), match='t'>\n",
      "<re.Match object; span=(98, 99), match='o'>\n",
      "<re.Match object; span=(99, 100), match=' '>\n",
      "<re.Match object; span=(100, 101), match='b'>\n",
      "<re.Match object; span=(101, 102), match='e'>\n",
      "<re.Match object; span=(102, 103), match=' '>\n",
      "<re.Match object; span=(103, 104), match='e'>\n",
      "<re.Match object; span=(104, 105), match='s'>\n",
      "<re.Match object; span=(105, 106), match='c'>\n",
      "<re.Match object; span=(106, 107), match='a'>\n",
      "<re.Match object; span=(107, 108), match='p'>\n",
      "<re.Match object; span=(108, 109), match='e'>\n",
      "<re.Match object; span=(109, 110), match='d'>\n",
      "<re.Match object; span=(110, 111), match=')'>\n",
      "<re.Match object; span=(111, 112), match='\\n'>\n",
      "<re.Match object; span=(112, 113), match='.'>\n",
      "<re.Match object; span=(113, 114), match=' '>\n",
      "<re.Match object; span=(114, 115), match='^'>\n",
      "<re.Match object; span=(115, 116), match=' '>\n",
      "<re.Match object; span=(116, 117), match='$'>\n",
      "<re.Match object; span=(117, 118), match=' '>\n",
      "<re.Match object; span=(118, 119), match='*'>\n",
      "<re.Match object; span=(119, 120), match=' '>\n",
      "<re.Match object; span=(120, 121), match='+'>\n",
      "<re.Match object; span=(121, 122), match=' '>\n",
      "<re.Match object; span=(122, 123), match='!'>\n",
      "<re.Match object; span=(123, 124), match=' '>\n",
      "<re.Match object; span=(124, 125), match='{'>\n",
      "<re.Match object; span=(125, 126), match='}'>\n",
      "<re.Match object; span=(126, 127), match=' '>\n",
      "<re.Match object; span=(127, 128), match='['>\n",
      "<re.Match object; span=(128, 129), match=']'>\n",
      "<re.Match object; span=(129, 130), match=' '>\n",
      "<re.Match object; span=(130, 131), match='\\\\'>\n",
      "<re.Match object; span=(131, 132), match=' '>\n",
      "<re.Match object; span=(132, 133), match='|'>\n",
      "<re.Match object; span=(133, 134), match=' '>\n",
      "<re.Match object; span=(134, 135), match='('>\n",
      "<re.Match object; span=(135, 136), match=')'>\n",
      "<re.Match object; span=(136, 137), match='\\n'>\n",
      "<re.Match object; span=(137, 138), match='a'>\n",
      "<re.Match object; span=(138, 139), match='b'>\n",
      "<re.Match object; span=(139, 140), match='c'>\n",
      "<re.Match object; span=(140, 141), match='\\n'>\n",
      "<re.Match object; span=(141, 142), match='c'>\n",
      "<re.Match object; span=(142, 143), match='a'>\n",
      "<re.Match object; span=(143, 144), match='t'>\n",
      "<re.Match object; span=(144, 145), match='\\n'>\n",
      "<re.Match object; span=(145, 146), match='m'>\n",
      "<re.Match object; span=(146, 147), match='a'>\n",
      "<re.Match object; span=(147, 148), match='t'>\n",
      "<re.Match object; span=(148, 149), match='\\n'>\n",
      "<re.Match object; span=(149, 150), match='h'>\n",
      "<re.Match object; span=(150, 151), match='a'>\n",
      "<re.Match object; span=(151, 152), match='t'>\n",
      "<re.Match object; span=(152, 153), match='\\n'>\n",
      "<re.Match object; span=(153, 154), match='b'>\n",
      "<re.Match object; span=(154, 155), match='a'>\n",
      "<re.Match object; span=(155, 156), match='t'>\n",
      "<re.Match object; span=(156, 157), match='\\n'>\n",
      "<re.Match object; span=(157, 158), match='f'>\n",
      "<re.Match object; span=(158, 159), match='a'>\n",
      "<re.Match object; span=(159, 160), match='t'>\n",
      "<re.Match object; span=(160, 161), match='\\n'>\n",
      "<re.Match object; span=(161, 162), match='s'>\n",
      "<re.Match object; span=(162, 163), match='a'>\n",
      "<re.Match object; span=(163, 164), match='t'>\n",
      "<re.Match object; span=(164, 165), match='\\n'>\n",
      "<re.Match object; span=(176, 177), match='\\n'>\n",
      "<re.Match object; span=(188, 189), match='\\n'>\n"
     ]
    }
   ],
   "source": [
    "pattern = re.compile(r\"\\D\")  # matches only not a digit  in \"text_to_search\"\n",
    "matches = pattern.finditer(text_to_search) \n",
    "l = []\n",
    "for match in matches:\n",
    "    print(match)"
   ]
  },
  {
   "cell_type": "code",
   "execution_count": 47,
   "id": "2641ecf6",
   "metadata": {
    "ExecuteTime": {
     "end_time": "2022-09-03T23:32:24.923192Z",
     "start_time": "2022-09-03T23:32:24.898215Z"
    }
   },
   "outputs": [
    {
     "name": "stdout",
     "output_type": "stream",
     "text": [
      "<re.Match object; span=(0, 1), match='a'>\n",
      "<re.Match object; span=(1, 2), match='b'>\n",
      "<re.Match object; span=(2, 3), match='c'>\n",
      "<re.Match object; span=(3, 4), match='d'>\n",
      "<re.Match object; span=(4, 5), match='e'>\n",
      "<re.Match object; span=(5, 6), match='f'>\n",
      "<re.Match object; span=(6, 7), match='g'>\n",
      "<re.Match object; span=(7, 8), match='h'>\n",
      "<re.Match object; span=(8, 9), match='k'>\n",
      "<re.Match object; span=(9, 10), match='j'>\n",
      "<re.Match object; span=(10, 11), match='h'>\n",
      "<re.Match object; span=(11, 12), match='c'>\n",
      "<re.Match object; span=(12, 13), match='o'>\n",
      "<re.Match object; span=(13, 14), match='r'>\n",
      "<re.Match object; span=(14, 15), match='m'>\n",
      "<re.Match object; span=(15, 16), match='s'>\n",
      "<re.Match object; span=(16, 17), match='n'>\n",
      "<re.Match object; span=(17, 18), match='c'>\n",
      "<re.Match object; span=(18, 19), match='o'>\n",
      "<re.Match object; span=(19, 20), match='m'>\n",
      "<re.Match object; span=(20, 21), match='r'>\n",
      "<re.Match object; span=(21, 22), match='s'>\n",
      "<re.Match object; span=(22, 23), match='t'>\n",
      "<re.Match object; span=(23, 24), match='v'>\n",
      "<re.Match object; span=(24, 25), match='u'>\n",
      "<re.Match object; span=(25, 26), match='x'>\n",
      "<re.Match object; span=(26, 27), match='y'>\n",
      "<re.Match object; span=(27, 28), match='z'>\n",
      "<re.Match object; span=(29, 30), match='A'>\n",
      "<re.Match object; span=(30, 31), match='B'>\n",
      "<re.Match object; span=(31, 32), match='C'>\n",
      "<re.Match object; span=(32, 33), match='D'>\n",
      "<re.Match object; span=(33, 34), match='E'>\n",
      "<re.Match object; span=(34, 35), match='F'>\n",
      "<re.Match object; span=(35, 36), match='G'>\n",
      "<re.Match object; span=(36, 37), match='H'>\n",
      "<re.Match object; span=(37, 38), match='I'>\n",
      "<re.Match object; span=(38, 39), match='J'>\n",
      "<re.Match object; span=(39, 40), match='K'>\n",
      "<re.Match object; span=(40, 41), match='L'>\n",
      "<re.Match object; span=(41, 42), match='M'>\n",
      "<re.Match object; span=(42, 43), match='N'>\n",
      "<re.Match object; span=(43, 44), match='O'>\n",
      "<re.Match object; span=(44, 45), match='P'>\n",
      "<re.Match object; span=(45, 46), match='P'>\n",
      "<re.Match object; span=(46, 47), match='Q'>\n",
      "<re.Match object; span=(47, 48), match='R'>\n",
      "<re.Match object; span=(48, 49), match='S'>\n",
      "<re.Match object; span=(49, 50), match='T'>\n",
      "<re.Match object; span=(50, 51), match='V'>\n",
      "<re.Match object; span=(51, 52), match='W'>\n",
      "<re.Match object; span=(52, 53), match='X'>\n",
      "<re.Match object; span=(53, 54), match='Y'>\n",
      "<re.Match object; span=(54, 55), match='Z'>\n",
      "<re.Match object; span=(56, 57), match='1'>\n",
      "<re.Match object; span=(57, 58), match='2'>\n",
      "<re.Match object; span=(58, 59), match='3'>\n",
      "<re.Match object; span=(59, 60), match='4'>\n",
      "<re.Match object; span=(60, 61), match='5'>\n",
      "<re.Match object; span=(61, 62), match='6'>\n",
      "<re.Match object; span=(62, 63), match='7'>\n",
      "<re.Match object; span=(63, 64), match='8'>\n",
      "<re.Match object; span=(64, 65), match='9'>\n",
      "<re.Match object; span=(65, 66), match='1'>\n",
      "<re.Match object; span=(66, 67), match='0'>\n",
      "<re.Match object; span=(68, 69), match='H'>\n",
      "<re.Match object; span=(69, 70), match='a'>\n",
      "<re.Match object; span=(71, 72), match='H'>\n",
      "<re.Match object; span=(72, 73), match='a'>\n",
      "<re.Match object; span=(73, 74), match='H'>\n",
      "<re.Match object; span=(74, 75), match='a'>\n",
      "<re.Match object; span=(76, 77), match='M'>\n",
      "<re.Match object; span=(77, 78), match='e'>\n",
      "<re.Match object; span=(78, 79), match='t'>\n",
      "<re.Match object; span=(79, 80), match='a'>\n",
      "<re.Match object; span=(80, 81), match='C'>\n",
      "<re.Match object; span=(81, 82), match='h'>\n",
      "<re.Match object; span=(82, 83), match='a'>\n",
      "<re.Match object; span=(83, 84), match='r'>\n",
      "<re.Match object; span=(84, 85), match='a'>\n",
      "<re.Match object; span=(85, 86), match='c'>\n",
      "<re.Match object; span=(86, 87), match='t'>\n",
      "<re.Match object; span=(87, 88), match='e'>\n",
      "<re.Match object; span=(88, 89), match='r'>\n",
      "<re.Match object; span=(89, 90), match='s'>\n",
      "<re.Match object; span=(92, 93), match='N'>\n",
      "<re.Match object; span=(93, 94), match='e'>\n",
      "<re.Match object; span=(94, 95), match='e'>\n",
      "<re.Match object; span=(95, 96), match='d'>\n",
      "<re.Match object; span=(97, 98), match='t'>\n",
      "<re.Match object; span=(98, 99), match='o'>\n",
      "<re.Match object; span=(100, 101), match='b'>\n",
      "<re.Match object; span=(101, 102), match='e'>\n",
      "<re.Match object; span=(103, 104), match='e'>\n",
      "<re.Match object; span=(104, 105), match='s'>\n",
      "<re.Match object; span=(105, 106), match='c'>\n",
      "<re.Match object; span=(106, 107), match='a'>\n",
      "<re.Match object; span=(107, 108), match='p'>\n",
      "<re.Match object; span=(108, 109), match='e'>\n",
      "<re.Match object; span=(109, 110), match='d'>\n",
      "<re.Match object; span=(137, 138), match='a'>\n",
      "<re.Match object; span=(138, 139), match='b'>\n",
      "<re.Match object; span=(139, 140), match='c'>\n",
      "<re.Match object; span=(141, 142), match='c'>\n",
      "<re.Match object; span=(142, 143), match='a'>\n",
      "<re.Match object; span=(143, 144), match='t'>\n",
      "<re.Match object; span=(145, 146), match='m'>\n",
      "<re.Match object; span=(146, 147), match='a'>\n",
      "<re.Match object; span=(147, 148), match='t'>\n",
      "<re.Match object; span=(149, 150), match='h'>\n",
      "<re.Match object; span=(150, 151), match='a'>\n",
      "<re.Match object; span=(151, 152), match='t'>\n",
      "<re.Match object; span=(153, 154), match='b'>\n",
      "<re.Match object; span=(154, 155), match='a'>\n",
      "<re.Match object; span=(155, 156), match='t'>\n",
      "<re.Match object; span=(157, 158), match='f'>\n",
      "<re.Match object; span=(158, 159), match='a'>\n",
      "<re.Match object; span=(159, 160), match='t'>\n",
      "<re.Match object; span=(161, 162), match='s'>\n",
      "<re.Match object; span=(162, 163), match='a'>\n",
      "<re.Match object; span=(163, 164), match='t'>\n",
      "<re.Match object; span=(165, 166), match='0'>\n",
      "<re.Match object; span=(166, 167), match='1'>\n",
      "<re.Match object; span=(167, 168), match='0'>\n",
      "<re.Match object; span=(168, 169), match='9'>\n",
      "<re.Match object; span=(169, 170), match='2'>\n",
      "<re.Match object; span=(170, 171), match='3'>\n",
      "<re.Match object; span=(171, 172), match='2'>\n",
      "<re.Match object; span=(172, 173), match='9'>\n",
      "<re.Match object; span=(173, 174), match='3'>\n",
      "<re.Match object; span=(174, 175), match='4'>\n",
      "<re.Match object; span=(175, 176), match='0'>\n",
      "<re.Match object; span=(177, 178), match='0'>\n",
      "<re.Match object; span=(178, 179), match='1'>\n",
      "<re.Match object; span=(179, 180), match='1'>\n",
      "<re.Match object; span=(180, 181), match='2'>\n",
      "<re.Match object; span=(181, 182), match='3'>\n",
      "<re.Match object; span=(182, 183), match='2'>\n",
      "<re.Match object; span=(183, 184), match='3'>\n",
      "<re.Match object; span=(184, 185), match='4'>\n",
      "<re.Match object; span=(185, 186), match='3'>\n",
      "<re.Match object; span=(186, 187), match='5'>\n",
      "<re.Match object; span=(187, 188), match='5'>\n"
     ]
    }
   ],
   "source": [
    "pattern = re.compile(r\"\\w\")  # matches lower, uppercase, digits, underscore \n",
    "matches = pattern.finditer(text_to_search) \n",
    "l = []\n",
    "for match in matches:\n",
    "    print(match)"
   ]
  },
  {
   "cell_type": "code",
   "execution_count": 48,
   "id": "98b278cf",
   "metadata": {
    "ExecuteTime": {
     "end_time": "2022-09-03T23:33:05.551953Z",
     "start_time": "2022-09-03T23:33:05.546960Z"
    }
   },
   "outputs": [],
   "source": [
    "pattern = re.compile(r\"/d/d\\d\")  # matches only 3 digits in \"text_to_search\"\n",
    "matches = pattern.finditer(text_to_search) \n",
    "l = []\n",
    "for match in matches:\n",
    "    print(match)"
   ]
  },
  {
   "cell_type": "code",
   "execution_count": 50,
   "id": "cf0207b5",
   "metadata": {
    "ExecuteTime": {
     "end_time": "2022-09-03T23:35:06.166638Z",
     "start_time": "2022-09-03T23:35:06.151648Z"
    }
   },
   "outputs": [],
   "source": [
    "pattern = re.compile(r\"/d/d\\d.\\d\\d\\d.\\d\\d\\d\\d\")  # matches 2digits(anything),3digits(anything),4digits in \"text_to_search\"\n",
    "matches = pattern.finditer(text_to_search) \n",
    "l = []\n",
    "for match in matches:\n",
    "    print(match)"
   ]
  },
  {
   "cell_type": "code",
   "execution_count": 52,
   "id": "5651f7f8",
   "metadata": {
    "ExecuteTime": {
     "end_time": "2022-09-03T23:40:19.517525Z",
     "start_time": "2022-09-03T23:40:19.497535Z"
    }
   },
   "outputs": [],
   "source": [
    "# character set\n",
    "\n",
    "pattern = re.compile(r\"/d/d\\d[-.]\\d\\d\\d[-.]\\d\\d\\d\") # matches 3 bigits(only - || .)3 digits(only - || .)3digits\n",
    "matches = pattern.finditer(text_to_search) \n",
    "l = []\n",
    "for match in matches:\n",
    "    print(match)"
   ]
  },
  {
   "cell_type": "code",
   "execution_count": 53,
   "id": "5366a215",
   "metadata": {
    "ExecuteTime": {
     "end_time": "2022-09-03T23:43:24.693127Z",
     "start_time": "2022-09-03T23:43:24.683135Z"
    }
   },
   "outputs": [],
   "source": [
    "# character set\n",
    "\n",
    "pattern = re.compile(r\"[89]00[-.]/d/d\\d[-.]\\d\\d\\d\\d\") # matches 8 or 9  00 (- || .) 3 bigits(- || .)4 digits\n",
    "matches = pattern.finditer(text_to_search)              # nums starts with 800 or 900\n",
    "l = []\n",
    "for match in matches:\n",
    "    print(match)"
   ]
  },
  {
   "cell_type": "code",
   "execution_count": 54,
   "id": "308686ed",
   "metadata": {
    "ExecuteTime": {
     "end_time": "2022-09-03T23:48:07.996688Z",
     "start_time": "2022-09-03T23:48:07.977739Z"
    }
   },
   "outputs": [],
   "source": [
    "# character set\n",
    "\n",
    "pattern = re.compile(r\"/d/d\\d[-.*]555[-.*]\\d\\d\\d\") # matches 3 bigits(- || . || *)555(- || . || *)4 digits\n",
    "matches = pattern.finditer(text_to_search) \n",
    "l = []\n",
    "for match in matches:\n",
    "    print(match)"
   ]
  },
  {
   "cell_type": "code",
   "execution_count": 55,
   "id": "25a9d2d5",
   "metadata": {
    "ExecuteTime": {
     "end_time": "2022-09-03T23:48:50.443500Z",
     "start_time": "2022-09-03T23:48:50.437518Z"
    }
   },
   "outputs": [],
   "source": [
    "# character set\n",
    "\n",
    "pattern = re.compile(r\"010/d/d\\d\\d\\d\\d\\d\") # matches any num starts with 010\n",
    "matches = pattern.finditer(text_to_search) \n",
    "l = []\n",
    "for match in matches:\n",
    "    print(match)"
   ]
  },
  {
   "cell_type": "code",
   "execution_count": 56,
   "id": "a69844b6",
   "metadata": {
    "ExecuteTime": {
     "end_time": "2022-09-03T23:49:20.984628Z",
     "start_time": "2022-09-03T23:49:20.979672Z"
    }
   },
   "outputs": [],
   "source": [
    "# character set\n",
    "\n",
    "pattern = re.compile(r\"011/d/d\\d\\d\\d\\d\\d\") # matches any num starts with 011\n",
    "matches = pattern.finditer(text_to_search) \n",
    "l = []\n",
    "for match in matches:\n",
    "    print(match)"
   ]
  },
  {
   "cell_type": "code",
   "execution_count": 58,
   "id": "6576185e",
   "metadata": {
    "ExecuteTime": {
     "end_time": "2022-09-03T23:49:33.920422Z",
     "start_time": "2022-09-03T23:49:33.906461Z"
    }
   },
   "outputs": [],
   "source": [
    "# character set\n",
    "\n",
    "pattern = re.compile(r\"012/d/d\\d\\d\\d\\d\\d\") # matches any num starts with 012\n",
    "matches = pattern.finditer(text_to_search) \n",
    "l = []\n",
    "for match in matches:\n",
    "    print(match)"
   ]
  },
  {
   "cell_type": "code",
   "execution_count": 61,
   "id": "0d067703",
   "metadata": {
    "ExecuteTime": {
     "end_time": "2022-09-03T23:54:12.427994Z",
     "start_time": "2022-09-03T23:54:12.419018Z"
    }
   },
   "outputs": [],
   "source": [
    "# character set\n",
    "\n",
    "pattern = re.compile(r\"015/d/d\\d\\d\\d\\d\\d\") # matches any num starts with 015\n",
    "matches = pattern.finditer(text_to_search) \n",
    "l = []\n",
    "for match in matches:\n",
    "    print(match)"
   ]
  },
  {
   "cell_type": "code",
   "execution_count": 60,
   "id": "68b78f0b",
   "metadata": {
    "ExecuteTime": {
     "end_time": "2022-09-03T23:53:49.940961Z",
     "start_time": "2022-09-03T23:53:49.933980Z"
    }
   },
   "outputs": [],
   "source": [
    "# character set\n",
    "# Taking all vodafone numbers (starts with 010) and putting them in a list called vodafonenumbers\n",
    "\n",
    "pattern = re.compile(r\"015/d/d\\d\\d\\d\\d\\d\") \n",
    "matches = pattern.finditer(text_to_search) \n",
    "vodafonenumbers = []\n",
    "for match in matches:\n",
    "    vodafonenumbers.append(text_to_search[match.span()[0] : match.span()[1]])"
   ]
  },
  {
   "cell_type": "code",
   "execution_count": 62,
   "id": "60756832",
   "metadata": {
    "ExecuteTime": {
     "end_time": "2022-09-03T23:57:11.800348Z",
     "start_time": "2022-09-03T23:57:11.790375Z"
    }
   },
   "outputs": [
    {
     "name": "stdout",
     "output_type": "stream",
     "text": [
      "<re.Match object; span=(56, 57), match='1'>\n",
      "<re.Match object; span=(57, 58), match='2'>\n",
      "<re.Match object; span=(58, 59), match='3'>\n",
      "<re.Match object; span=(59, 60), match='4'>\n",
      "<re.Match object; span=(60, 61), match='5'>\n",
      "<re.Match object; span=(65, 66), match='1'>\n",
      "<re.Match object; span=(166, 167), match='1'>\n",
      "<re.Match object; span=(169, 170), match='2'>\n",
      "<re.Match object; span=(170, 171), match='3'>\n",
      "<re.Match object; span=(171, 172), match='2'>\n",
      "<re.Match object; span=(173, 174), match='3'>\n",
      "<re.Match object; span=(174, 175), match='4'>\n",
      "<re.Match object; span=(178, 179), match='1'>\n",
      "<re.Match object; span=(179, 180), match='1'>\n",
      "<re.Match object; span=(180, 181), match='2'>\n",
      "<re.Match object; span=(181, 182), match='3'>\n",
      "<re.Match object; span=(182, 183), match='2'>\n",
      "<re.Match object; span=(183, 184), match='3'>\n",
      "<re.Match object; span=(184, 185), match='4'>\n",
      "<re.Match object; span=(185, 186), match='3'>\n",
      "<re.Match object; span=(186, 187), match='5'>\n",
      "<re.Match object; span=(187, 188), match='5'>\n"
     ]
    }
   ],
   "source": [
    "pattern = re.compile(r\"[1-5]\") # matches any num in range 1:5 [1, 2, 3, 4, 5]\n",
    "matches = pattern.finditer(text_to_search) \n",
    "\n",
    "for match in matches:\n",
    "    print(match)"
   ]
  },
  {
   "cell_type": "code",
   "execution_count": 63,
   "id": "63ff5832",
   "metadata": {
    "ExecuteTime": {
     "end_time": "2022-09-03T23:58:34.018170Z",
     "start_time": "2022-09-03T23:58:34.008175Z"
    }
   },
   "outputs": [
    {
     "name": "stdout",
     "output_type": "stream",
     "text": [
      "<re.Match object; span=(56, 57), match='1'>\n",
      "<re.Match object; span=(60, 61), match='5'>\n",
      "<re.Match object; span=(65, 66), match='1'>\n",
      "<re.Match object; span=(166, 167), match='1'>\n",
      "<re.Match object; span=(178, 179), match='1'>\n",
      "<re.Match object; span=(179, 180), match='1'>\n",
      "<re.Match object; span=(186, 187), match='5'>\n",
      "<re.Match object; span=(187, 188), match='5'>\n"
     ]
    }
   ],
   "source": [
    "pattern = re.compile(r\"[-15]\") # matches - or 1 or 15 \n",
    "matches = pattern.finditer(text_to_search) \n",
    "\n",
    "for match in matches:\n",
    "    print(match)"
   ]
  },
  {
   "cell_type": "code",
   "execution_count": 64,
   "id": "157d44ed",
   "metadata": {
    "ExecuteTime": {
     "end_time": "2022-09-03T23:59:37.332877Z",
     "start_time": "2022-09-03T23:59:37.321324Z"
    }
   },
   "outputs": [
    {
     "name": "stdout",
     "output_type": "stream",
     "text": [
      "<re.Match object; span=(56, 57), match='1'>\n",
      "<re.Match object; span=(57, 58), match='2'>\n",
      "<re.Match object; span=(58, 59), match='3'>\n",
      "<re.Match object; span=(59, 60), match='4'>\n",
      "<re.Match object; span=(60, 61), match='5'>\n",
      "<re.Match object; span=(65, 66), match='1'>\n",
      "<re.Match object; span=(166, 167), match='1'>\n",
      "<re.Match object; span=(169, 170), match='2'>\n",
      "<re.Match object; span=(170, 171), match='3'>\n",
      "<re.Match object; span=(171, 172), match='2'>\n",
      "<re.Match object; span=(173, 174), match='3'>\n",
      "<re.Match object; span=(174, 175), match='4'>\n",
      "<re.Match object; span=(178, 179), match='1'>\n",
      "<re.Match object; span=(179, 180), match='1'>\n",
      "<re.Match object; span=(180, 181), match='2'>\n",
      "<re.Match object; span=(181, 182), match='3'>\n",
      "<re.Match object; span=(182, 183), match='2'>\n",
      "<re.Match object; span=(183, 184), match='3'>\n",
      "<re.Match object; span=(184, 185), match='4'>\n",
      "<re.Match object; span=(185, 186), match='3'>\n",
      "<re.Match object; span=(186, 187), match='5'>\n",
      "<re.Match object; span=(187, 188), match='5'>\n"
     ]
    }
   ],
   "source": [
    "pattern = re.compile(r\"[1-5-]\") # matches any (num in range 1:5 [1, 2, 3, 4, 5]) or - \n",
    "matches = pattern.finditer(text_to_search) \n",
    "\n",
    "for match in matches:\n",
    "    print(match)"
   ]
  },
  {
   "cell_type": "code",
   "execution_count": 65,
   "id": "c1c6bfa0",
   "metadata": {
    "ExecuteTime": {
     "end_time": "2022-09-04T00:04:03.544463Z",
     "start_time": "2022-09-04T00:04:03.528514Z"
    }
   },
   "outputs": [
    {
     "name": "stdout",
     "output_type": "stream",
     "text": [
      "<re.Match object; span=(0, 1), match='a'>\n",
      "<re.Match object; span=(27, 28), match='z'>\n",
      "<re.Match object; span=(69, 70), match='a'>\n",
      "<re.Match object; span=(72, 73), match='a'>\n",
      "<re.Match object; span=(74, 75), match='a'>\n",
      "<re.Match object; span=(79, 80), match='a'>\n",
      "<re.Match object; span=(82, 83), match='a'>\n",
      "<re.Match object; span=(84, 85), match='a'>\n",
      "<re.Match object; span=(106, 107), match='a'>\n",
      "<re.Match object; span=(137, 138), match='a'>\n",
      "<re.Match object; span=(142, 143), match='a'>\n",
      "<re.Match object; span=(146, 147), match='a'>\n",
      "<re.Match object; span=(150, 151), match='a'>\n",
      "<re.Match object; span=(154, 155), match='a'>\n",
      "<re.Match object; span=(158, 159), match='a'>\n",
      "<re.Match object; span=(162, 163), match='a'>\n"
     ]
    }
   ],
   "source": [
    "pattern = re.compile(r\"[az-]\") # matches a or z or - \n",
    "matches = pattern.finditer(text_to_search) \n",
    "\n",
    "for match in matches:\n",
    "    print(match)"
   ]
  },
  {
   "cell_type": "code",
   "execution_count": 67,
   "id": "220346d7",
   "metadata": {
    "ExecuteTime": {
     "end_time": "2022-09-04T00:07:42.223204Z",
     "start_time": "2022-09-04T00:07:42.216224Z"
    }
   },
   "outputs": [
    {
     "name": "stdout",
     "output_type": "stream",
     "text": [
      "<re.Match object; span=(0, 1), match='a'>\n",
      "<re.Match object; span=(1, 2), match='b'>\n",
      "<re.Match object; span=(2, 3), match='c'>\n",
      "<re.Match object; span=(3, 4), match='d'>\n",
      "<re.Match object; span=(4, 5), match='e'>\n",
      "<re.Match object; span=(5, 6), match='f'>\n",
      "<re.Match object; span=(6, 7), match='g'>\n",
      "<re.Match object; span=(7, 8), match='h'>\n",
      "<re.Match object; span=(8, 9), match='k'>\n",
      "<re.Match object; span=(9, 10), match='j'>\n",
      "<re.Match object; span=(10, 11), match='h'>\n",
      "<re.Match object; span=(11, 12), match='c'>\n",
      "<re.Match object; span=(12, 13), match='o'>\n",
      "<re.Match object; span=(13, 14), match='r'>\n",
      "<re.Match object; span=(14, 15), match='m'>\n",
      "<re.Match object; span=(15, 16), match='s'>\n",
      "<re.Match object; span=(16, 17), match='n'>\n",
      "<re.Match object; span=(17, 18), match='c'>\n",
      "<re.Match object; span=(18, 19), match='o'>\n",
      "<re.Match object; span=(19, 20), match='m'>\n",
      "<re.Match object; span=(20, 21), match='r'>\n",
      "<re.Match object; span=(21, 22), match='s'>\n",
      "<re.Match object; span=(22, 23), match='t'>\n",
      "<re.Match object; span=(23, 24), match='v'>\n",
      "<re.Match object; span=(24, 25), match='u'>\n",
      "<re.Match object; span=(25, 26), match='x'>\n",
      "<re.Match object; span=(26, 27), match='y'>\n",
      "<re.Match object; span=(27, 28), match='z'>\n",
      "<re.Match object; span=(29, 30), match='A'>\n",
      "<re.Match object; span=(30, 31), match='B'>\n",
      "<re.Match object; span=(31, 32), match='C'>\n",
      "<re.Match object; span=(32, 33), match='D'>\n",
      "<re.Match object; span=(33, 34), match='E'>\n",
      "<re.Match object; span=(34, 35), match='F'>\n",
      "<re.Match object; span=(35, 36), match='G'>\n",
      "<re.Match object; span=(36, 37), match='H'>\n",
      "<re.Match object; span=(37, 38), match='I'>\n",
      "<re.Match object; span=(38, 39), match='J'>\n",
      "<re.Match object; span=(39, 40), match='K'>\n",
      "<re.Match object; span=(40, 41), match='L'>\n",
      "<re.Match object; span=(41, 42), match='M'>\n",
      "<re.Match object; span=(42, 43), match='N'>\n",
      "<re.Match object; span=(43, 44), match='O'>\n",
      "<re.Match object; span=(44, 45), match='P'>\n",
      "<re.Match object; span=(45, 46), match='P'>\n",
      "<re.Match object; span=(46, 47), match='Q'>\n",
      "<re.Match object; span=(47, 48), match='R'>\n",
      "<re.Match object; span=(48, 49), match='S'>\n",
      "<re.Match object; span=(49, 50), match='T'>\n",
      "<re.Match object; span=(50, 51), match='V'>\n",
      "<re.Match object; span=(51, 52), match='W'>\n",
      "<re.Match object; span=(52, 53), match='X'>\n",
      "<re.Match object; span=(53, 54), match='Y'>\n",
      "<re.Match object; span=(54, 55), match='Z'>\n",
      "<re.Match object; span=(68, 69), match='H'>\n",
      "<re.Match object; span=(69, 70), match='a'>\n",
      "<re.Match object; span=(71, 72), match='H'>\n",
      "<re.Match object; span=(72, 73), match='a'>\n",
      "<re.Match object; span=(73, 74), match='H'>\n",
      "<re.Match object; span=(74, 75), match='a'>\n",
      "<re.Match object; span=(76, 77), match='M'>\n",
      "<re.Match object; span=(77, 78), match='e'>\n",
      "<re.Match object; span=(78, 79), match='t'>\n",
      "<re.Match object; span=(79, 80), match='a'>\n",
      "<re.Match object; span=(80, 81), match='C'>\n",
      "<re.Match object; span=(81, 82), match='h'>\n",
      "<re.Match object; span=(82, 83), match='a'>\n",
      "<re.Match object; span=(83, 84), match='r'>\n",
      "<re.Match object; span=(84, 85), match='a'>\n",
      "<re.Match object; span=(85, 86), match='c'>\n",
      "<re.Match object; span=(86, 87), match='t'>\n",
      "<re.Match object; span=(87, 88), match='e'>\n",
      "<re.Match object; span=(88, 89), match='r'>\n",
      "<re.Match object; span=(89, 90), match='s'>\n",
      "<re.Match object; span=(92, 93), match='N'>\n",
      "<re.Match object; span=(93, 94), match='e'>\n",
      "<re.Match object; span=(94, 95), match='e'>\n",
      "<re.Match object; span=(95, 96), match='d'>\n",
      "<re.Match object; span=(97, 98), match='t'>\n",
      "<re.Match object; span=(98, 99), match='o'>\n",
      "<re.Match object; span=(100, 101), match='b'>\n",
      "<re.Match object; span=(101, 102), match='e'>\n",
      "<re.Match object; span=(103, 104), match='e'>\n",
      "<re.Match object; span=(104, 105), match='s'>\n",
      "<re.Match object; span=(105, 106), match='c'>\n",
      "<re.Match object; span=(106, 107), match='a'>\n",
      "<re.Match object; span=(107, 108), match='p'>\n",
      "<re.Match object; span=(108, 109), match='e'>\n",
      "<re.Match object; span=(109, 110), match='d'>\n",
      "<re.Match object; span=(114, 115), match='^'>\n",
      "<re.Match object; span=(127, 128), match='['>\n",
      "<re.Match object; span=(128, 129), match=']'>\n",
      "<re.Match object; span=(130, 131), match='\\\\'>\n",
      "<re.Match object; span=(137, 138), match='a'>\n",
      "<re.Match object; span=(138, 139), match='b'>\n",
      "<re.Match object; span=(139, 140), match='c'>\n",
      "<re.Match object; span=(141, 142), match='c'>\n",
      "<re.Match object; span=(142, 143), match='a'>\n",
      "<re.Match object; span=(143, 144), match='t'>\n",
      "<re.Match object; span=(145, 146), match='m'>\n",
      "<re.Match object; span=(146, 147), match='a'>\n",
      "<re.Match object; span=(147, 148), match='t'>\n",
      "<re.Match object; span=(149, 150), match='h'>\n",
      "<re.Match object; span=(150, 151), match='a'>\n",
      "<re.Match object; span=(151, 152), match='t'>\n",
      "<re.Match object; span=(153, 154), match='b'>\n",
      "<re.Match object; span=(154, 155), match='a'>\n",
      "<re.Match object; span=(155, 156), match='t'>\n",
      "<re.Match object; span=(157, 158), match='f'>\n",
      "<re.Match object; span=(158, 159), match='a'>\n",
      "<re.Match object; span=(159, 160), match='t'>\n",
      "<re.Match object; span=(161, 162), match='s'>\n",
      "<re.Match object; span=(162, 163), match='a'>\n",
      "<re.Match object; span=(163, 164), match='t'>\n"
     ]
    }
   ],
   "source": [
    "pattern = re.compile(r\"[A-z]\") # matches a:z and A:Z && some symbols betwwen them according to ASCII CODE\n",
    "matches = pattern.finditer(text_to_search) \n",
    "\n",
    "for match in matches:\n",
    "    print(match)"
   ]
  },
  {
   "cell_type": "code",
   "execution_count": 69,
   "id": "772bbf1e",
   "metadata": {
    "ExecuteTime": {
     "end_time": "2022-09-04T00:10:18.315704Z",
     "start_time": "2022-09-04T00:10:18.305730Z"
    }
   },
   "outputs": [
    {
     "name": "stdout",
     "output_type": "stream",
     "text": [
      "<re.Match object; span=(0, 1), match='a'>\n",
      "<re.Match object; span=(1, 2), match='b'>\n",
      "<re.Match object; span=(2, 3), match='c'>\n",
      "<re.Match object; span=(3, 4), match='d'>\n",
      "<re.Match object; span=(4, 5), match='e'>\n",
      "<re.Match object; span=(5, 6), match='f'>\n",
      "<re.Match object; span=(6, 7), match='g'>\n",
      "<re.Match object; span=(7, 8), match='h'>\n",
      "<re.Match object; span=(8, 9), match='k'>\n",
      "<re.Match object; span=(9, 10), match='j'>\n",
      "<re.Match object; span=(10, 11), match='h'>\n",
      "<re.Match object; span=(11, 12), match='c'>\n",
      "<re.Match object; span=(12, 13), match='o'>\n",
      "<re.Match object; span=(13, 14), match='r'>\n",
      "<re.Match object; span=(14, 15), match='m'>\n",
      "<re.Match object; span=(15, 16), match='s'>\n",
      "<re.Match object; span=(16, 17), match='n'>\n",
      "<re.Match object; span=(17, 18), match='c'>\n",
      "<re.Match object; span=(18, 19), match='o'>\n",
      "<re.Match object; span=(19, 20), match='m'>\n",
      "<re.Match object; span=(20, 21), match='r'>\n",
      "<re.Match object; span=(21, 22), match='s'>\n",
      "<re.Match object; span=(22, 23), match='t'>\n",
      "<re.Match object; span=(23, 24), match='v'>\n",
      "<re.Match object; span=(24, 25), match='u'>\n",
      "<re.Match object; span=(25, 26), match='x'>\n",
      "<re.Match object; span=(26, 27), match='y'>\n",
      "<re.Match object; span=(27, 28), match='z'>\n",
      "<re.Match object; span=(29, 30), match='A'>\n",
      "<re.Match object; span=(30, 31), match='B'>\n",
      "<re.Match object; span=(31, 32), match='C'>\n",
      "<re.Match object; span=(32, 33), match='D'>\n",
      "<re.Match object; span=(33, 34), match='E'>\n",
      "<re.Match object; span=(34, 35), match='F'>\n",
      "<re.Match object; span=(35, 36), match='G'>\n",
      "<re.Match object; span=(36, 37), match='H'>\n",
      "<re.Match object; span=(37, 38), match='I'>\n",
      "<re.Match object; span=(38, 39), match='J'>\n",
      "<re.Match object; span=(39, 40), match='K'>\n",
      "<re.Match object; span=(40, 41), match='L'>\n",
      "<re.Match object; span=(41, 42), match='M'>\n",
      "<re.Match object; span=(42, 43), match='N'>\n",
      "<re.Match object; span=(43, 44), match='O'>\n",
      "<re.Match object; span=(44, 45), match='P'>\n",
      "<re.Match object; span=(45, 46), match='P'>\n",
      "<re.Match object; span=(46, 47), match='Q'>\n",
      "<re.Match object; span=(47, 48), match='R'>\n",
      "<re.Match object; span=(48, 49), match='S'>\n",
      "<re.Match object; span=(49, 50), match='T'>\n",
      "<re.Match object; span=(50, 51), match='V'>\n",
      "<re.Match object; span=(51, 52), match='W'>\n",
      "<re.Match object; span=(52, 53), match='X'>\n",
      "<re.Match object; span=(53, 54), match='Y'>\n",
      "<re.Match object; span=(54, 55), match='Z'>\n",
      "<re.Match object; span=(68, 69), match='H'>\n",
      "<re.Match object; span=(69, 70), match='a'>\n",
      "<re.Match object; span=(71, 72), match='H'>\n",
      "<re.Match object; span=(72, 73), match='a'>\n",
      "<re.Match object; span=(73, 74), match='H'>\n",
      "<re.Match object; span=(74, 75), match='a'>\n",
      "<re.Match object; span=(76, 77), match='M'>\n",
      "<re.Match object; span=(77, 78), match='e'>\n",
      "<re.Match object; span=(78, 79), match='t'>\n",
      "<re.Match object; span=(79, 80), match='a'>\n",
      "<re.Match object; span=(80, 81), match='C'>\n",
      "<re.Match object; span=(81, 82), match='h'>\n",
      "<re.Match object; span=(82, 83), match='a'>\n",
      "<re.Match object; span=(83, 84), match='r'>\n",
      "<re.Match object; span=(84, 85), match='a'>\n",
      "<re.Match object; span=(85, 86), match='c'>\n",
      "<re.Match object; span=(86, 87), match='t'>\n",
      "<re.Match object; span=(87, 88), match='e'>\n",
      "<re.Match object; span=(88, 89), match='r'>\n",
      "<re.Match object; span=(89, 90), match='s'>\n",
      "<re.Match object; span=(92, 93), match='N'>\n",
      "<re.Match object; span=(93, 94), match='e'>\n",
      "<re.Match object; span=(94, 95), match='e'>\n",
      "<re.Match object; span=(95, 96), match='d'>\n",
      "<re.Match object; span=(97, 98), match='t'>\n",
      "<re.Match object; span=(98, 99), match='o'>\n",
      "<re.Match object; span=(100, 101), match='b'>\n",
      "<re.Match object; span=(101, 102), match='e'>\n",
      "<re.Match object; span=(103, 104), match='e'>\n",
      "<re.Match object; span=(104, 105), match='s'>\n",
      "<re.Match object; span=(105, 106), match='c'>\n",
      "<re.Match object; span=(106, 107), match='a'>\n",
      "<re.Match object; span=(107, 108), match='p'>\n",
      "<re.Match object; span=(108, 109), match='e'>\n",
      "<re.Match object; span=(109, 110), match='d'>\n",
      "<re.Match object; span=(137, 138), match='a'>\n",
      "<re.Match object; span=(138, 139), match='b'>\n",
      "<re.Match object; span=(139, 140), match='c'>\n",
      "<re.Match object; span=(141, 142), match='c'>\n",
      "<re.Match object; span=(142, 143), match='a'>\n",
      "<re.Match object; span=(143, 144), match='t'>\n",
      "<re.Match object; span=(145, 146), match='m'>\n",
      "<re.Match object; span=(146, 147), match='a'>\n",
      "<re.Match object; span=(147, 148), match='t'>\n",
      "<re.Match object; span=(149, 150), match='h'>\n",
      "<re.Match object; span=(150, 151), match='a'>\n",
      "<re.Match object; span=(151, 152), match='t'>\n",
      "<re.Match object; span=(153, 154), match='b'>\n",
      "<re.Match object; span=(154, 155), match='a'>\n",
      "<re.Match object; span=(155, 156), match='t'>\n",
      "<re.Match object; span=(157, 158), match='f'>\n",
      "<re.Match object; span=(158, 159), match='a'>\n",
      "<re.Match object; span=(159, 160), match='t'>\n",
      "<re.Match object; span=(161, 162), match='s'>\n",
      "<re.Match object; span=(162, 163), match='a'>\n",
      "<re.Match object; span=(163, 164), match='t'>\n"
     ]
    }
   ],
   "source": [
    "pattern = re.compile(r\"[a-zA-Z]\") # matches a:z and A:Z without any symbols betwwen them\n",
    "matches = pattern.finditer(text_to_search) \n",
    "\n",
    "for match in matches:\n",
    "    print(match)"
   ]
  },
  {
   "cell_type": "code",
   "execution_count": 70,
   "id": "6188cba3",
   "metadata": {
    "ExecuteTime": {
     "end_time": "2022-09-04T00:12:25.809079Z",
     "start_time": "2022-09-04T00:12:25.799114Z"
    }
   },
   "outputs": [
    {
     "name": "stdout",
     "output_type": "stream",
     "text": [
      "<re.Match object; span=(0, 1), match='a'>\n",
      "<re.Match object; span=(1, 2), match='b'>\n",
      "<re.Match object; span=(2, 3), match='c'>\n",
      "<re.Match object; span=(3, 4), match='d'>\n",
      "<re.Match object; span=(4, 5), match='e'>\n",
      "<re.Match object; span=(5, 6), match='f'>\n",
      "<re.Match object; span=(6, 7), match='g'>\n",
      "<re.Match object; span=(7, 8), match='h'>\n",
      "<re.Match object; span=(8, 9), match='k'>\n",
      "<re.Match object; span=(9, 10), match='j'>\n",
      "<re.Match object; span=(10, 11), match='h'>\n",
      "<re.Match object; span=(11, 12), match='c'>\n",
      "<re.Match object; span=(12, 13), match='o'>\n",
      "<re.Match object; span=(13, 14), match='r'>\n",
      "<re.Match object; span=(14, 15), match='m'>\n",
      "<re.Match object; span=(15, 16), match='s'>\n",
      "<re.Match object; span=(16, 17), match='n'>\n",
      "<re.Match object; span=(17, 18), match='c'>\n",
      "<re.Match object; span=(18, 19), match='o'>\n",
      "<re.Match object; span=(19, 20), match='m'>\n",
      "<re.Match object; span=(20, 21), match='r'>\n",
      "<re.Match object; span=(21, 22), match='s'>\n",
      "<re.Match object; span=(22, 23), match='t'>\n",
      "<re.Match object; span=(23, 24), match='v'>\n",
      "<re.Match object; span=(24, 25), match='u'>\n",
      "<re.Match object; span=(25, 26), match='x'>\n",
      "<re.Match object; span=(26, 27), match='y'>\n",
      "<re.Match object; span=(27, 28), match='z'>\n",
      "<re.Match object; span=(29, 30), match='A'>\n",
      "<re.Match object; span=(30, 31), match='B'>\n",
      "<re.Match object; span=(31, 32), match='C'>\n",
      "<re.Match object; span=(32, 33), match='D'>\n",
      "<re.Match object; span=(33, 34), match='E'>\n",
      "<re.Match object; span=(34, 35), match='F'>\n",
      "<re.Match object; span=(35, 36), match='G'>\n",
      "<re.Match object; span=(36, 37), match='H'>\n",
      "<re.Match object; span=(37, 38), match='I'>\n",
      "<re.Match object; span=(38, 39), match='J'>\n",
      "<re.Match object; span=(39, 40), match='K'>\n",
      "<re.Match object; span=(40, 41), match='L'>\n",
      "<re.Match object; span=(41, 42), match='M'>\n",
      "<re.Match object; span=(42, 43), match='N'>\n",
      "<re.Match object; span=(43, 44), match='O'>\n",
      "<re.Match object; span=(44, 45), match='P'>\n",
      "<re.Match object; span=(45, 46), match='P'>\n",
      "<re.Match object; span=(46, 47), match='Q'>\n",
      "<re.Match object; span=(47, 48), match='R'>\n",
      "<re.Match object; span=(48, 49), match='S'>\n",
      "<re.Match object; span=(49, 50), match='T'>\n",
      "<re.Match object; span=(50, 51), match='V'>\n",
      "<re.Match object; span=(51, 52), match='W'>\n",
      "<re.Match object; span=(52, 53), match='X'>\n",
      "<re.Match object; span=(53, 54), match='Y'>\n",
      "<re.Match object; span=(54, 55), match='Z'>\n",
      "<re.Match object; span=(68, 69), match='H'>\n",
      "<re.Match object; span=(69, 70), match='a'>\n",
      "<re.Match object; span=(71, 72), match='H'>\n",
      "<re.Match object; span=(72, 73), match='a'>\n",
      "<re.Match object; span=(73, 74), match='H'>\n",
      "<re.Match object; span=(74, 75), match='a'>\n",
      "<re.Match object; span=(76, 77), match='M'>\n",
      "<re.Match object; span=(77, 78), match='e'>\n",
      "<re.Match object; span=(78, 79), match='t'>\n",
      "<re.Match object; span=(79, 80), match='a'>\n",
      "<re.Match object; span=(80, 81), match='C'>\n",
      "<re.Match object; span=(81, 82), match='h'>\n",
      "<re.Match object; span=(82, 83), match='a'>\n",
      "<re.Match object; span=(83, 84), match='r'>\n",
      "<re.Match object; span=(84, 85), match='a'>\n",
      "<re.Match object; span=(85, 86), match='c'>\n",
      "<re.Match object; span=(86, 87), match='t'>\n",
      "<re.Match object; span=(87, 88), match='e'>\n",
      "<re.Match object; span=(88, 89), match='r'>\n",
      "<re.Match object; span=(89, 90), match='s'>\n",
      "<re.Match object; span=(92, 93), match='N'>\n",
      "<re.Match object; span=(93, 94), match='e'>\n",
      "<re.Match object; span=(94, 95), match='e'>\n",
      "<re.Match object; span=(95, 96), match='d'>\n",
      "<re.Match object; span=(97, 98), match='t'>\n",
      "<re.Match object; span=(98, 99), match='o'>\n",
      "<re.Match object; span=(100, 101), match='b'>\n",
      "<re.Match object; span=(101, 102), match='e'>\n",
      "<re.Match object; span=(103, 104), match='e'>\n",
      "<re.Match object; span=(104, 105), match='s'>\n",
      "<re.Match object; span=(105, 106), match='c'>\n",
      "<re.Match object; span=(106, 107), match='a'>\n",
      "<re.Match object; span=(107, 108), match='p'>\n",
      "<re.Match object; span=(108, 109), match='e'>\n",
      "<re.Match object; span=(109, 110), match='d'>\n",
      "<re.Match object; span=(137, 138), match='a'>\n",
      "<re.Match object; span=(138, 139), match='b'>\n",
      "<re.Match object; span=(139, 140), match='c'>\n",
      "<re.Match object; span=(141, 142), match='c'>\n",
      "<re.Match object; span=(142, 143), match='a'>\n",
      "<re.Match object; span=(143, 144), match='t'>\n",
      "<re.Match object; span=(145, 146), match='m'>\n",
      "<re.Match object; span=(146, 147), match='a'>\n",
      "<re.Match object; span=(147, 148), match='t'>\n",
      "<re.Match object; span=(149, 150), match='h'>\n",
      "<re.Match object; span=(150, 151), match='a'>\n",
      "<re.Match object; span=(151, 152), match='t'>\n",
      "<re.Match object; span=(153, 154), match='b'>\n",
      "<re.Match object; span=(154, 155), match='a'>\n",
      "<re.Match object; span=(155, 156), match='t'>\n",
      "<re.Match object; span=(157, 158), match='f'>\n",
      "<re.Match object; span=(158, 159), match='a'>\n",
      "<re.Match object; span=(159, 160), match='t'>\n",
      "<re.Match object; span=(161, 162), match='s'>\n",
      "<re.Match object; span=(162, 163), match='a'>\n",
      "<re.Match object; span=(163, 164), match='t'>\n"
     ]
    }
   ],
   "source": [
    "pattern = re.compile(r\"[a-zA-Z]\") # matches anything not in range (a:z) and (A:Z) without any symbols betwwen them\n",
    "matches = pattern.finditer(text_to_search)     # ^ = not\n",
    "\n",
    "for match in matches:\n",
    "    print(match)"
   ]
  },
  {
   "cell_type": "code",
   "execution_count": 72,
   "id": "0215fae3",
   "metadata": {
    "ExecuteTime": {
     "end_time": "2022-09-04T00:14:00.281112Z",
     "start_time": "2022-09-04T00:14:00.275162Z"
    }
   },
   "outputs": [
    {
     "name": "stdout",
     "output_type": "stream",
     "text": [
      "<re.Match object; span=(145, 148), match='mat'>\n",
      "<re.Match object; span=(149, 152), match='hat'>\n",
      "<re.Match object; span=(153, 156), match='bat'>\n",
      "<re.Match object; span=(157, 160), match='fat'>\n",
      "<re.Match object; span=(161, 164), match='sat'>\n"
     ]
    }
   ],
   "source": [
    "pattern = re.compile(r\"[^c]at\") # matches anything not c+(at)\n",
    "matches = pattern.finditer(text_to_search) \n",
    "\n",
    "for match in matches:\n",
    "    print(match)"
   ]
  },
  {
   "cell_type": "code",
   "execution_count": null,
   "id": "4c1deaee",
   "metadata": {},
   "outputs": [],
   "source": [
    "# character set (Quantifier)\n",
    "pattern = re.compile(r\"/d{3}-/d{3}-/d{4}\") # matches 3digits-3digits-4digits, like 321-564-8989\n",
    "matches = pattern.finditer(text_to_search) \n",
    "\n",
    "for match in matches:\n",
    "    print(match)"
   ]
  },
  {
   "cell_type": "code",
   "execution_count": 76,
   "id": "38d3cfcc",
   "metadata": {
    "ExecuteTime": {
     "end_time": "2022-09-04T00:19:24.183974Z",
     "start_time": "2022-09-04T00:19:24.175000Z"
    }
   },
   "outputs": [],
   "source": [
    "# character set (Quantifier)\n",
    "pattern = re.compile(r\"/d{3}[-*]/d{3}[-*]/d{4}\") # matches 3digits-||*3digits-||*4digits, like 321-564-8989 or 321*564*8989\n",
    "matches = pattern.finditer(text_to_search)                                                   # 321-564*8989 or 321*564-8989\n",
    "\n",
    "for match in matches:\n",
    "    print(match)"
   ]
  },
  {
   "cell_type": "code",
   "execution_count": 77,
   "id": "15bd5309",
   "metadata": {
    "ExecuteTime": {
     "end_time": "2022-09-04T00:20:05.760470Z",
     "start_time": "2022-09-04T00:20:05.742518Z"
    }
   },
   "outputs": [],
   "source": [
    "# character set (Quantifier)\n",
    "pattern = re.compile(r\"Mr.\") # matches Mr anything\n",
    "matches = pattern.finditer(text_to_search) \n",
    "\n",
    "for match in matches:\n",
    "    print(match)"
   ]
  },
  {
   "cell_type": "code",
   "execution_count": 79,
   "id": "489433cf",
   "metadata": {
    "ExecuteTime": {
     "end_time": "2022-09-04T00:21:35.628084Z",
     "start_time": "2022-09-04T00:21:35.612114Z"
    }
   },
   "outputs": [],
   "source": [
    "# character set (Quantifier)\n",
    "pattern = re.compile(r\"Mr\\.\") # matches Mr.\n",
    "matches = pattern.finditer(text_to_search) \n",
    "\n",
    "for match in matches:\n",
    "    print(match)"
   ]
  },
  {
   "cell_type": "code",
   "execution_count": 100,
   "id": "1d81ca5f",
   "metadata": {
    "ExecuteTime": {
     "end_time": "2022-09-04T01:03:14.277706Z",
     "start_time": "2022-09-04T01:03:14.267711Z"
    }
   },
   "outputs": [],
   "source": [
    "# character set (Quantifier)\n",
    "pattern = re.compile(r\"Mr\\.?\\s[A-Z]?\\w{3}\") \n",
    "matches = pattern.finditer(text_to_search) \n",
    "\n",
    "for match in matches:\n",
    "    print(match)\n",
    "# Mr[.]\" \"[A-Z]? (uppwe or lower or digits or underscores) like: (Mr. Smhx) or (Mr Smhx)....  "
   ]
  },
  {
   "cell_type": "code",
   "execution_count": 99,
   "id": "600de32e",
   "metadata": {
    "ExecuteTime": {
     "end_time": "2022-09-04T01:02:55.697391Z",
     "start_time": "2022-09-04T01:02:55.692434Z"
    }
   },
   "outputs": [],
   "source": [
    "# character set (Quantifier)\n",
    "pattern = re.compile(r\"Mr\\.?\\s[A-Z]?\\w+\") # /w = anytime != 0\n",
    "matches = pattern.finditer(text_to_search) \n",
    "\n",
    "for match in matches:\n",
    "    print(match)\n",
    "# Mr[.]\" \"[A-Z]? (uppwe or lower or digits or underscores) like: (Mr. Smhx) or (Mr Smnrefu) or (Mr. T).....   "
   ]
  },
  {
   "cell_type": "code",
   "execution_count": 85,
   "id": "5fea8462",
   "metadata": {
    "ExecuteTime": {
     "end_time": "2022-09-04T00:45:59.897427Z",
     "start_time": "2022-09-04T00:45:59.892434Z"
    }
   },
   "outputs": [],
   "source": [
    "# character set (Quantifier)\n",
    "pattern = re.compile(r\"M(s|r|rs)\\.?\\s[A-Z]?\\w+\") \n",
    "matches = pattern.finditer(text_to_search) \n",
    "\n",
    "for match in matches:\n",
    "    print(match)\n",
    "# like: (Mr. Sklmerf), (Mr Sklmerf), (Ms. DJHGKI), (MS DFljhb), (Mrs. Vkf)...   "
   ]
  },
  {
   "cell_type": "code",
   "execution_count": 98,
   "id": "5167604f",
   "metadata": {
    "ExecuteTime": {
     "end_time": "2022-09-04T01:02:19.419317Z",
     "start_time": "2022-09-04T01:02:19.405768Z"
    }
   },
   "outputs": [
    {
     "name": "stdout",
     "output_type": "stream",
     "text": [
      "<re.Match object; span=(0, 67), match='abcdefghkjhcormsncomrstvuxyz\\nABCDEFGHIJKLMNOPPQR>\n",
      "<re.Match object; span=(68, 90), match='Ha HaHa\\nMetaCharacters'>\n",
      "<re.Match object; span=(92, 102), match='Need to be'>\n",
      "<re.Match object; span=(137, 148), match='abc\\ncat\\nmat'>\n",
      "<re.Match object; span=(149, 160), match='hat\\nbat\\nfat'>\n",
      "<re.Match object; span=(161, 188), match='sat\\n01092329340\\n01123234355'>\n"
     ]
    }
   ],
   "source": [
    "# character set (Quantifier)\n",
    "pattern = re.compile(r\"\\w+\\s\\w+\\s\\w+\") # matches any num of digits\" \"any num of digits\" \"any num of digits\n",
    "matches = pattern.finditer(text_to_search) #like: Ahmed Ali Ebrahim , Ahmed Essam Mohamed\n",
    "\n",
    "for match in matches:\n",
    "    print(match)"
   ]
  },
  {
   "cell_type": "code",
   "execution_count": 91,
   "id": "1ab8c4f9",
   "metadata": {
    "ExecuteTime": {
     "end_time": "2022-09-04T00:56:18.149075Z",
     "start_time": "2022-09-04T00:56:18.139103Z"
    }
   },
   "outputs": [
    {
     "name": "stdout",
     "output_type": "stream",
     "text": [
      "<re.Match object; span=(1, 24), match='CoreyMSchafer@gmail.com'>\n"
     ]
    }
   ],
   "source": [
    "emails = '''\n",
    "CoreyMSchafer@gmail.com\n",
    "corey.schafer@university.edu\n",
    "corey-321-schafer@my-work.net\n",
    "'''\n",
    "pattern = re.compile(r\"[a-zA-Z]+@[a-zA-Z]+\\.com\") # email(.com)\n",
    "matches = pattern.finditer(emails) \n",
    "\n",
    "for match in matches:\n",
    "    print(match)"
   ]
  },
  {
   "cell_type": "code",
   "execution_count": 92,
   "id": "858f8a25",
   "metadata": {
    "ExecuteTime": {
     "end_time": "2022-09-04T00:57:06.936587Z",
     "start_time": "2022-09-04T00:57:06.926592Z"
    }
   },
   "outputs": [
    {
     "name": "stdout",
     "output_type": "stream",
     "text": [
      "<re.Match object; span=(1, 24), match='CoreyMSchafer@gmail.com'>\n",
      "<re.Match object; span=(31, 53), match='schafer@university.edu'>\n"
     ]
    }
   ],
   "source": [
    "emails = '''\n",
    "CoreyMSchafer@gmail.com\n",
    "corey.schafer@university.edu\n",
    "corey-321-schafer@my-work.net\n",
    "'''\n",
    "pattern = re.compile(r\"[a-zA-Z]+@[a-zA-Z]+\\.(com|edu|net)\") # email(.com) or # email(.edu) or # email(.net)\n",
    "matches = pattern.finditer(emails) \n",
    "\n",
    "for match in matches:\n",
    "    print(match)"
   ]
  },
  {
   "cell_type": "code",
   "execution_count": 93,
   "id": "a51a9e3e",
   "metadata": {
    "ExecuteTime": {
     "end_time": "2022-09-04T00:58:14.727964Z",
     "start_time": "2022-09-04T00:58:14.707972Z"
    }
   },
   "outputs": [
    {
     "name": "stdout",
     "output_type": "stream",
     "text": [
      "<re.Match object; span=(1, 24), match='CoreyMSchafer@gmail.com'>\n",
      "<re.Match object; span=(31, 53), match='schafer@university.edu'>\n"
     ]
    }
   ],
   "source": [
    "emails = '''\n",
    "CoreyMSchafer@gmail.com\n",
    "corey.schafer@university.edu\n",
    "corey-321-schafer@my-work.net\n",
    "'''\n",
    "pattern = re.compile(r\"[a-zA-Z]+@[a-zA-Z]+\\.\\w{3}\") #will get all emails excpt email(.work)\n",
    "matches = pattern.finditer(emails) \n",
    "\n",
    "for match in matches:\n",
    "    print(match)"
   ]
  },
  {
   "cell_type": "code",
   "execution_count": 94,
   "id": "0a938f3f",
   "metadata": {
    "ExecuteTime": {
     "end_time": "2022-09-04T01:00:19.626855Z",
     "start_time": "2022-09-04T01:00:19.606863Z"
    }
   },
   "outputs": [
    {
     "name": "stdout",
     "output_type": "stream",
     "text": [
      "<re.Match object; span=(1, 24), match='CoreyMSchafer@gmail.com'>\n",
      "<re.Match object; span=(25, 53), match='corey.schafer@university.edu'>\n",
      "<re.Match object; span=(54, 83), match='corey-321-schafer@my-work.net'>\n"
     ]
    }
   ],
   "source": [
    "emails = '''\n",
    "CoreyMSchafer@gmail.com\n",
    "corey.schafer@university.edu\n",
    "corey-321-schafer@my-work.net\n",
    "'''\n",
    "pattern = re.compile(r\"[a-zA-Z0-9_.+-]+@[a-zA-Z0-9-]+\\.[a-zA-Z0-9-.]+\") # to check any eamil (will get any email)\n",
    "matches = pattern.finditer(emails) \n",
    "\n",
    "for match in matches:\n",
    "    print(match)"
   ]
  }
 ],
 "metadata": {
  "kernelspec": {
   "display_name": "Python 3 (ipykernel)",
   "language": "python",
   "name": "python3"
  },
  "language_info": {
   "codemirror_mode": {
    "name": "ipython",
    "version": 3
   },
   "file_extension": ".py",
   "mimetype": "text/x-python",
   "name": "python",
   "nbconvert_exporter": "python",
   "pygments_lexer": "ipython3",
   "version": "3.9.12"
  }
 },
 "nbformat": 4,
 "nbformat_minor": 5
}
