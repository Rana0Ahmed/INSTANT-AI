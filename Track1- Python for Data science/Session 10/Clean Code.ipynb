{
 "cells": [
  {
   "cell_type": "markdown",
   "id": "87fea569",
   "metadata": {},
   "source": [
    "# Spaghetti Code vs. Clean Code"
   ]
  },
  {
   "cell_type": "markdown",
   "id": "5f93fe0c",
   "metadata": {},
   "source": [
    "## EX for Spaghetti Code: "
   ]
  },
  {
   "cell_type": "code",
   "execution_count": 3,
   "id": "3a4a1263",
   "metadata": {
    "ExecuteTime": {
     "end_time": "2022-09-03T08:34:50.593848Z",
     "start_time": "2022-09-03T08:34:42.155913Z"
    }
   },
   "outputs": [
    {
     "name": "stdout",
     "output_type": "stream",
     "text": [
      "we gonna divide some nums\n",
      "enter first number: 12\n",
      "enter second number: 2\n",
      "the answer is:  6\n"
     ]
    }
   ],
   "source": [
    "import time\n",
    "\n",
    "letters = \"we gonna divide some nums\"\n",
    "n1=\"enter first number: \"\n",
    "n2=\"enter second number: \"\n",
    "\n",
    "print(letters)\n",
    "\n",
    "a=float(input(n1))\n",
    "b=float(input(n2))\n",
    "\n",
    "add_used = 0\n",
    "\n",
    "# fun to add\n",
    "def add(a, b):\n",
    "    global add_used\n",
    "    add_used += 1\n",
    "    return a + b\n",
    "\n",
    "# fun to divide\n",
    "def divide(a, b):\n",
    "    quotient = 0\n",
    "    c = 0\n",
    "    d = 0\n",
    "    while add(d, b) <= a:\n",
    "        c = add(c, 1)\n",
    "        d = add(d, b)\n",
    "    return c\n",
    "\n",
    "print(\"the answer is: \",divide(a, b))\n",
    "\n",
    "time.sleep(3)"
   ]
  },
  {
   "cell_type": "markdown",
   "id": "8477d784",
   "metadata": {},
   "source": [
    "## EX for Clean Code: "
   ]
  },
  {
   "cell_type": "code",
   "execution_count": 2,
   "id": "5bdd5a90",
   "metadata": {
    "ExecuteTime": {
     "end_time": "2022-09-03T08:30:42.294591Z",
     "start_time": "2022-09-03T08:30:30.786582Z"
    }
   },
   "outputs": [
    {
     "name": "stdout",
     "output_type": "stream",
     "text": [
      "divide two numbers\n",
      "enter first number: 12\n",
      "enter number to divide by: 2\n",
      "the answer is:  6\n"
     ]
    }
   ],
   "source": [
    "import time\n",
    "\n",
    "print('divide two numbers')\n",
    "\n",
    "# get the user to enter in some integers\n",
    "x=int(input('enter first number: '))\n",
    "y=int(input('enter number to divide by: '))\n",
    "\n",
    "print('the answer is: ',int(x/y)),\n",
    "\n",
    "time.sleep(3) #delay of a few seconds before closing"
   ]
  }
 ],
 "metadata": {
  "kernelspec": {
   "display_name": "Python 3 (ipykernel)",
   "language": "python",
   "name": "python3"
  },
  "language_info": {
   "codemirror_mode": {
    "name": "ipython",
    "version": 3
   },
   "file_extension": ".py",
   "mimetype": "text/x-python",
   "name": "python",
   "nbconvert_exporter": "python",
   "pygments_lexer": "ipython3",
   "version": "3.9.12"
  }
 },
 "nbformat": 4,
 "nbformat_minor": 5
}
