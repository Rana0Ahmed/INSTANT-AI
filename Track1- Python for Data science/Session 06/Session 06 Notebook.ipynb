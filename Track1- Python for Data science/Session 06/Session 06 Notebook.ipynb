{
 "cells": [
  {
   "cell_type": "code",
   "execution_count": 1,
   "id": "1ca35ed5",
   "metadata": {
    "ExecuteTime": {
     "end_time": "2022-08-30T05:20:25.763952Z",
     "start_time": "2022-08-30T05:20:25.739984Z"
    }
   },
   "outputs": [],
   "source": [
    "import math  # We use import to import and use libiraries in Python\n",
    "# Here we imported whole libirary math"
   ]
  },
  {
   "cell_type": "code",
   "execution_count": 2,
   "id": "7876024c",
   "metadata": {
    "ExecuteTime": {
     "end_time": "2022-08-30T05:20:25.779932Z",
     "start_time": "2022-08-30T05:20:25.763952Z"
    }
   },
   "outputs": [
    {
     "data": {
      "text/plain": [
       "3.141592653589793"
      ]
     },
     "execution_count": 2,
     "metadata": {},
     "output_type": "execute_result"
    }
   ],
   "source": [
    "math.pi"
   ]
  },
  {
   "cell_type": "code",
   "execution_count": 3,
   "id": "adff8bea",
   "metadata": {
    "ExecuteTime": {
     "end_time": "2022-08-30T05:20:25.795912Z",
     "start_time": "2022-08-30T05:20:25.779932Z"
    }
   },
   "outputs": [],
   "source": [
    "from math import pi\n",
    "# Here we imported only pi from libirary math "
   ]
  },
  {
   "cell_type": "code",
   "execution_count": 4,
   "id": "efa0023e",
   "metadata": {
    "ExecuteTime": {
     "end_time": "2022-08-30T05:20:25.811888Z",
     "start_time": "2022-08-30T05:20:25.799906Z"
    }
   },
   "outputs": [
    {
     "data": {
      "text/plain": [
       "3.141592653589793"
      ]
     },
     "execution_count": 4,
     "metadata": {},
     "output_type": "execute_result"
    }
   ],
   "source": [
    "pi"
   ]
  },
  {
   "cell_type": "code",
   "execution_count": 5,
   "id": "8052e9f9",
   "metadata": {
    "ExecuteTime": {
     "end_time": "2022-08-30T05:20:25.827869Z",
     "start_time": "2022-08-30T05:20:25.811888Z"
    }
   },
   "outputs": [
    {
     "data": {
      "text/plain": [
       "5.0"
      ]
     },
     "execution_count": 5,
     "metadata": {},
     "output_type": "execute_result"
    }
   ],
   "source": [
    "math.sqrt(25)"
   ]
  },
  {
   "cell_type": "code",
   "execution_count": 6,
   "id": "c67158ee",
   "metadata": {
    "ExecuteTime": {
     "end_time": "2022-08-30T05:20:25.843846Z",
     "start_time": "2022-08-30T05:20:25.827869Z"
    }
   },
   "outputs": [],
   "source": [
    "from math import sqrt"
   ]
  },
  {
   "cell_type": "code",
   "execution_count": 7,
   "id": "a473bd74",
   "metadata": {
    "ExecuteTime": {
     "end_time": "2022-08-30T05:20:25.859825Z",
     "start_time": "2022-08-30T05:20:25.843846Z"
    }
   },
   "outputs": [],
   "source": [
    "from math import sqrt as gzr #We use 'gzr' as an alias name for 'sqrt' "
   ]
  },
  {
   "cell_type": "code",
   "execution_count": 8,
   "id": "77b09a91",
   "metadata": {
    "ExecuteTime": {
     "end_time": "2022-08-30T05:20:25.875803Z",
     "start_time": "2022-08-30T05:20:25.859825Z"
    }
   },
   "outputs": [
    {
     "data": {
      "text/plain": [
       "5.0"
      ]
     },
     "execution_count": 8,
     "metadata": {},
     "output_type": "execute_result"
    }
   ],
   "source": [
    "sqrt(25)"
   ]
  },
  {
   "cell_type": "code",
   "execution_count": 9,
   "id": "0a19ca18",
   "metadata": {
    "ExecuteTime": {
     "end_time": "2022-08-30T05:20:25.891781Z",
     "start_time": "2022-08-30T05:20:25.875803Z"
    }
   },
   "outputs": [
    {
     "data": {
      "text/plain": [
       "5.0"
      ]
     },
     "execution_count": 9,
     "metadata": {},
     "output_type": "execute_result"
    }
   ],
   "source": [
    "gzr(25)"
   ]
  },
  {
   "cell_type": "code",
   "execution_count": 10,
   "id": "e4cde04f",
   "metadata": {
    "ExecuteTime": {
     "end_time": "2022-08-30T05:20:25.907760Z",
     "start_time": "2022-08-30T05:20:25.895777Z"
    }
   },
   "outputs": [],
   "source": [
    "import mydslib"
   ]
  },
  {
   "cell_type": "code",
   "execution_count": 11,
   "id": "30c30d8f",
   "metadata": {
    "ExecuteTime": {
     "end_time": "2022-08-30T05:20:25.923738Z",
     "start_time": "2022-08-30T05:20:25.907760Z"
    }
   },
   "outputs": [
    {
     "data": {
      "text/plain": [
       "[20, 10, 12, 14, 6]"
      ]
     },
     "execution_count": 11,
     "metadata": {},
     "output_type": "execute_result"
    }
   ],
   "source": [
    "mydslib.mylist"
   ]
  },
  {
   "cell_type": "code",
   "execution_count": 12,
   "id": "bd88c21f",
   "metadata": {
    "ExecuteTime": {
     "end_time": "2022-08-30T05:20:25.939718Z",
     "start_time": "2022-08-30T05:20:25.923738Z"
    }
   },
   "outputs": [
    {
     "name": "stdout",
     "output_type": "stream",
     "text": [
      "Session\n"
     ]
    }
   ],
   "source": [
    "mydslib.printsession()"
   ]
  },
  {
   "cell_type": "code",
   "execution_count": 13,
   "id": "9a663f2b",
   "metadata": {
    "ExecuteTime": {
     "end_time": "2022-08-30T05:20:25.951702Z",
     "start_time": "2022-08-30T05:20:25.939718Z"
    }
   },
   "outputs": [
    {
     "data": {
      "text/plain": [
       "8"
      ]
     },
     "execution_count": 13,
     "metadata": {},
     "output_type": "execute_result"
    }
   ],
   "source": [
    "mydslib.printvalue(3)"
   ]
  },
  {
   "cell_type": "code",
   "execution_count": 14,
   "id": "add76890",
   "metadata": {
    "ExecuteTime": {
     "end_time": "2022-08-30T05:20:25.967680Z",
     "start_time": "2022-08-30T05:20:25.951702Z"
    }
   },
   "outputs": [
    {
     "data": {
      "text/plain": [
       "23"
      ]
     },
     "execution_count": 14,
     "metadata": {},
     "output_type": "execute_result"
    }
   ],
   "source": [
    "mydslib.x"
   ]
  },
  {
   "cell_type": "code",
   "execution_count": 15,
   "id": "31fdeeaa",
   "metadata": {
    "ExecuteTime": {
     "end_time": "2022-08-30T05:20:25.983659Z",
     "start_time": "2022-08-30T05:20:25.967680Z"
    }
   },
   "outputs": [],
   "source": [
    "from queue import Queue "
   ]
  },
  {
   "cell_type": "code",
   "execution_count": 16,
   "id": "2e5d4d08",
   "metadata": {
    "ExecuteTime": {
     "end_time": "2022-08-30T05:20:25.999637Z",
     "start_time": "2022-08-30T05:20:25.983659Z"
    }
   },
   "outputs": [],
   "source": [
    "myq = Queue() #I created a Queue"
   ]
  },
  {
   "cell_type": "code",
   "execution_count": 17,
   "id": "29e2a781",
   "metadata": {
    "ExecuteTime": {
     "end_time": "2022-08-30T05:20:26.015616Z",
     "start_time": "2022-08-30T05:20:25.999637Z"
    }
   },
   "outputs": [],
   "source": [
    "myq.put(1)\n",
    "myq.put(2)\n",
    "myq.put(3)\n",
    "myq.put(4)\n",
    "myq.put(5)\n",
    "myq.put(6)\n",
    "myq.put(\"Ahmed\")\n",
    "myq.put(True)\n",
    "# Here i added some values to myq"
   ]
  },
  {
   "cell_type": "code",
   "execution_count": 18,
   "id": "d33c550e",
   "metadata": {
    "ExecuteTime": {
     "end_time": "2022-08-30T05:20:26.031595Z",
     "start_time": "2022-08-30T05:20:26.015616Z"
    }
   },
   "outputs": [
    {
     "data": {
      "text/plain": [
       "1"
      ]
     },
     "execution_count": 18,
     "metadata": {},
     "output_type": "execute_result"
    }
   ],
   "source": [
    "# Queue is FIFO (first in, first out)\n",
    "myq.get() # I will exit 1 from myq"
   ]
  },
  {
   "cell_type": "code",
   "execution_count": 19,
   "id": "3e192449",
   "metadata": {
    "ExecuteTime": {
     "end_time": "2022-08-30T05:20:26.047574Z",
     "start_time": "2022-08-30T05:20:26.031595Z"
    }
   },
   "outputs": [
    {
     "data": {
      "text/plain": [
       "2"
      ]
     },
     "execution_count": 19,
     "metadata": {},
     "output_type": "execute_result"
    }
   ],
   "source": [
    "myq.get()"
   ]
  },
  {
   "cell_type": "code",
   "execution_count": 20,
   "id": "8651ec2c",
   "metadata": {
    "ExecuteTime": {
     "end_time": "2022-08-30T05:20:26.063553Z",
     "start_time": "2022-08-30T05:20:26.047574Z"
    }
   },
   "outputs": [
    {
     "data": {
      "text/plain": [
       "3"
      ]
     },
     "execution_count": 20,
     "metadata": {},
     "output_type": "execute_result"
    }
   ],
   "source": [
    "myq.get()"
   ]
  },
  {
   "cell_type": "code",
   "execution_count": 21,
   "id": "9c6c83b8",
   "metadata": {
    "ExecuteTime": {
     "end_time": "2022-08-30T05:20:26.079534Z",
     "start_time": "2022-08-30T05:20:26.063553Z"
    }
   },
   "outputs": [
    {
     "data": {
      "text/plain": [
       "4"
      ]
     },
     "execution_count": 21,
     "metadata": {},
     "output_type": "execute_result"
    }
   ],
   "source": [
    "myq.get()"
   ]
  },
  {
   "cell_type": "code",
   "execution_count": 22,
   "id": "44fca566",
   "metadata": {
    "ExecuteTime": {
     "end_time": "2022-08-30T05:20:26.095510Z",
     "start_time": "2022-08-30T05:20:26.083526Z"
    }
   },
   "outputs": [
    {
     "data": {
      "text/plain": [
       "5"
      ]
     },
     "execution_count": 22,
     "metadata": {},
     "output_type": "execute_result"
    }
   ],
   "source": [
    "myq.get()"
   ]
  },
  {
   "cell_type": "code",
   "execution_count": 23,
   "id": "90d12f55",
   "metadata": {
    "ExecuteTime": {
     "end_time": "2022-08-30T05:20:26.111488Z",
     "start_time": "2022-08-30T05:20:26.095510Z"
    }
   },
   "outputs": [
    {
     "data": {
      "text/plain": [
       "6"
      ]
     },
     "execution_count": 23,
     "metadata": {},
     "output_type": "execute_result"
    }
   ],
   "source": [
    "myq.get()"
   ]
  },
  {
   "cell_type": "code",
   "execution_count": 24,
   "id": "18366ccf",
   "metadata": {
    "ExecuteTime": {
     "end_time": "2022-08-30T05:20:26.123472Z",
     "start_time": "2022-08-30T05:20:26.111488Z"
    }
   },
   "outputs": [
    {
     "data": {
      "text/plain": [
       "'Ahmed'"
      ]
     },
     "execution_count": 24,
     "metadata": {},
     "output_type": "execute_result"
    }
   ],
   "source": [
    "myq.get()"
   ]
  },
  {
   "cell_type": "code",
   "execution_count": 25,
   "id": "78ab75f0",
   "metadata": {
    "ExecuteTime": {
     "end_time": "2022-08-30T05:20:26.139450Z",
     "start_time": "2022-08-30T05:20:26.123472Z"
    }
   },
   "outputs": [
    {
     "data": {
      "text/plain": [
       "True"
      ]
     },
     "execution_count": 25,
     "metadata": {},
     "output_type": "execute_result"
    }
   ],
   "source": [
    "myq.get()"
   ]
  },
  {
   "cell_type": "code",
   "execution_count": 26,
   "id": "efb12e35",
   "metadata": {
    "ExecuteTime": {
     "end_time": "2022-08-30T05:20:26.155429Z",
     "start_time": "2022-08-30T05:20:26.139450Z"
    }
   },
   "outputs": [
    {
     "data": {
      "text/plain": [
       "0"
      ]
     },
     "execution_count": 26,
     "metadata": {},
     "output_type": "execute_result"
    }
   ],
   "source": [
    "myq.qsize()"
   ]
  },
  {
   "cell_type": "code",
   "execution_count": 27,
   "id": "7957cd14",
   "metadata": {
    "ExecuteTime": {
     "end_time": "2022-08-30T05:20:26.171409Z",
     "start_time": "2022-08-30T05:20:26.155429Z"
    }
   },
   "outputs": [],
   "source": [
    "myq.put(1)\n",
    "myq.put(2)\n",
    "myq.put(3)\n",
    "myq.put(4)\n",
    "myq.put(5)\n",
    "myq.put(6)\n",
    "myq.put(\"Ahmed\")\n",
    "myq.put(True)\n",
    "# Here i added some values to myq again"
   ]
  },
  {
   "cell_type": "code",
   "execution_count": 28,
   "id": "c83ec071",
   "metadata": {
    "ExecuteTime": {
     "end_time": "2022-08-30T05:20:26.187386Z",
     "start_time": "2022-08-30T05:20:26.175402Z"
    }
   },
   "outputs": [
    {
     "data": {
      "text/plain": [
       "8"
      ]
     },
     "execution_count": 28,
     "metadata": {},
     "output_type": "execute_result"
    }
   ],
   "source": [
    "myq.qsize()"
   ]
  },
  {
   "cell_type": "code",
   "execution_count": 29,
   "id": "908faccc",
   "metadata": {
    "ExecuteTime": {
     "end_time": "2022-08-30T05:20:26.203365Z",
     "start_time": "2022-08-30T05:20:26.187386Z"
    }
   },
   "outputs": [
    {
     "name": "stdout",
     "output_type": "stream",
     "text": [
      "1\n",
      "2\n",
      "3\n",
      "4\n",
      "5\n",
      "6\n",
      "Ahmed\n",
      "True\n"
     ]
    }
   ],
   "source": [
    "# To print all variables in myq:\n",
    "\n",
    "while myq.qsize() != 0:\n",
    "    print(myq.get())"
   ]
  },
  {
   "cell_type": "code",
   "execution_count": 30,
   "id": "9c975a75",
   "metadata": {
    "ExecuteTime": {
     "end_time": "2022-08-30T05:20:26.219344Z",
     "start_time": "2022-08-30T05:20:26.203365Z"
    }
   },
   "outputs": [
    {
     "data": {
      "text/plain": [
       "0"
      ]
     },
     "execution_count": 30,
     "metadata": {},
     "output_type": "execute_result"
    }
   ],
   "source": [
    "myq.qsize()"
   ]
  },
  {
   "cell_type": "code",
   "execution_count": 31,
   "id": "0171b174",
   "metadata": {
    "ExecuteTime": {
     "end_time": "2022-08-30T05:20:26.235323Z",
     "start_time": "2022-08-30T05:20:26.219344Z"
    }
   },
   "outputs": [],
   "source": [
    "# To import stack we use 'queue' libirart.\n",
    "# Stsck is LIFO (Last input, first output)\n",
    "\n",
    "from queue import LifoQueue"
   ]
  },
  {
   "cell_type": "code",
   "execution_count": 32,
   "id": "def4e771",
   "metadata": {
    "ExecuteTime": {
     "end_time": "2022-08-30T05:20:26.247309Z",
     "start_time": "2022-08-30T05:20:26.235323Z"
    }
   },
   "outputs": [],
   "source": [
    "from queue import LifoQueue as stack # We use 'stack' as alias name"
   ]
  },
  {
   "cell_type": "code",
   "execution_count": 33,
   "id": "c05c47d0",
   "metadata": {
    "ExecuteTime": {
     "end_time": "2022-08-30T05:20:26.263287Z",
     "start_time": "2022-08-30T05:20:26.247309Z"
    }
   },
   "outputs": [],
   "source": [
    "s = stack() # I created  stack"
   ]
  },
  {
   "cell_type": "code",
   "execution_count": 34,
   "id": "4c808830",
   "metadata": {
    "ExecuteTime": {
     "end_time": "2022-08-30T05:20:26.279262Z",
     "start_time": "2022-08-30T05:20:26.263287Z"
    }
   },
   "outputs": [],
   "source": [
    "s.put(4)\n",
    "s.put(\"Ahmed\")\n",
    "s.put(6)\n",
    "s.put(\"Orange\")\n",
    "s.put(80)"
   ]
  },
  {
   "cell_type": "code",
   "execution_count": 35,
   "id": "23a0bfe7",
   "metadata": {
    "ExecuteTime": {
     "end_time": "2022-08-30T05:20:26.295243Z",
     "start_time": "2022-08-30T05:20:26.279262Z"
    }
   },
   "outputs": [
    {
     "data": {
      "text/plain": [
       "80"
      ]
     },
     "execution_count": 35,
     "metadata": {},
     "output_type": "execute_result"
    }
   ],
   "source": [
    "s.get()\n",
    "# 80 because last in, first out."
   ]
  },
  {
   "cell_type": "code",
   "execution_count": 36,
   "id": "5ea04f22",
   "metadata": {
    "ExecuteTime": {
     "end_time": "2022-08-30T05:20:26.311220Z",
     "start_time": "2022-08-30T05:20:26.295243Z"
    }
   },
   "outputs": [
    {
     "data": {
      "text/plain": [
       "'Orange'"
      ]
     },
     "execution_count": 36,
     "metadata": {},
     "output_type": "execute_result"
    }
   ],
   "source": [
    "s.get()"
   ]
  },
  {
   "cell_type": "code",
   "execution_count": 37,
   "id": "52e117af",
   "metadata": {
    "ExecuteTime": {
     "end_time": "2022-08-30T05:20:26.327199Z",
     "start_time": "2022-08-30T05:20:26.311220Z"
    }
   },
   "outputs": [],
   "source": [
    "s.put(\"Orange\")"
   ]
  },
  {
   "cell_type": "code",
   "execution_count": null,
   "id": "cd7c7584",
   "metadata": {
    "ExecuteTime": {
     "start_time": "2022-08-30T05:20:25.795Z"
    }
   },
   "outputs": [
    {
     "name": "stdout",
     "output_type": "stream",
     "text": [
      "Orange\n",
      "6\n",
      "Ahmed\n",
      "4\n"
     ]
    }
   ],
   "source": [
    "while s.qsize != 0:\n",
    "    print(s.get())"
   ]
  },
  {
   "cell_type": "code",
   "execution_count": null,
   "id": "986b0153",
   "metadata": {
    "ExecuteTime": {
     "start_time": "2022-08-30T05:20:25.797Z"
    }
   },
   "outputs": [],
   "source": [
    "# Another code to implement elements into stack\n",
    "\n",
    "st = stack() # I created a stack\n",
    "\n",
    "#function\n",
    "def putintostack(l):\n",
    "    for i in l:\n",
    "        st.put(l)"
   ]
  },
  {
   "cell_type": "code",
   "execution_count": null,
   "id": "f7884dfc",
   "metadata": {
    "ExecuteTime": {
     "start_time": "2022-08-30T05:20:25.799Z"
    }
   },
   "outputs": [],
   "source": [
    "putintostack([1, \"Ahmed\", 5 ,True, 8 ,11])"
   ]
  },
  {
   "cell_type": "code",
   "execution_count": null,
   "id": "80eee87a",
   "metadata": {
    "ExecuteTime": {
     "start_time": "2022-08-30T05:20:25.801Z"
    }
   },
   "outputs": [],
   "source": [
    "from queue import priorityQueue # to import priorityQueue"
   ]
  },
  {
   "cell_type": "code",
   "execution_count": null,
   "id": "505fcf6d",
   "metadata": {
    "ExecuteTime": {
     "start_time": "2022-08-30T05:22:56.927Z"
    }
   },
   "outputs": [],
   "source": [
    "pq = priorityQueue()\n",
    "# In Python prioriytQueue access elements ascending"
   ]
  },
  {
   "cell_type": "code",
   "execution_count": null,
   "id": "ccdf5e53",
   "metadata": {
    "ExecuteTime": {
     "start_time": "2022-08-30T05:24:06.615Z"
    }
   },
   "outputs": [],
   "source": [
    "pd.put(2)\n",
    "pd.put(4)\n",
    "pd.put(6)\n",
    "pd.put(20)\n",
    "pd.put(12)\n",
    "pd.put(11)\n",
    "pd.put(5)"
   ]
  },
  {
   "cell_type": "code",
   "execution_count": null,
   "id": "e62baff3",
   "metadata": {
    "ExecuteTime": {
     "start_time": "2022-08-30T05:28:04.532Z"
    }
   },
   "outputs": [],
   "source": [
    "while pq.qsize != 0:\n",
    "    print (pq.get())"
   ]
  },
  {
   "cell_type": "code",
   "execution_count": null,
   "id": "962774ad",
   "metadata": {
    "ExecuteTime": {
     "start_time": "2022-08-30T05:38:03.822Z"
    }
   },
   "outputs": [],
   "source": [
    "pq = priorityQueue()"
   ]
  },
  {
   "cell_type": "code",
   "execution_count": null,
   "id": "b82e1779",
   "metadata": {
    "ExecuteTime": {
     "start_time": "2022-08-30T05:33:44.408Z"
    }
   },
   "outputs": [],
   "source": [
    "# How Queue in Python work like Queue in C++\n",
    "# To get the elements descendingly, we put elements ascending then multiply 'pd.get' * -1\n",
    "pd.put(-2)\n",
    "pd.put(-4)\n",
    "pd.put(-5)\n",
    "pd.put(-6)\n",
    "pd.put(-11)\n",
    "pd.put(-12)\n",
    "pd.put(-20)"
   ]
  },
  {
   "cell_type": "code",
   "execution_count": null,
   "id": "4131b3d2",
   "metadata": {
    "ExecuteTime": {
     "start_time": "2022-08-30T05:33:46.119Z"
    }
   },
   "outputs": [],
   "source": [
    "while pq.qsize != 0:\n",
    "    print (- pq.get())"
   ]
  },
  {
   "cell_type": "code",
   "execution_count": null,
   "id": "5e22733c",
   "metadata": {
    "ExecuteTime": {
     "start_time": "2022-08-30T05:37:27.928Z"
    }
   },
   "outputs": [],
   "source": [
    "pq = priorityQueue()"
   ]
  },
  {
   "cell_type": "code",
   "execution_count": null,
   "id": "0fc8c485",
   "metadata": {
    "ExecuteTime": {
     "start_time": "2022-08-30T05:41:30.415Z"
    }
   },
   "outputs": [],
   "source": [
    "pq.put(\"Ahmed\")\n",
    "pq.put(\"Omar\")\n",
    "pq.put(\"Ziad\")\n",
    "# priorityQueue in strings from[a:z, A:Z]\n",
    "# to print priorityQueue by reverse, we put them in stack then print them, or put them in a list then print them by reverse. "
   ]
  },
  {
   "cell_type": "code",
   "execution_count": null,
   "id": "ed7f4125",
   "metadata": {
    "ExecuteTime": {
     "start_time": "2022-08-30T05:41:30.717Z"
    }
   },
   "outputs": [],
   "source": [
    "while pq.qsize != 0:\n",
    "    print (pq.get())"
   ]
  }
 ],
 "metadata": {
  "kernelspec": {
   "display_name": "Python 3 (ipykernel)",
   "language": "python",
   "name": "python3"
  },
  "language_info": {
   "codemirror_mode": {
    "name": "ipython",
    "version": 3
   },
   "file_extension": ".py",
   "mimetype": "text/x-python",
   "name": "python",
   "nbconvert_exporter": "python",
   "pygments_lexer": "ipython3",
   "version": "3.9.12"
  }
 },
 "nbformat": 4,
 "nbformat_minor": 5
}
