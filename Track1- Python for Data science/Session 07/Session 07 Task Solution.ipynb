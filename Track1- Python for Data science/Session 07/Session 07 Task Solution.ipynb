{
 "cells": [
  {
   "cell_type": "markdown",
   "id": "876da737",
   "metadata": {},
   "source": [
    "## Task: Implement deconstructor (destructor) in Python."
   ]
  },
  {
   "cell_type": "markdown",
   "id": "f773e965",
   "metadata": {},
   "source": [
    "### Destructors:\n",
    ".When there is no need of object anymore in program, destructors will destruct it to save memory.\n",
    "\n",
    ".Destructors can be called with object.\n",
    "\n",
    ".The __del__() method is known as the destructor method in Python."
   ]
  },
  {
   "cell_type": "code",
   "execution_count": 14,
   "id": "29669e4d",
   "metadata": {
    "ExecuteTime": {
     "end_time": "2022-08-27T01:01:29.605767Z",
     "start_time": "2022-08-27T01:01:29.601777Z"
    }
   },
   "outputs": [],
   "source": [
    "class fun():\n",
    "    players = 5\n",
    "    \n",
    "    #Instructor\n",
    "    def __init__ (self):\n",
    "        print(\"We are playing now.\")\n",
    "    \n",
    "    \n",
    "    #Function\n",
    "    def play(self):\n",
    "        print(\"We currently have \"+ str(self.players) +\" players.\")\n",
    "        \n",
    "    #Destructor\n",
    "    def __del__ (self):\n",
    "        print(\"Player is deleted.\")   "
   ]
  },
  {
   "cell_type": "code",
   "execution_count": 15,
   "id": "20916a31",
   "metadata": {
    "ExecuteTime": {
     "end_time": "2022-08-27T01:01:30.102395Z",
     "start_time": "2022-08-27T01:01:30.091395Z"
    }
   },
   "outputs": [
    {
     "name": "stdout",
     "output_type": "stream",
     "text": [
      "We are playing now.\n",
      "Player is deleted.\n"
     ]
    }
   ],
   "source": [
    "newplayer = fun() #Instructor and destructor automatically called."
   ]
  },
  {
   "cell_type": "code",
   "execution_count": 16,
   "id": "c05c9a90",
   "metadata": {
    "ExecuteTime": {
     "end_time": "2022-08-27T01:01:30.770143Z",
     "start_time": "2022-08-27T01:01:30.753362Z"
    }
   },
   "outputs": [
    {
     "name": "stdout",
     "output_type": "stream",
     "text": [
      "We currently have 5 players.\n"
     ]
    }
   ],
   "source": [
    "newplayer.play()"
   ]
  },
  {
   "cell_type": "code",
   "execution_count": 18,
   "id": "b0402b59",
   "metadata": {
    "ExecuteTime": {
     "end_time": "2022-08-27T01:03:26.414183Z",
     "start_time": "2022-08-27T01:03:26.406203Z"
    }
   },
   "outputs": [
    {
     "name": "stdout",
     "output_type": "stream",
     "text": [
      "Player is deleted.\n"
     ]
    }
   ],
   "source": [
    "del newplayer\n",
    "#Python destructor will delete this new player by following this \n",
    "#def __del__ (self):\n",
    "#        print(\"Player is deleted.\")\n",
    "#so it would be deleted and memory could be managed."
   ]
  }
 ],
 "metadata": {
  "kernelspec": {
   "display_name": "Python 3 (ipykernel)",
   "language": "python",
   "name": "python3"
  },
  "language_info": {
   "codemirror_mode": {
    "name": "ipython",
    "version": 3
   },
   "file_extension": ".py",
   "mimetype": "text/x-python",
   "name": "python",
   "nbconvert_exporter": "python",
   "pygments_lexer": "ipython3",
   "version": "3.9.12"
  }
 },
 "nbformat": 4,
 "nbformat_minor": 5
}
