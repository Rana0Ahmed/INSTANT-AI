{
 "cells": [
  {
   "cell_type": "code",
   "execution_count": 24,
   "id": "0a471f0b",
   "metadata": {
    "ExecuteTime": {
     "end_time": "2022-09-11T07:49:01.747537Z",
     "start_time": "2022-09-11T07:49:01.705989Z"
    }
   },
   "outputs": [],
   "source": [
    "# import modules\n",
    "import requests\n",
    "from bs4 import BeautifulSoup\n",
    "from tqdm import tqdm"
   ]
  },
  {
   "cell_type": "code",
   "execution_count": 25,
   "id": "c0a37a91",
   "metadata": {
    "ExecuteTime": {
     "end_time": "2022-09-11T07:49:03.900371Z",
     "start_time": "2022-09-11T07:49:02.558946Z"
    }
   },
   "outputs": [],
   "source": [
    "# to get the page\n",
    "page = requests.get('https://www.57357.org/en/category/gallery/')\n",
    "\n",
    "# use BeautifulSoup to help us pares information from the page\n",
    "soup = BeautifulSoup(page.content, 'html.parser')\n",
    "\n",
    "# to find all images\n",
    "imgs = soup.find_all('img')\n",
    "\n",
    "# to slice images\n",
    "imgs = imgs[3:-1]"
   ]
  },
  {
   "cell_type": "code",
   "execution_count": 26,
   "id": "7083fc85",
   "metadata": {
    "ExecuteTime": {
     "end_time": "2022-09-11T07:49:34.586633Z",
     "start_time": "2022-09-11T07:49:04.198918Z"
    }
   },
   "outputs": [],
   "source": [
    "# to get images links\n",
    "for img in imgs :\n",
    "    imglink = img.attrs.get(\"src\")\n",
    "    # to get the binary form of images by URL\n",
    "    image = requests.get(imglink).content\n",
    "    filename = r\"images/\" + imglink[imglink.rfind(\"/\"):]\n",
    "    # to download images in images directory\n",
    "    with open(filename, \"wb\") as file:\n",
    "        file.write(image)"
   ]
  }
 ],
 "metadata": {
  "kernelspec": {
   "display_name": "Python 3 (ipykernel)",
   "language": "python",
   "name": "python3"
  },
  "language_info": {
   "codemirror_mode": {
    "name": "ipython",
    "version": 3
   },
   "file_extension": ".py",
   "mimetype": "text/x-python",
   "name": "python",
   "nbconvert_exporter": "python",
   "pygments_lexer": "ipython3",
   "version": "3.9.12"
  }
 },
 "nbformat": 4,
 "nbformat_minor": 5
}
