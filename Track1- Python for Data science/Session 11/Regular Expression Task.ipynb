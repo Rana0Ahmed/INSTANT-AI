{
 "cells": [
  {
   "cell_type": "markdown",
   "id": "77334475",
   "metadata": {},
   "source": [
    "## Opening sample file"
   ]
  },
  {
   "cell_type": "code",
   "execution_count": 73,
   "id": "74386936",
   "metadata": {
    "ExecuteTime": {
     "end_time": "2022-09-04T05:14:52.155534Z",
     "start_time": "2022-09-04T05:14:52.139511Z"
    }
   },
   "outputs": [
    {
     "name": "stdout",
     "output_type": "stream",
     "text": [
      "\n",
      "Mohamed Ahmed Mohamed + 0101234567 + (Mohamed@gmail.com)\n",
      "Mahmoud Ahmed Mohamed + 0123456789 + (Mahmoud@yahoo.com)\n",
      "Ahmed Mohamed Yasser + 0123654789 + (yaseer@gmail.edu)\n",
      "Hafez Mahmoud Ahmed + 0152365478 + (Ahmed@outlook.edu)\n",
      "Ayman Yasser Ebrahim + 0115698741 + (Ayman@outlook.com)\n",
      "Adel Mahmoud Saied + 0102365987 + (Adel@gmail.edu)\n",
      "Nabil Ahmed Reda + 0152369874 + (Nabil@yahoo.com)\n",
      "\n",
      "\n"
     ]
    }
   ],
   "source": [
    "fileObject = open(\"sample.txt\", \"r\")  #To open sample file\n",
    "data = fileObject.read()  #To read from sample file\n",
    "\n",
    "print(data)"
   ]
  },
  {
   "cell_type": "markdown",
   "id": "4a8794bc",
   "metadata": {},
   "source": [
    "## Import Regular Expression module"
   ]
  },
  {
   "cell_type": "code",
   "execution_count": 74,
   "id": "f0dbac07",
   "metadata": {
    "ExecuteTime": {
     "end_time": "2022-09-04T05:15:47.741091Z",
     "start_time": "2022-09-04T05:15:47.737095Z"
    }
   },
   "outputs": [],
   "source": [
    "import re"
   ]
  },
  {
   "cell_type": "markdown",
   "id": "14a25e9c",
   "metadata": {},
   "source": [
    "## To extract Names"
   ]
  },
  {
   "cell_type": "code",
   "execution_count": 75,
   "id": "553e55e8",
   "metadata": {
    "ExecuteTime": {
     "end_time": "2022-09-04T05:15:48.780776Z",
     "start_time": "2022-09-04T05:15:48.772791Z"
    }
   },
   "outputs": [
    {
     "data": {
      "text/plain": [
       "['Mohamed Ahmed Mohamed',\n",
       " 'Mahmoud Ahmed Mohamed',\n",
       " 'Ahmed Mohamed Yasser',\n",
       " 'Hafez Mahmoud Ahmed',\n",
       " 'Ayman Yasser Ebrahim',\n",
       " 'Adel Mahmoud Saied',\n",
       " 'Nabil Ahmed Reda']"
      ]
     },
     "execution_count": 75,
     "metadata": {},
     "output_type": "execute_result"
    }
   ],
   "source": [
    "pattern = re.compile(r\"\\w+\\s\\w+\\s\\w+\")\n",
    "matches = pattern.finditer(data)\n",
    "Names=[]\n",
    "\n",
    "for match in matches:\n",
    "    Names.append(data[match.span()[0]:match.span()[1]])\n",
    "    \n",
    "Names"
   ]
  },
  {
   "cell_type": "markdown",
   "id": "5a1bd3ae",
   "metadata": {},
   "source": [
    "## To extract PhoneNumbers"
   ]
  },
  {
   "cell_type": "code",
   "execution_count": 77,
   "id": "30f70204",
   "metadata": {
    "ExecuteTime": {
     "end_time": "2022-09-04T05:18:37.586335Z",
     "start_time": "2022-09-04T05:18:37.570354Z"
    }
   },
   "outputs": [
    {
     "data": {
      "text/plain": [
       "['0101234567',\n",
       " '0123456789',\n",
       " '0123654789',\n",
       " '0152365478',\n",
       " '0115698741',\n",
       " '0102365987',\n",
       " '0152369874']"
      ]
     },
     "execution_count": 77,
     "metadata": {},
     "output_type": "execute_result"
    }
   ],
   "source": [
    "pattern = re.compile(r\"(010|011|012|015)\\d{7}\")\n",
    "matches = pattern.finditer(data)\n",
    "PhoneNumbers = []\n",
    "\n",
    "for match in matches:\n",
    "    PhoneNumbers.append(data[match.span()[0]:match.span()[1]])\n",
    "    \n",
    "PhoneNumbers"
   ]
  },
  {
   "cell_type": "code",
   "execution_count": 76,
   "id": "9e628a93",
   "metadata": {
    "ExecuteTime": {
     "end_time": "2022-09-04T05:18:21.689243Z",
     "start_time": "2022-09-04T05:18:21.677259Z"
    }
   },
   "outputs": [],
   "source": [
    "## To extract Emails"
   ]
  },
  {
   "cell_type": "code",
   "execution_count": 71,
   "id": "2ca03ac0",
   "metadata": {
    "ExecuteTime": {
     "end_time": "2022-09-04T05:08:39.254282Z",
     "start_time": "2022-09-04T05:08:39.238303Z"
    }
   },
   "outputs": [
    {
     "data": {
      "text/plain": [
       "['Mohamed@gmail.com',\n",
       " 'Mahmoud@yahoo.com',\n",
       " 'yaseer@gmail.edu',\n",
       " 'Ahmed@outlook.edu',\n",
       " 'Ayman@outlook.com',\n",
       " 'Adel@gmail.edu',\n",
       " 'Nabil@yahoo.com']"
      ]
     },
     "execution_count": 71,
     "metadata": {},
     "output_type": "execute_result"
    }
   ],
   "source": [
    "pattern = re.compile(r\"[a-zA-Z0-9_.+-]+@[a-zA-Z0-9-]+\\.[a-zA-Z0-9-.]+\")\n",
    "matches = pattern.finditer(data)\n",
    "Emails = []\n",
    "\n",
    "for match in matches:\n",
    "    Emails.append(data[match.span()[0]:match.span()[1]])\n",
    "    \n",
    "Emails"
   ]
  }
 ],
 "metadata": {
  "kernelspec": {
   "display_name": "Python 3 (ipykernel)",
   "language": "python",
   "name": "python3"
  },
  "language_info": {
   "codemirror_mode": {
    "name": "ipython",
    "version": 3
   },
   "file_extension": ".py",
   "mimetype": "text/x-python",
   "name": "python",
   "nbconvert_exporter": "python",
   "pygments_lexer": "ipython3",
   "version": "3.9.12"
  }
 },
 "nbformat": 4,
 "nbformat_minor": 5
}
