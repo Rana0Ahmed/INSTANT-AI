{
 "cells": [
  {
   "cell_type": "code",
   "execution_count": 1,
   "id": "830d6e85",
   "metadata": {
    "ExecuteTime": {
     "end_time": "2022-08-31T05:37:26.980177Z",
     "start_time": "2022-08-31T05:37:26.963223Z"
    }
   },
   "outputs": [],
   "source": [
    "class Library():\n",
    "    \n",
    "    #constructor\n",
    "    def __init__(self, BookList, Borrower):\n",
    "        \n",
    "        library_name = \"READING FOR ALL\"\n",
    "        \n",
    "        #info about the Borrower\n",
    "        self.username = Borrower\n",
    "        self.listofbooks = BookList\n",
    "        \n",
    "        # Maintain a dictionary for the users who own a book\n",
    "        self.Total_Borrowers = []\n",
    "        self.Total_Borrowers_dict = dict()\n",
    "        \n",
    "               \n",
    "    # Fun DisplayBook to display available books in the library\n",
    "    def Displaybook(self):\n",
    "        return self.listofbooks\n",
    "    \n",
    "        \n",
    "    # Fun AddBook to add new book to the library        \n",
    "    def AddBook(self):\n",
    "        while True:\n",
    "            print(\"Please add only new books\")\n",
    "        \n",
    "            newbook = input(\"Done, We add the new book: \")\n",
    "        \n",
    "            if newbook in listofbooks:\n",
    "                 print(\"Sorry, we can not add it. This book is already exist !\")\n",
    "            \n",
    "            else:\n",
    "                listofbooks.append(newbook)\n",
    "                break\n",
    "    \n",
    "        \n",
    "    # Fun LendBook to lend a book to the borrower\n",
    "    def LendBook(self):\n",
    "        \n",
    "        username = input(\"Please enter your name: \")\n",
    "        \n",
    "        # List for new borrowers\n",
    "        New_Borrowers = []\n",
    "        New_Borrowers.append(username)\n",
    "        \n",
    "        self.Total_Borrowers.append(username)\n",
    "        self.LendedBooks_List = []\n",
    "        \n",
    "        \n",
    "        LendedBook = input(\"Please enter the book which you want to borrow: \")\n",
    "        \n",
    "        if LendedBook in self.listofbooks:\n",
    "            self.listofbooks.remove(LendedBook)\n",
    "            self.LendedBooks_List.append(LendedBook)\n",
    "            \n",
    "        else:\n",
    "            print(\"Sorry, This book is not available\")\n",
    "            \n",
    "            \n",
    "    # Fun ReturnBook to receive the lended book from the borrower                 \n",
    "    def ReturnBook(self):\n",
    "        \n",
    "        Returned_Book = input(\"Please enter book name\")\n",
    "        self.listofbooks.append(Returned_Book)\n",
    "        print(\"Done, You  returned the book successfully\")\n",
    "            \n",
    "        \n",
    "    # Fun to print total borrowers      \n",
    "    def print_Borrowers(self):\n",
    "        return self.Total_Borrowers\n",
    "        return self.Total_Borrowers_dict\n",
    "        "
   ]
  },
  {
   "cell_type": "code",
   "execution_count": 2,
   "id": "eb5a064e",
   "metadata": {
    "ExecuteTime": {
     "end_time": "2022-08-31T05:37:26.996163Z",
     "start_time": "2022-08-31T05:37:26.982174Z"
    }
   },
   "outputs": [],
   "source": [
    "library_name= \"READING FOR ALL\" "
   ]
  },
  {
   "cell_type": "code",
   "execution_count": 3,
   "id": "83ac906f",
   "metadata": {
    "ExecuteTime": {
     "end_time": "2022-08-31T05:37:27.012200Z",
     "start_time": "2022-08-31T05:37:26.997159Z"
    }
   },
   "outputs": [],
   "source": [
    "listofbooks = [\"Dans le sillage d'Ulysse by Bérard, Victor\",\n",
    "\"The Pirelli Calendar 50th Anniversary by Helmut Newton\",\n",
    "\"Keika Hyakugiku by Keika Hasegawa\",\n",
    "\"Camellias from Iconographia Plantarum\",\n",
    "\"Aromatic Plants from Iconographia Plantarum\"]"
   ]
  },
  {
   "cell_type": "code",
   "execution_count": 4,
   "id": "72ea86f5",
   "metadata": {
    "ExecuteTime": {
     "end_time": "2022-08-31T05:37:27.028276Z",
     "start_time": "2022-08-31T05:37:27.013228Z"
    }
   },
   "outputs": [],
   "source": [
    "HarryLibrary=Library(listofbooks, library_name)"
   ]
  },
  {
   "cell_type": "code",
   "execution_count": 5,
   "id": "9a443e22",
   "metadata": {
    "ExecuteTime": {
     "end_time": "2022-08-31T05:37:27.043788Z",
     "start_time": "2022-08-31T05:37:27.030237Z"
    }
   },
   "outputs": [
    {
     "data": {
      "text/plain": [
       "[\"Dans le sillage d'Ulysse by Bérard, Victor\",\n",
       " 'The Pirelli Calendar 50th Anniversary by Helmut Newton',\n",
       " 'Keika Hyakugiku by Keika Hasegawa',\n",
       " 'Camellias from Iconographia Plantarum',\n",
       " 'Aromatic Plants from Iconographia Plantarum']"
      ]
     },
     "execution_count": 5,
     "metadata": {},
     "output_type": "execute_result"
    }
   ],
   "source": [
    "HarryLibrary.Displaybook()"
   ]
  },
  {
   "cell_type": "code",
   "execution_count": 6,
   "id": "1dc4f30d",
   "metadata": {
    "ExecuteTime": {
     "end_time": "2022-08-31T05:37:34.509870Z",
     "start_time": "2022-08-31T05:37:27.045788Z"
    }
   },
   "outputs": [
    {
     "name": "stdout",
     "output_type": "stream",
     "text": [
      "Please add only new books\n",
      "Done, We add the new book: Rotes\n"
     ]
    }
   ],
   "source": [
    "HarryLibrary.AddBook()"
   ]
  },
  {
   "cell_type": "code",
   "execution_count": 7,
   "id": "5c9ad580",
   "metadata": {
    "ExecuteTime": {
     "end_time": "2022-08-31T05:37:46.124795Z",
     "start_time": "2022-08-31T05:37:34.511867Z"
    }
   },
   "outputs": [
    {
     "name": "stdout",
     "output_type": "stream",
     "text": [
      "Please enter your name: Rana\n",
      "Please enter the book which you want to borrow: Dans le sillage d'Ulysse by Bérard, Victor\n"
     ]
    }
   ],
   "source": [
    "HarryLibrary.LendBook()"
   ]
  },
  {
   "cell_type": "code",
   "execution_count": 8,
   "id": "37ed2c36",
   "metadata": {
    "ExecuteTime": {
     "end_time": "2022-08-31T05:37:53.112477Z",
     "start_time": "2022-08-31T05:37:46.125793Z"
    }
   },
   "outputs": [
    {
     "name": "stdout",
     "output_type": "stream",
     "text": [
      "Please add only new books\n",
      "Done, We add the new book: Family\n"
     ]
    }
   ],
   "source": [
    "HarryLibrary.AddBook()"
   ]
  },
  {
   "cell_type": "code",
   "execution_count": 9,
   "id": "50fbcd07",
   "metadata": {
    "ExecuteTime": {
     "end_time": "2022-08-31T05:37:59.733498Z",
     "start_time": "2022-08-31T05:37:53.113185Z"
    }
   },
   "outputs": [
    {
     "name": "stdout",
     "output_type": "stream",
     "text": [
      "Please add only new books\n",
      "Done, We add the new book: Friends\n"
     ]
    }
   ],
   "source": [
    "HarryLibrary.AddBook()"
   ]
  },
  {
   "cell_type": "code",
   "execution_count": 10,
   "id": "81fcf268",
   "metadata": {
    "ExecuteTime": {
     "end_time": "2022-08-31T05:37:59.748454Z",
     "start_time": "2022-08-31T05:37:59.735490Z"
    }
   },
   "outputs": [
    {
     "data": {
      "text/plain": [
       "['The Pirelli Calendar 50th Anniversary by Helmut Newton',\n",
       " 'Keika Hyakugiku by Keika Hasegawa',\n",
       " 'Camellias from Iconographia Plantarum',\n",
       " 'Aromatic Plants from Iconographia Plantarum',\n",
       " 'Rotes',\n",
       " 'Family',\n",
       " 'Friends']"
      ]
     },
     "execution_count": 10,
     "metadata": {},
     "output_type": "execute_result"
    }
   ],
   "source": [
    "HarryLibrary.Displaybook()"
   ]
  },
  {
   "cell_type": "code",
   "execution_count": 11,
   "id": "acce55a7",
   "metadata": {
    "ExecuteTime": {
     "end_time": "2022-08-31T05:38:09.133191Z",
     "start_time": "2022-08-31T05:37:59.749472Z"
    }
   },
   "outputs": [
    {
     "name": "stdout",
     "output_type": "stream",
     "text": [
      "Please enter your name: Ahmed\n",
      "Please enter the book which you want to borrow: Family\n"
     ]
    }
   ],
   "source": [
    "HarryLibrary.LendBook()"
   ]
  },
  {
   "cell_type": "code",
   "execution_count": 12,
   "id": "baff6483",
   "metadata": {
    "ExecuteTime": {
     "end_time": "2022-08-31T05:38:09.148835Z",
     "start_time": "2022-08-31T05:38:09.134189Z"
    }
   },
   "outputs": [
    {
     "data": {
      "text/plain": [
       "['The Pirelli Calendar 50th Anniversary by Helmut Newton',\n",
       " 'Keika Hyakugiku by Keika Hasegawa',\n",
       " 'Camellias from Iconographia Plantarum',\n",
       " 'Aromatic Plants from Iconographia Plantarum',\n",
       " 'Rotes',\n",
       " 'Friends']"
      ]
     },
     "execution_count": 12,
     "metadata": {},
     "output_type": "execute_result"
    }
   ],
   "source": [
    "HarryLibrary.Displaybook()"
   ]
  },
  {
   "cell_type": "code",
   "execution_count": 13,
   "id": "98c5f9a0",
   "metadata": {
    "ExecuteTime": {
     "end_time": "2022-08-31T05:38:09.164112Z",
     "start_time": "2022-08-31T05:38:09.151826Z"
    }
   },
   "outputs": [
    {
     "data": {
      "text/plain": [
       "['Rana', 'Ahmed']"
      ]
     },
     "execution_count": 13,
     "metadata": {},
     "output_type": "execute_result"
    }
   ],
   "source": [
    "HarryLibrary.print_Borrowers()"
   ]
  },
  {
   "cell_type": "code",
   "execution_count": 14,
   "id": "16c653e5",
   "metadata": {
    "ExecuteTime": {
     "end_time": "2022-08-31T05:38:23.902019Z",
     "start_time": "2022-08-31T05:38:09.166004Z"
    }
   },
   "outputs": [
    {
     "name": "stdout",
     "output_type": "stream",
     "text": [
      "Please enter your name: Omnia\n",
      "Please enter the book which you want to borrow: Friends\n"
     ]
    }
   ],
   "source": [
    "HarryLibrary.LendBook()"
   ]
  },
  {
   "cell_type": "code",
   "execution_count": 15,
   "id": "81a740cc",
   "metadata": {
    "ExecuteTime": {
     "end_time": "2022-08-31T05:38:23.917493Z",
     "start_time": "2022-08-31T05:38:23.903027Z"
    }
   },
   "outputs": [
    {
     "data": {
      "text/plain": [
       "['Rana', 'Ahmed', 'Omnia']"
      ]
     },
     "execution_count": 15,
     "metadata": {},
     "output_type": "execute_result"
    }
   ],
   "source": [
    "HarryLibrary.print_Borrowers()"
   ]
  },
  {
   "cell_type": "code",
   "execution_count": 16,
   "id": "6583eeb8",
   "metadata": {
    "ExecuteTime": {
     "end_time": "2022-08-31T05:38:23.932417Z",
     "start_time": "2022-08-31T05:38:23.919489Z"
    }
   },
   "outputs": [
    {
     "data": {
      "text/plain": [
       "['The Pirelli Calendar 50th Anniversary by Helmut Newton',\n",
       " 'Keika Hyakugiku by Keika Hasegawa',\n",
       " 'Camellias from Iconographia Plantarum',\n",
       " 'Aromatic Plants from Iconographia Plantarum',\n",
       " 'Rotes']"
      ]
     },
     "execution_count": 16,
     "metadata": {},
     "output_type": "execute_result"
    }
   ],
   "source": [
    "HarryLibrary.Displaybook()"
   ]
  },
  {
   "cell_type": "code",
   "execution_count": 17,
   "id": "82e9c042",
   "metadata": {
    "ExecuteTime": {
     "end_time": "2022-08-31T05:38:46.052098Z",
     "start_time": "2022-08-31T05:38:23.933148Z"
    }
   },
   "outputs": [
    {
     "name": "stdout",
     "output_type": "stream",
     "text": [
      "Please enter book nameFamily\n",
      "Done, You  returned the book successfully\n"
     ]
    }
   ],
   "source": [
    "HarryLibrary.ReturnBook()"
   ]
  },
  {
   "cell_type": "code",
   "execution_count": 18,
   "id": "f6381867",
   "metadata": {
    "ExecuteTime": {
     "end_time": "2022-08-31T05:38:46.067476Z",
     "start_time": "2022-08-31T05:38:46.052959Z"
    }
   },
   "outputs": [
    {
     "data": {
      "text/plain": [
       "['Rana', 'Ahmed', 'Omnia']"
      ]
     },
     "execution_count": 18,
     "metadata": {},
     "output_type": "execute_result"
    }
   ],
   "source": [
    "HarryLibrary.print_Borrowers()  #Here i can not manage !"
   ]
  },
  {
   "cell_type": "code",
   "execution_count": 19,
   "id": "909b4218",
   "metadata": {
    "ExecuteTime": {
     "end_time": "2022-08-31T05:38:46.083318Z",
     "start_time": "2022-08-31T05:38:46.068473Z"
    }
   },
   "outputs": [
    {
     "data": {
      "text/plain": [
       "['Rana', 'Ahmed', 'Omnia']"
      ]
     },
     "execution_count": 19,
     "metadata": {},
     "output_type": "execute_result"
    }
   ],
   "source": [
    "HarryLibrary.print_Borrowers() #Here i can not manage also !"
   ]
  }
 ],
 "metadata": {
  "kernelspec": {
   "display_name": "Python 3 (ipykernel)",
   "language": "python",
   "name": "python3"
  },
  "language_info": {
   "codemirror_mode": {
    "name": "ipython",
    "version": 3
   },
   "file_extension": ".py",
   "mimetype": "text/x-python",
   "name": "python",
   "nbconvert_exporter": "python",
   "pygments_lexer": "ipython3",
   "version": "3.9.12"
  }
 },
 "nbformat": 4,
 "nbformat_minor": 5
}
