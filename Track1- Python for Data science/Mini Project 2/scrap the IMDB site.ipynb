{
 "cells": [
  {
   "cell_type": "markdown",
   "id": "ee737a0e",
   "metadata": {},
   "source": [
    "## Import modules"
   ]
  },
  {
   "cell_type": "code",
   "execution_count": 6,
   "id": "d9b41984",
   "metadata": {
    "ExecuteTime": {
     "end_time": "2022-09-14T07:13:15.991422Z",
     "start_time": "2022-09-14T07:13:15.971516Z"
    }
   },
   "outputs": [],
   "source": [
    "import requests\n",
    "import csv\n",
    "from bs4 import BeautifulSoup"
   ]
  },
  {
   "cell_type": "markdown",
   "id": "bba9f1a7",
   "metadata": {},
   "source": [
    "## Access the HTML content from the webpage"
   ]
  },
  {
   "cell_type": "code",
   "execution_count": 39,
   "id": "704ee17b",
   "metadata": {
    "ExecuteTime": {
     "end_time": "2022-09-14T07:56:51.089484Z",
     "start_time": "2022-09-14T07:56:49.613018Z"
    }
   },
   "outputs": [],
   "source": [
    "website = requests.get(\"https://www.imdb.com/chart/top?ref_=nv_mv_250\")\n",
    "soup = BeautifulSoup(website.content, \"html\")"
   ]
  },
  {
   "cell_type": "markdown",
   "id": "b55c8d0c",
   "metadata": {},
   "source": [
    "## Extract details about movies and write into csv file"
   ]
  },
  {
   "cell_type": "code",
   "execution_count": 43,
   "id": "5e140412",
   "metadata": {
    "ExecuteTime": {
     "end_time": "2022-09-14T08:27:44.137912Z",
     "start_time": "2022-09-14T08:27:44.049700Z"
    }
   },
   "outputs": [],
   "source": [
    "csvfile = open ('IMDb Top 250 Movies', 'w', encoding='utf-8') \n",
    "writer = csv.writer(csvfile) \n",
    "writer.writerow(['movie_rank', 'movie_name', 'movie_year', 'movie_rate'])\n",
    "\n",
    "movies = soup.find(\"tbody\", class_ = \"lister-list\").find_all(\"tr\")  # 250\n",
    "for movie in movies:\n",
    "    movie_rank = movie.find(\"td\", class_ = \"titleColumn\").get_text(strip=True).split(\".\")[0]\n",
    "    movie_name = movie.find(\"td\", class_ = \"titleColumn\").a.text\n",
    "    movie_year = movie.find(\"td\", class_ = \"titleColumn\").span.text.strip(\"()\")\n",
    "    movie_rate = movie.find(\"td\", class_ = \"ratingColumn imdbRating\").strong.tex\n",
    "    \n",
    "    writer.writerow([movie_rank, movie_name, movie_year, movie_rate]) \n",
    "    \n",
    "csvfile.close()      "
   ]
  }
 ],
 "metadata": {
  "kernelspec": {
   "display_name": "Python 3 (ipykernel)",
   "language": "python",
   "name": "python3"
  },
  "language_info": {
   "codemirror_mode": {
    "name": "ipython",
    "version": 3
   },
   "file_extension": ".py",
   "mimetype": "text/x-python",
   "name": "python",
   "nbconvert_exporter": "python",
   "pygments_lexer": "ipython3",
   "version": "3.9.12"
  }
 },
 "nbformat": 4,
 "nbformat_minor": 5
}
