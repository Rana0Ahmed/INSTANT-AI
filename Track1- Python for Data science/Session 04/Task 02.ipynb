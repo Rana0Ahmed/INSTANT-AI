{
 "cells": [
  {
   "cell_type": "markdown",
   "id": "8db653c4",
   "metadata": {},
   "source": [
    "1-Write a Python program to find those numbers which are divisible by 7 \n",
    "and multiple of 5, between 1500 and 2700 (both included)."
   ]
  },
  {
   "cell_type": "code",
   "execution_count": null,
   "id": "443ac708",
   "metadata": {
    "ExecuteTime": {
     "start_time": "2022-08-07T12:58:19.089Z"
    }
   },
   "outputs": [],
   "source": [
    "for i in range(1500,2701):\n",
    "    if i%5 ==0 and (i/5)%7 ==0:\n",
    "        print(i)"
   ]
  },
  {
   "cell_type": "markdown",
   "id": "a6638144",
   "metadata": {
    "ExecuteTime": {
     "end_time": "2022-08-07T12:29:07.108502Z",
     "start_time": "2022-08-07T12:29:07.084517Z"
    }
   },
   "source": [
    "2-Write a Python program to convert temperatures to and from celsius, \n",
    "fahrenheit.\n",
    "[ Formula : c/5 = f-32/9 [ where c = temperature in celsius and f = temperature in \n",
    "fahrenheit ]\n",
    "**formula:c/5=(f-32)/9.......\n"
   ]
  },
  {
   "cell_type": "code",
   "execution_count": null,
   "id": "6d303fee",
   "metadata": {
    "ExecuteTime": {
     "start_time": "2022-08-07T12:57:07.096Z"
    }
   },
   "outputs": [],
   "source": [
    "def ConvertToCelsius(F):\n",
    "    print(\"Enter temperature to convert : \")\n",
    "    return 5/9 *(F-32)\n",
    "\n",
    "def ConvertToFahrenheit(C):\n",
    "    print(\"Enter temperature to convert : \")\n",
    "    return (C* 9/5)+ 32"
   ]
  },
  {
   "cell_type": "markdown",
   "id": "50e5f046",
   "metadata": {
    "ExecuteTime": {
     "end_time": "2022-08-07T12:46:50.980176Z",
     "start_time": "2022-08-07T12:46:09.199469Z"
    }
   },
   "source": [
    "3-Write a Python program to construct the following pattern, using a \n",
    "nested for loop"
   ]
  },
  {
   "cell_type": "code",
   "execution_count": null,
   "id": "bdde4859",
   "metadata": {
    "ExecuteTime": {
     "start_time": "2022-08-07T12:57:09.818Z"
    }
   },
   "outputs": [],
   "source": [
    "for i in range(1):\n",
    "    for j in range(6):\n",
    "        print(\"*\"*j)\n",
    "    for n in range(5):\n",
    "        k = 4-n\n",
    "        print(\"*\"*k)"
   ]
  },
  {
   "cell_type": "markdown",
   "id": "41f01374",
   "metadata": {
    "ExecuteTime": {
     "end_time": "2022-08-07T12:50:30.597736Z",
     "start_time": "2022-08-07T12:50:30.573742Z"
    }
   },
   "source": [
    "4. Write a Python program that accepts a word from the user and reverse \n",
    "it."
   ]
  },
  {
   "cell_type": "code",
   "execution_count": null,
   "id": "341e1439",
   "metadata": {
    "ExecuteTime": {
     "start_time": "2022-08-07T12:57:18.866Z"
    }
   },
   "outputs": [],
   "source": [
    "def ReverseWord(word):\n",
    "    return word[ :: -1] \n",
    "\n",
    "ReverseWord(input(\"Enter your word: \"))"
   ]
  },
  {
   "cell_type": "markdown",
   "id": "0a217faf",
   "metadata": {
    "ExecuteTime": {
     "start_time": "2022-08-07T12:56:56.060Z"
    }
   },
   "source": [
    "5-Write a Python function to find the Max of three numbers."
   ]
  },
  {
   "cell_type": "code",
   "execution_count": null,
   "id": "563509cd",
   "metadata": {
    "ExecuteTime": {
     "start_time": "2022-08-07T13:00:36.738Z"
    }
   },
   "outputs": [],
   "source": [
    "print(\"Enter three nums\")\n",
    "n1 = float(input(\"Enter n1:\"))\n",
    "n2 = float(input(\"Enter n2:\"))\n",
    "n3 = float(input(\"Enter n3:\"))\n",
    "\n",
    "def max(n1, n2, n3):\n",
    "    if n1 > n2 and n1 > n3 :\n",
    "        return n1\n",
    "\n",
    "    elif n2 > n1 and n2 > n3 :\n",
    "        return n2\n",
    "\n",
    "    elif n3 > n1 and n3 > n2 :\n",
    "        returt n3"
   ]
  },
  {
   "cell_type": "markdown",
   "id": "3e79fea6",
   "metadata": {
    "ExecuteTime": {
     "start_time": "2022-08-07T12:56:34.271Z"
    }
   },
   "source": [
    "6-Write a Python function to sum all the numbers in a list."
   ]
  },
  {
   "cell_type": "code",
   "execution_count": null,
   "id": "7cf76d68",
   "metadata": {
    "ExecuteTime": {
     "start_time": "2022-08-07T13:08:02.991Z"
    }
   },
   "outputs": [],
   "source": [
    "def Sum_Nums(List):\n",
    "    Sum_List= 0\n",
    "    for nums in List: Sum_List+= nums\n",
    "    return Sum_List\n",
    "#List=[1, 2, 3, 4]"
   ]
  },
  {
   "cell_type": "markdown",
   "id": "3f92e758",
   "metadata": {},
   "source": [
    "7_Write a Python program that prints all the numbers from 0 to 6 except 3 \n",
    "and 6.\n",
    "Note : Use 'continue' statement"
   ]
  },
  {
   "cell_type": "code",
   "execution_count": null,
   "id": "b926acf9",
   "metadata": {
    "ExecuteTime": {
     "start_time": "2022-08-07T13:11:02.564Z"
    }
   },
   "outputs": [],
   "source": [
    "for A in range( 0 , 6+1 ):\n",
    "    if A!= 3 and A!= 6:\n",
    "        print(A)\n",
    "    else:\n",
    "        continue"
   ]
  },
  {
   "cell_type": "markdown",
   "id": "c1dd187c",
   "metadata": {
    "ExecuteTime": {
     "start_time": "2022-08-07T13:10:59.109Z"
    }
   },
   "source": [
    "8-Write a Python function to calculate the factorial of a number (a non\u0002negative integer). The function accepts the number as a non negative integer). The function accepts the number as an argument"
   ]
  },
  {
   "cell_type": "code",
   "execution_count": null,
   "id": "25ff2ea5",
   "metadata": {
    "ExecuteTime": {
     "start_time": "2022-08-07T13:15:38.601Z"
    }
   },
   "outputs": [],
   "source": [
    "def fac(num):\n",
    "    fac_num = 1\n",
    "    for A in range( 1 , num+ 1):\n",
    "        fac_num *= A\n",
    "    return fac_num\n",
    "\n",
    "iinput=int(input(\"Enter a num: \"))\n",
    "fac(iinput)"
   ]
  },
  {
   "cell_type": "markdown",
   "id": "be1b59c3",
   "metadata": {},
   "source": [
    "9-Write a Python function that takes a list and returns a new list with \n",
    "unique elements of the first list"
   ]
  },
  {
   "cell_type": "code",
   "execution_count": null,
   "id": "491cd302",
   "metadata": {
    "ExecuteTime": {
     "start_time": "2022-08-07T13:22:20.860Z"
    }
   },
   "outputs": [],
   "source": [
    "def unique_list(l):\n",
    "  i = []\n",
    "  for j in l:\n",
    "    if j not in x:\n",
    "      i.append(j)\n",
    "  return i\n",
    "\n",
    "print(unique_list([1,,2,,3,4,5,1,3,7,4])) "
   ]
  },
  {
   "cell_type": "markdown",
   "id": "cdcdae2f",
   "metadata": {},
   "source": [
    "10-Write a Python program to create a lambda function that adds 15 to a \n",
    "given number passed in as an argument, also create a lambda function \n",
    "that multiplies argument x with argument y and print the result. Bonus."
   ]
  },
  {
   "cell_type": "code",
   "execution_count": null,
   "id": "5b345c9e",
   "metadata": {
    "ExecuteTime": {
     "start_time": "2022-08-07T13:30:23.939Z"
    }
   },
   "outputs": [],
   "source": [
    "A = lambda n : n + 15\n",
    "#print(A(30))\n",
    "B = lambda x, y : x * y\n",
    "#print(B(20 , 50))"
   ]
  }
 ],
 "metadata": {
  "kernelspec": {
   "display_name": "Python 3 (ipykernel)",
   "language": "python",
   "name": "python3"
  },
  "language_info": {
   "codemirror_mode": {
    "name": "ipython",
    "version": 3
   },
   "file_extension": ".py",
   "mimetype": "text/x-python",
   "name": "python",
   "nbconvert_exporter": "python",
   "pygments_lexer": "ipython3",
   "version": "3.9.12"
  }
 },
 "nbformat": 4,
 "nbformat_minor": 5
}
