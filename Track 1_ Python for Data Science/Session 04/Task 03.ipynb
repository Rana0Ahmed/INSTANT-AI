{
 "cells": [
  {
   "cell_type": "markdown",
   "id": "85df8ddc",
   "metadata": {},
   "source": [
    "How to remove an element that is repeted more than once inside a list"
   ]
  },
  {
   "cell_type": "code",
   "execution_count": 1,
   "id": "080e73d1",
   "metadata": {
    "ExecuteTime": {
     "end_time": "2022-08-07T13:48:35.678079Z",
     "start_time": "2022-08-07T13:48:35.654095Z"
    }
   },
   "outputs": [],
   "source": [
    "list1 = [1, 2, 3, 4, 5, 3, 6, 3, 7]"
   ]
  },
  {
   "cell_type": "code",
   "execution_count": 2,
   "id": "a4a5a5fd",
   "metadata": {
    "ExecuteTime": {
     "end_time": "2022-08-07T13:48:38.167186Z",
     "start_time": "2022-08-07T13:48:38.159129Z"
    }
   },
   "outputs": [],
   "source": [
    "def delete(List, Value):\n",
    "    for element in List:\n",
    "        if element == Value:\n",
    "            List.remove(Value)\n",
    "    return List"
   ]
  },
  {
   "cell_type": "code",
   "execution_count": 3,
   "id": "9755e871",
   "metadata": {
    "ExecuteTime": {
     "end_time": "2022-08-07T13:48:40.277110Z",
     "start_time": "2022-08-07T13:48:40.253099Z"
    }
   },
   "outputs": [
    {
     "data": {
      "text/plain": [
       "[1, 2, 4, 5, 6, 7]"
      ]
     },
     "execution_count": 3,
     "metadata": {},
     "output_type": "execute_result"
    }
   ],
   "source": [
    "delete(list1, 3)"
   ]
  }
 ],
 "metadata": {
  "kernelspec": {
   "display_name": "Python 3 (ipykernel)",
   "language": "python",
   "name": "python3"
  },
  "language_info": {
   "codemirror_mode": {
    "name": "ipython",
    "version": 3
   },
   "file_extension": ".py",
   "mimetype": "text/x-python",
   "name": "python",
   "nbconvert_exporter": "python",
   "pygments_lexer": "ipython3",
   "version": "3.9.12"
  }
 },
 "nbformat": 4,
 "nbformat_minor": 5
}
