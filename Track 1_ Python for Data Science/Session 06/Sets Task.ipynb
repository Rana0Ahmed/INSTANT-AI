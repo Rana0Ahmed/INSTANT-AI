{
 "cells": [
  {
   "cell_type": "markdown",
   "id": "863c3f5b",
   "metadata": {},
   "source": [
    "# Implement Unordered/Multi set in Python."
   ]
  },
  {
   "cell_type": "markdown",
   "id": "3f6b29c1",
   "metadata": {},
   "source": [
    "## ->set: unordered collection of items that does not allow duplicates.\n",
    "#### -Unordered Set: is that, it is not possible to store duplicate entries in that data structure.\n",
    "#### -MultiSet: sorts only, it can store duplicate elements also."
   ]
  },
  {
   "cell_type": "code",
   "execution_count": 4,
   "id": "7325d1e3",
   "metadata": {
    "ExecuteTime": {
     "end_time": "2022-08-30T21:55:34.624350Z",
     "start_time": "2022-08-30T21:55:34.616355Z"
    }
   },
   "outputs": [
    {
     "name": "stdout",
     "output_type": "stream",
     "text": [
      "{1, 2, 3, 5, 6}\n"
     ]
    }
   ],
   "source": [
    "# EX of set:\n",
    "s = {1, 2, 5, 2, 3, 6, 3}\n",
    "\n",
    "print(s)"
   ]
  },
  {
   "cell_type": "code",
   "execution_count": 24,
   "id": "4010fccf",
   "metadata": {
    "ExecuteTime": {
     "end_time": "2022-08-30T22:21:39.375846Z",
     "start_time": "2022-08-30T22:21:39.359854Z"
    }
   },
   "outputs": [],
   "source": [
    "# EX for Unordered_Set:\n",
    "def unordered_set(l):\n",
    "    unordered_result = []\n",
    "    for i in l:\n",
    "        if i not in unordered_result:\n",
    "            unordered_result.append(i)\n",
    "    print(\"Unordered_set = \"+ str(unordered_result))"
   ]
  },
  {
   "cell_type": "code",
   "execution_count": 25,
   "id": "4cc1906c",
   "metadata": {
    "ExecuteTime": {
     "end_time": "2022-08-30T22:21:39.890315Z",
     "start_time": "2022-08-30T22:21:39.882320Z"
    }
   },
   "outputs": [],
   "source": [
    "l = [1, 5, 9, 1, 5, 3, 7,]"
   ]
  },
  {
   "cell_type": "code",
   "execution_count": 26,
   "id": "f47ef9ba",
   "metadata": {
    "ExecuteTime": {
     "end_time": "2022-08-30T22:21:40.306672Z",
     "start_time": "2022-08-30T22:21:40.282653Z"
    }
   },
   "outputs": [
    {
     "name": "stdout",
     "output_type": "stream",
     "text": [
      "Unordered_set = [1, 5, 9, 3, 7]\n",
      "None\n"
     ]
    }
   ],
   "source": [
    "print(unordered_set(l))"
   ]
  },
  {
   "cell_type": "code",
   "execution_count": 27,
   "id": "e12b083f",
   "metadata": {
    "ExecuteTime": {
     "end_time": "2022-08-30T22:26:20.444157Z",
     "start_time": "2022-08-30T22:26:20.436162Z"
    }
   },
   "outputs": [],
   "source": [
    "# EX for Multi_Set\n",
    "def multi_set(l):\n",
    "    sorted_set = []\n",
    "    \n",
    "    while l:\n",
    "        minvalue = l[0]\n",
    "        \n",
    "        for i in l:\n",
    "            if minvalue >= i:\n",
    "                minvalue = i\n",
    "        \n",
    "        sorted_set.append(minvalue)\n",
    "        l.remove(minvalue)\n",
    "    print(\"Multi_Set = \" + str(sorted_set))"
   ]
  },
  {
   "cell_type": "code",
   "execution_count": 28,
   "id": "5936e7e9",
   "metadata": {
    "ExecuteTime": {
     "end_time": "2022-08-30T22:27:20.590241Z",
     "start_time": "2022-08-30T22:27:20.582246Z"
    }
   },
   "outputs": [],
   "source": [
    "l = [1, 2, 3, 4, 5, 1, 2, 3, 5, 5, 9, 4, 5, 6]"
   ]
  },
  {
   "cell_type": "code",
   "execution_count": 30,
   "id": "88c7112b",
   "metadata": {
    "ExecuteTime": {
     "end_time": "2022-08-30T22:27:58.190273Z",
     "start_time": "2022-08-30T22:27:58.174284Z"
    }
   },
   "outputs": [
    {
     "name": "stdout",
     "output_type": "stream",
     "text": [
      "Multi_Set = [1, 1, 2, 2, 3, 3, 4, 4, 5, 5, 5, 5, 6, 9]\n",
      "None\n"
     ]
    }
   ],
   "source": [
    "print(multi_set(l))"
   ]
  }
 ],
 "metadata": {
  "kernelspec": {
   "display_name": "Python 3 (ipykernel)",
   "language": "python",
   "name": "python3"
  },
  "language_info": {
   "codemirror_mode": {
    "name": "ipython",
    "version": 3
   },
   "file_extension": ".py",
   "mimetype": "text/x-python",
   "name": "python",
   "nbconvert_exporter": "python",
   "pygments_lexer": "ipython3",
   "version": "3.9.12"
  }
 },
 "nbformat": 4,
 "nbformat_minor": 5
}
