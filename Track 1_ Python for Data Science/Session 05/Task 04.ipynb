{
 "cells": [
  {
   "cell_type": "markdown",
   "id": "edf59d4d",
   "metadata": {},
   "source": [
    "# 1. ITERATIVE CODE"
   ]
  },
  {
   "cell_type": "code",
   "execution_count": 2,
   "id": "ba6565c3",
   "metadata": {
    "ExecuteTime": {
     "end_time": "2022-08-12T15:32:24.004932Z",
     "start_time": "2022-08-12T15:32:23.992947Z"
    }
   },
   "outputs": [],
   "source": [
    "def factorial_with_iteration(number):\n",
    "    if number < 0:\n",
    "        print('Invalid entry, Cannot find factorial of a negative number')\n",
    "        return -1\n",
    "    \n",
    "    fact = 1\n",
    "    \n",
    "    while(number > 0):\n",
    "        fact = fact * number\n",
    "        number = number - 1\n",
    "    return fact"
   ]
  },
  {
   "cell_type": "markdown",
   "id": "8bbd7a8c",
   "metadata": {},
   "source": [
    "# 2. RECURSIVE CODE"
   ]
  },
  {
   "cell_type": "code",
   "execution_count": 3,
   "id": "36117552",
   "metadata": {
    "ExecuteTime": {
     "end_time": "2022-08-12T15:34:52.144941Z",
     "start_time": "2022-08-12T15:34:52.124966Z"
    }
   },
   "outputs": [],
   "source": [
    "def factorial(number):\n",
    "    \n",
    "    if number < 0:\n",
    "        print('Invalid entry, Cannot find factorial of a negative number')\n",
    "        return -1\n",
    "    \n",
    "    if number == 1 or number == 0:\n",
    "        return 1\n",
    "    else:\n",
    "        return number * factorial(number - 1)"
   ]
  },
  {
   "cell_type": "markdown",
   "id": "06ed26f2",
   "metadata": {},
   "source": [
    "# 3. BINARY SEARCH CODE (Recursive)"
   ]
  },
  {
   "cell_type": "code",
   "execution_count": 10,
   "id": "79491df5",
   "metadata": {
    "ExecuteTime": {
     "end_time": "2022-08-12T20:08:11.919870Z",
     "start_time": "2022-08-12T20:08:11.899890Z"
    }
   },
   "outputs": [
    {
     "name": "stdout",
     "output_type": "stream",
     "text": [
      "[1, 2, 3, 4, 5, 6, 7]\n",
      "4\n",
      "3\n"
     ]
    }
   ],
   "source": [
    "def binary_search(arr, value, left, right):\n",
    "\n",
    "    if right >= left:\n",
    "        middle = left + (right - left)//2\n",
    "        if arr[middle] == value:\n",
    "            return middle\n",
    "        elif arr[middle] > value:\n",
    "            return binary_search(arr, value, left, middle-1)\n",
    "        else:\n",
    "            return binary_search(arr, value, middle + 1, right)\n",
    "    else:\n",
    "        return -1\n",
    "\n",
    "arr = [1, 2, 3, 4, 5, 6, 7]\n",
    "a = 9\n",
    "\n",
    "print(arr)\n",
    "print(value)\n",
    "index = binary_search(arr, value, 0, len(arr)-1)\n",
    "\n",
    "if index != -1:\n",
    "    print(str(index))\n",
    "else:\n",
    "    print(\"Element Is Not found\")"
   ]
  }
 ],
 "metadata": {
  "kernelspec": {
   "display_name": "Python 3 (ipykernel)",
   "language": "python",
   "name": "python3"
  },
  "language_info": {
   "codemirror_mode": {
    "name": "ipython",
    "version": 3
   },
   "file_extension": ".py",
   "mimetype": "text/x-python",
   "name": "python",
   "nbconvert_exporter": "python",
   "pygments_lexer": "ipython3",
   "version": "3.9.12"
  }
 },
 "nbformat": 4,
 "nbformat_minor": 5
}
