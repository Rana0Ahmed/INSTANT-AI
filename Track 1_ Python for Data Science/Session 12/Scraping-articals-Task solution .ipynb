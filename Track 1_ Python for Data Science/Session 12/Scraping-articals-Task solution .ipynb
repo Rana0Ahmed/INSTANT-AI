{
 "cells": [
  {
   "cell_type": "code",
   "execution_count": 1,
   "id": "ff4e37ab",
   "metadata": {
    "ExecuteTime": {
     "end_time": "2022-09-11T08:56:17.750692Z",
     "start_time": "2022-09-11T08:56:17.568006Z"
    }
   },
   "outputs": [],
   "source": [
    "import requests\n",
    "from bs4 import BeautifulSoup\n",
    "import csv"
   ]
  },
  {
   "cell_type": "code",
   "execution_count": 6,
   "id": "46f8fa2f",
   "metadata": {
    "ExecuteTime": {
     "end_time": "2022-09-11T09:04:34.513782Z",
     "start_time": "2022-09-11T09:04:33.492786Z"
    }
   },
   "outputs": [],
   "source": [
    "website = requests.get(\"https://coreyms.com/page/3\").text\n",
    "soup = BeautifulSoup(website, 'lxml')"
   ]
  },
  {
   "cell_type": "code",
   "execution_count": 7,
   "id": "bf6c8ec7",
   "metadata": {
    "ExecuteTime": {
     "end_time": "2022-09-11T09:06:58.645052Z",
     "start_time": "2022-09-11T09:06:55.796396Z"
    }
   },
   "outputs": [],
   "source": [
    "csvfile = open ('articals.csv', 'w', encoding='utf-8') \n",
    "writer = csv.writer(csvfile) \n",
    "writer.writerow(['headline', 'summary', 'link'])\n",
    "articles = soup.find_all('article')\n",
    "\n",
    "for i in articles :\n",
    "    headline = i.h2.a.text\n",
    "    summary = i.find('div', class_ ='entry-content').p.text\n",
    "    link = \"None\"\n",
    "    \n",
    "    try:\n",
    "        vid = i.find('iframe', class_ = \"youtube-player\")['src']\n",
    "        vid_id = vid.split('/')\n",
    "        video = vid_id[4].split('?')\n",
    "        c = video[0]\n",
    "        link = f'https://youtube.com/watch?v={c}'\n",
    "    except Exception as e:\n",
    "        link = \"No Link\"\n",
    "        \n",
    "    writer.writerow([headline, summary , link ])    \n",
    "        \n",
    "csvfile.close()            "
   ]
  },
  {
   "cell_type": "code",
   "execution_count": 8,
   "id": "c2b72141",
   "metadata": {
    "ExecuteTime": {
     "end_time": "2022-09-11T09:07:54.899557Z",
     "start_time": "2022-09-11T09:07:54.276432Z"
    }
   },
   "outputs": [
    {
     "name": "stdout",
     "output_type": "stream",
     "text": [
      "                                            headline  \\\n",
      "0  Python Requests Tutorial: Request Web Pages, D...   \n",
      "1  Python Django Tutorial: Deploying Your Applica...   \n",
      "2  Python Django Tutorial: Full-Featured Web App ...   \n",
      "3  Python Django Tutorial: How to enable HTTPS wi...   \n",
      "4  Python Flask Tutorial: How to enable HTTPS wit...   \n",
      "5  Python Django Tutorial: How to Use Custom Doma...   \n",
      "6  Python Flask Tutorial: How to Use Custom Domai...   \n",
      "7  Python Flask Tutorial: Deploying Your Applicat...   \n",
      "8  Python Django Tutorial: Deploying Your Applica...   \n",
      "9  Python Tutorial: Itertools Module – Iterator F...   \n",
      "\n",
      "                                             summary  \\\n",
      "0  In this Python Programming Tutorial, we will b...   \n",
      "1  In this Python Django Tutorial, we will be lea...   \n",
      "2  In this Python Django Tutorial, we will be lea...   \n",
      "3  In this Python Django Tutorial, we will be lea...   \n",
      "4  In this Python Flask Tutorial, we will be lear...   \n",
      "5  In this Python Django Tutorial, we will be lea...   \n",
      "6  In this Python Flask Tutorial, we will be lear...   \n",
      "7  In this Python Flask Tutorial, we will be lear...   \n",
      "8  In this Python Django Tutorial, we will be lea...   \n",
      "9  In this Python Programming Tutorial, we will b...   \n",
      "\n",
      "                                      link  \n",
      "0  https://youtube.com/watch?v=tb8gHvYlCFs  \n",
      "1  https://youtube.com/watch?v=6DI_7Zja8Zc  \n",
      "2  https://youtube.com/watch?v=kt3ZtW9MXhw  \n",
      "3  https://youtube.com/watch?v=NhidVhNHfeU  \n",
      "4  https://youtube.com/watch?v=Gdys9qPjuKs  \n",
      "5  https://youtube.com/watch?v=D2lwk1Ukgz0  \n",
      "6  https://youtube.com/watch?v=LUFn-QVcmB8  \n",
      "7  https://youtube.com/watch?v=goToXTC96Co  \n",
      "8  https://youtube.com/watch?v=Sa_kQheCnds  \n",
      "9  https://youtube.com/watch?v=Qu3dThVy6KQ  \n"
     ]
    }
   ],
   "source": [
    "import pandas as pd\n",
    "scrappedDate = pd.read_csv('articals.csv', na_values ='No Link')\n",
    "print(scrappedDate)"
   ]
  }
 ],
 "metadata": {
  "kernelspec": {
   "display_name": "Python 3 (ipykernel)",
   "language": "python",
   "name": "python3"
  },
  "language_info": {
   "codemirror_mode": {
    "name": "ipython",
    "version": 3
   },
   "file_extension": ".py",
   "mimetype": "text/x-python",
   "name": "python",
   "nbconvert_exporter": "python",
   "pygments_lexer": "ipython3",
   "version": "3.9.12"
  }
 },
 "nbformat": 4,
 "nbformat_minor": 5
}
