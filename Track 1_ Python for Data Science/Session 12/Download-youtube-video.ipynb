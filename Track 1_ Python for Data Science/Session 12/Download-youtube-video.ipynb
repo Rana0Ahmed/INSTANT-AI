{
 "cells": [
  {
   "cell_type": "markdown",
   "id": "51388700",
   "metadata": {},
   "source": [
    "## Download-youtube-video"
   ]
  },
  {
   "cell_type": "code",
   "execution_count": 1,
   "id": "16b6dd38",
   "metadata": {
    "ExecuteTime": {
     "end_time": "2022-09-11T06:14:22.633194Z",
     "start_time": "2022-09-11T06:14:22.578238Z"
    }
   },
   "outputs": [],
   "source": [
    "# import the package\n",
    "from pytube import YouTube"
   ]
  },
  {
   "cell_type": "code",
   "execution_count": 2,
   "id": "d8ac2e05",
   "metadata": {
    "ExecuteTime": {
     "end_time": "2022-09-11T06:14:22.648187Z",
     "start_time": "2022-09-11T06:14:22.633194Z"
    }
   },
   "outputs": [],
   "source": [
    "# get the URL\n",
    "URL = 'https://www.youtube.com/watch?v=D9OOXCu5XMg'\n",
    "#calling the YouTube method on my_video\n",
    "my_video = YouTube(URL)"
   ]
  },
  {
   "cell_type": "code",
   "execution_count": 3,
   "id": "3843366d",
   "metadata": {
    "ExecuteTime": {
     "end_time": "2022-09-11T06:14:23.077252Z",
     "start_time": "2022-09-11T06:14:22.648187Z"
    }
   },
   "outputs": [
    {
     "name": "stdout",
     "output_type": "stream",
     "text": [
      "The Reflection in Me HD\n"
     ]
    }
   ],
   "source": [
    "# fetch the title of the video by using title method\n",
    "print(my_video.title)"
   ]
  },
  {
   "cell_type": "code",
   "execution_count": 4,
   "id": "60ba2d6f",
   "metadata": {
    "ExecuteTime": {
     "end_time": "2022-09-11T06:14:23.092245Z",
     "start_time": "2022-09-11T06:14:23.077252Z"
    }
   },
   "outputs": [
    {
     "name": "stdout",
     "output_type": "stream",
     "text": [
      "https://i.ytimg.com/vi/D9OOXCu5XMg/sddefault.jpg\n"
     ]
    }
   ],
   "source": [
    "# fetch the image of the video by using thimbnail_url method\n",
    "print(my_video.thumbnail_url)"
   ]
  },
  {
   "cell_type": "code",
   "execution_count": 5,
   "id": "e9e5f1d9",
   "metadata": {
    "ExecuteTime": {
     "end_time": "2022-09-11T06:14:25.702486Z",
     "start_time": "2022-09-11T06:14:23.092245Z"
    }
   },
   "outputs": [],
   "source": [
    "# get stream resolution\n",
    "my_video = my_video.streams.get_highest_resolution()\n",
    "\n",
    "# to get all stream resolution for the video, we can use this code :\n",
    "# for stream in my_video.streams:\n",
    "#        print(stream)"
   ]
  },
  {
   "cell_type": "code",
   "execution_count": 7,
   "id": "dc9b535b",
   "metadata": {
    "ExecuteTime": {
     "end_time": "2022-09-11T06:14:33.986312Z",
     "start_time": "2022-09-11T06:14:33.966333Z"
    }
   },
   "outputs": [],
   "source": [
    "# to download YouTube video, we can use download method\n",
    "my_video.download()"
   ]
  }
 ],
 "metadata": {
  "kernelspec": {
   "display_name": "Python 3 (ipykernel)",
   "language": "python",
   "name": "python3"
  },
  "language_info": {
   "codemirror_mode": {
    "name": "ipython",
    "version": 3
   },
   "file_extension": ".py",
   "mimetype": "text/x-python",
   "name": "python",
   "nbconvert_exporter": "python",
   "pygments_lexer": "ipython3",
   "version": "3.9.12"
  }
 },
 "nbformat": 4,
 "nbformat_minor": 5
}
