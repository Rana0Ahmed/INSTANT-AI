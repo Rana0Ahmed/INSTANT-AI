{
 "cells": [
  {
   "cell_type": "markdown",
   "id": "952a7592",
   "metadata": {},
   "source": [
    "# Object-Oriented Programming (OOP)"
   ]
  },
  {
   "cell_type": "markdown",
   "id": "cd99d3f1",
   "metadata": {},
   "source": [
    "## -OOP Basic Consepts:\n",
    "    1-Encapsulation\n",
    "    2-Abstraction\n",
    "    3-Polymorphism\n",
    "    4-Inheritance\n",
    "    5-Composition"
   ]
  },
  {
   "cell_type": "markdown",
   "id": "6365fb7f",
   "metadata": {},
   "source": [
    "## Inheritance:\n",
    "    The second class takes attributes and functions from the first class.\n",
    "    .If all data are public:the second class will inherit all attributes and functions.\n",
    "    .If some data are private:the second class will not these data but will inherit the functions which access these date.\n",
    "    "
   ]
  },
  {
   "cell_type": "markdown",
   "id": "14aaec3e",
   "metadata": {
    "ExecuteTime": {
     "end_time": "2022-08-25T01:08:55.920618Z",
     "start_time": "2022-08-25T01:08:55.914667Z"
    }
   },
   "source": [
    "### The same 2nd example from Session 07 NoteBook"
   ]
  },
  {
   "cell_type": "markdown",
   "id": "850425b5",
   "metadata": {},
   "source": [
    "### Applying Inheritance but we will:\n",
    "  -->add new privite function called '__magicAtt'."
   ]
  },
  {
   "cell_type": "code",
   "execution_count": 1,
   "id": "22e3f13a",
   "metadata": {
    "ExecuteTime": {
     "end_time": "2022-08-25T22:47:06.168093Z",
     "start_time": "2022-08-25T22:47:06.144075Z"
    }
   },
   "outputs": [],
   "source": [
    "class BankAccount:\n",
    "    \n",
    "    #constructor\n",
    "    def __init__(self):\n",
    "        print(\"Welcome to our bank\")\n",
    "        \n",
    "        #attributes\n",
    "        self.name = input((\"Please enter your name: \"))\n",
    "        self.__nationalid = int(input(\"Please enter your nationalid: \"))\n",
    "        self.__password = int(input(\"Please enter your password: \"))\n",
    "        self.phone = int(input(\"Please enter your phone: \"))\n",
    "        self.__credit = 0\n",
    "    \n",
    "    #functions\n",
    "    def deposite(self):\n",
    "        amount = float(input(\"Please enter how much: \"))\n",
    "        self.__credit = self.__credit + amount\n",
    "     \n",
    "    def directdeposite(self, amount):\n",
    "        self.__credit += amount\n",
    "        print(\"Done, your credit is: \", self.__credit)\n",
    "        \n",
    "    def showcredit(self):\n",
    "        userpassword = int(input(\"Please enter your password: \"))\n",
    "        if userpassword == self.__password:\n",
    "            print(\"Your credit is: \", self.__credit)\n",
    "        \n",
    "    def withdraw(self):    \n",
    "        amount = float(input(\"Please enter how much: \"))\n",
    "        if self.__credit - amount < 0 :\n",
    "            print(\"You donnot have enough money\")\n",
    "        else: \n",
    "            self.__credit = self.__credit - amount\n",
    "            print(\"Successful operation, your credit now is: \", self.credit)\n",
    "    \n",
    "    def changepassword(self):\n",
    "        nid = int(input(\"Please enter your nationalid: \"))\n",
    "        if nid == self.__nationalid:\n",
    "            self.__password = input((\"Please enter your new password: \"))\n",
    "            \n",
    "    def __magicAtt(self):\n",
    "        self.__magic = 0\n",
    "        "
   ]
  },
  {
   "cell_type": "code",
   "execution_count": 2,
   "id": "dd32f982",
   "metadata": {
    "ExecuteTime": {
     "end_time": "2022-08-25T22:47:06.184048Z",
     "start_time": "2022-08-25T22:47:06.168093Z"
    }
   },
   "outputs": [],
   "source": [
    "class AhlyBank(BankAccount): #inherit all public attributes and funcs from 'BankAccount' class.\n",
    "    pass"
   ]
  },
  {
   "cell_type": "code",
   "execution_count": 3,
   "id": "91da0f48",
   "metadata": {
    "ExecuteTime": {
     "end_time": "2022-08-25T22:47:16.397409Z",
     "start_time": "2022-08-25T22:47:06.184048Z"
    }
   },
   "outputs": [
    {
     "name": "stdout",
     "output_type": "stream",
     "text": [
      "Welcome to our bank\n",
      "Please enter your name: Ahmed\n",
      "Please enter your nationalid: 123\n",
      "Please enter your password: 123\n",
      "Please enter your phone: 123\n"
     ]
    }
   ],
   "source": [
    "a = BankAccount()"
   ]
  },
  {
   "cell_type": "code",
   "execution_count": 4,
   "id": "925fa5b9",
   "metadata": {
    "ExecuteTime": {
     "end_time": "2022-08-25T22:47:25.649786Z",
     "start_time": "2022-08-25T22:47:16.397409Z"
    }
   },
   "outputs": [
    {
     "name": "stdout",
     "output_type": "stream",
     "text": [
      "Welcome to our bank\n",
      "Please enter your name: Ahmed\n",
      "Please enter your nationalid: 123\n",
      "Please enter your password: 123\n",
      "Please enter your phone: 123\n"
     ]
    }
   ],
   "source": [
    "a = AhlyBank()"
   ]
  },
  {
   "cell_type": "code",
   "execution_count": 5,
   "id": "18471905",
   "metadata": {
    "ExecuteTime": {
     "end_time": "2022-08-25T22:47:28.393958Z",
     "start_time": "2022-08-25T22:47:25.649786Z"
    }
   },
   "outputs": [
    {
     "name": "stdout",
     "output_type": "stream",
     "text": [
      "Please enter your password: 123\n",
      "Your credit is:  0\n"
     ]
    }
   ],
   "source": [
    "a.showcredit() #so we can accesss private data with its public function"
   ]
  },
  {
   "cell_type": "code",
   "execution_count": 6,
   "id": "7d7a3058",
   "metadata": {
    "ExecuteTime": {
     "end_time": "2022-08-25T22:47:28.922846Z",
     "start_time": "2022-08-25T22:47:28.393958Z"
    }
   },
   "outputs": [
    {
     "ename": "AttributeError",
     "evalue": "'AhlyBank' object has no attribute '__magicAtt'",
     "output_type": "error",
     "traceback": [
      "\u001b[1;31m---------------------------------------------------------------------------\u001b[0m",
      "\u001b[1;31mAttributeError\u001b[0m                            Traceback (most recent call last)",
      "Input \u001b[1;32mIn [6]\u001b[0m, in \u001b[0;36m<cell line: 1>\u001b[1;34m()\u001b[0m\n\u001b[1;32m----> 1\u001b[0m \u001b[43ma\u001b[49m\u001b[38;5;241;43m.\u001b[39;49m\u001b[43m__magicAtt\u001b[49m()\n",
      "\u001b[1;31mAttributeError\u001b[0m: 'AhlyBank' object has no attribute '__magicAtt'"
     ]
    }
   ],
   "source": [
    "a.__magicAtt() #we can not inherit this fun because this fun is private"
   ]
  },
  {
   "cell_type": "markdown",
   "id": "5b4b3c3d",
   "metadata": {},
   "source": [
    "## Add Some functions to the sme class"
   ]
  },
  {
   "cell_type": "code",
   "execution_count": 8,
   "id": "619ff366",
   "metadata": {
    "ExecuteTime": {
     "end_time": "2022-08-25T22:48:16.956333Z",
     "start_time": "2022-08-25T22:48:16.940343Z"
    }
   },
   "outputs": [],
   "source": [
    "class AhlyBank(BankAccount):\n",
    "    \n",
    "    def DigitalWallet(self):\n",
    "        print(\"Your digital wallet has been created, please enter its password: \")\n",
    "        self.__walletpassword = int(input(\"Please enter your walletpassword\"))\n",
    "        self.__walletcredit = 0\n",
    "        \n",
    "    def addtowallet(self):\n",
    "        wpassword = int(input(\"Please enter your wpassword\"))\n",
    "        if wpassword == self.__walletpassword:\n",
    "            amount = float(input(\"Please enter how much: \"))\n",
    "            self.__walletcredit += amount\n",
    "            print(\"Your walletcredit has been updated, your walletcredit is now: \", self.__walletcredit)\n",
    "            \n",
    "            \n",
    "            "
   ]
  },
  {
   "cell_type": "code",
   "execution_count": 9,
   "id": "8b3423f8",
   "metadata": {
    "ExecuteTime": {
     "end_time": "2022-08-25T22:48:23.966266Z",
     "start_time": "2022-08-25T22:48:18.345060Z"
    }
   },
   "outputs": [
    {
     "name": "stdout",
     "output_type": "stream",
     "text": [
      "Welcome to our bank\n",
      "Please enter your name: ahmed\n",
      "Please enter your nationalid: 123\n",
      "Please enter your password: 123\n",
      "Please enter your phone: 123\n"
     ]
    }
   ],
   "source": [
    "a = AhlyBank()"
   ]
  },
  {
   "cell_type": "code",
   "execution_count": 10,
   "id": "daf66af1",
   "metadata": {
    "ExecuteTime": {
     "end_time": "2022-08-25T22:48:28.191216Z",
     "start_time": "2022-08-25T22:48:26.073974Z"
    }
   },
   "outputs": [
    {
     "name": "stdout",
     "output_type": "stream",
     "text": [
      "Your digital wallet has been created, please enter its password: \n",
      "Please enter your walletpassword123\n"
     ]
    }
   ],
   "source": [
    "a.DigitalWallet()"
   ]
  },
  {
   "cell_type": "code",
   "execution_count": 11,
   "id": "a6890065",
   "metadata": {
    "ExecuteTime": {
     "end_time": "2022-08-25T22:48:34.013670Z",
     "start_time": "2022-08-25T22:48:29.638029Z"
    }
   },
   "outputs": [
    {
     "name": "stdout",
     "output_type": "stream",
     "text": [
      "Please enter your wpassword123\n",
      "Please enter how much: 1200\n",
      "Your walletcredit has been updated, your walletcredit is now:  1200.0\n"
     ]
    }
   ],
   "source": [
    "a.addtowallet() #Digital Wallet credit"
   ]
  },
  {
   "cell_type": "code",
   "execution_count": 12,
   "id": "36d40ad2",
   "metadata": {
    "ExecuteTime": {
     "end_time": "2022-08-25T22:48:38.012257Z",
     "start_time": "2022-08-25T22:48:35.458614Z"
    }
   },
   "outputs": [
    {
     "name": "stdout",
     "output_type": "stream",
     "text": [
      "Please enter your password: 123\n",
      "Your credit is:  0\n"
     ]
    }
   ],
   "source": [
    "a.showcredit() #Account credit"
   ]
  },
  {
   "cell_type": "markdown",
   "id": "75e42f61",
   "metadata": {},
   "source": [
    "## Trying to access a privete attribute (self.__credit) from BankAccount Class by adding 'showallcredit'function\n"
   ]
  },
  {
   "cell_type": "code",
   "execution_count": 13,
   "id": "50ab9a45",
   "metadata": {
    "ExecuteTime": {
     "end_time": "2022-08-25T22:48:40.729018Z",
     "start_time": "2022-08-25T22:48:40.712993Z"
    }
   },
   "outputs": [],
   "source": [
    "class AhlyBank(BankAccount):\n",
    "    \n",
    "    def DigitalWallet(self):\n",
    "        print(\"Your digital wallet has been created, please enter its password: \")\n",
    "        self.__walletpassword = int(input(\"Please enter your walletpassword\"))\n",
    "        self.__walletcredit = 0\n",
    "        \n",
    "    def addtowallet(self):\n",
    "        wpassword = int(input(\"Please enter your wpassword\"))\n",
    "        if wpassword == self.__walletpassword:\n",
    "            amount = float(input(\"Please enter how much: \"))\n",
    "            self.__walletcredit += amount\n",
    "            print(\"Your walletcredit has been updated, your walletcredit is now: \", self.__walletcredit)\n",
    "            \n",
    "    def showallcredit(self):\n",
    "        print(self.__walletcredit + self.__credit)\n",
    "        "
   ]
  },
  {
   "cell_type": "code",
   "execution_count": 14,
   "id": "1ad9fc72",
   "metadata": {
    "ExecuteTime": {
     "end_time": "2022-08-25T22:48:48.048809Z",
     "start_time": "2022-08-25T22:48:41.802774Z"
    }
   },
   "outputs": [
    {
     "name": "stdout",
     "output_type": "stream",
     "text": [
      "Welcome to our bank\n",
      "Please enter your name: ahmed\n",
      "Please enter your nationalid: 123\n",
      "Please enter your password: 123\n",
      "Please enter your phone: 123\n"
     ]
    }
   ],
   "source": [
    "a = AhlyBank()"
   ]
  },
  {
   "cell_type": "code",
   "execution_count": 15,
   "id": "bf8e5357",
   "metadata": {
    "ExecuteTime": {
     "end_time": "2022-08-25T22:48:52.288831Z",
     "start_time": "2022-08-25T22:48:49.588853Z"
    }
   },
   "outputs": [
    {
     "name": "stdout",
     "output_type": "stream",
     "text": [
      "Your digital wallet has been created, please enter its password: \n",
      "Please enter your walletpassword123\n"
     ]
    }
   ],
   "source": [
    "a.DigitalWallet()"
   ]
  },
  {
   "cell_type": "code",
   "execution_count": 16,
   "id": "3a8a88c7",
   "metadata": {
    "ExecuteTime": {
     "end_time": "2022-08-25T22:48:53.931895Z",
     "start_time": "2022-08-25T22:48:53.891876Z"
    }
   },
   "outputs": [
    {
     "ename": "AttributeError",
     "evalue": "'AhlyBank' object has no attribute '_AhlyBank__credit'",
     "output_type": "error",
     "traceback": [
      "\u001b[1;31m---------------------------------------------------------------------------\u001b[0m",
      "\u001b[1;31mAttributeError\u001b[0m                            Traceback (most recent call last)",
      "Input \u001b[1;32mIn [16]\u001b[0m, in \u001b[0;36m<cell line: 1>\u001b[1;34m()\u001b[0m\n\u001b[1;32m----> 1\u001b[0m \u001b[43ma\u001b[49m\u001b[38;5;241;43m.\u001b[39;49m\u001b[43mshowallcredit\u001b[49m\u001b[43m(\u001b[49m\u001b[43m)\u001b[49m\n",
      "Input \u001b[1;32mIn [13]\u001b[0m, in \u001b[0;36mAhlyBank.showallcredit\u001b[1;34m(self)\u001b[0m\n\u001b[0;32m     15\u001b[0m \u001b[38;5;28;01mdef\u001b[39;00m \u001b[38;5;21mshowallcredit\u001b[39m(\u001b[38;5;28mself\u001b[39m):\n\u001b[1;32m---> 16\u001b[0m     \u001b[38;5;28mprint\u001b[39m(\u001b[38;5;28mself\u001b[39m\u001b[38;5;241m.\u001b[39m__walletcredit \u001b[38;5;241m+\u001b[39m \u001b[38;5;28;43mself\u001b[39;49m\u001b[38;5;241;43m.\u001b[39;49m\u001b[43m__credit\u001b[49m)\n",
      "\u001b[1;31mAttributeError\u001b[0m: 'AhlyBank' object has no attribute '_AhlyBank__credit'"
     ]
    }
   ],
   "source": [
    "a.showallcredit()"
   ]
  },
  {
   "cell_type": "markdown",
   "id": "58111109",
   "metadata": {},
   "source": [
    "## Using super. insted of self(). ."
   ]
  },
  {
   "cell_type": "code",
   "execution_count": 17,
   "id": "68e0cddd",
   "metadata": {
    "ExecuteTime": {
     "end_time": "2022-08-25T22:49:01.421485Z",
     "start_time": "2022-08-25T22:49:01.413457Z"
    }
   },
   "outputs": [],
   "source": [
    "class AhlyBank(BankAccount):\n",
    "    \n",
    "    def DigitalWallet(self):\n",
    "        print(\"Your digital wallet has been created, please enter its password: \")\n",
    "        self.__walletpassword = int(input(\"Please enter your walletpassword\"))\n",
    "        self.__walletcredit = 0\n",
    "        \n",
    "    def addtowallet(self):\n",
    "        wpassword = int(input(\"Please enter your wpassword\"))\n",
    "        if wpassword == self.__walletpassword:\n",
    "            amount = float(input(\"Please enter how much: \"))\n",
    "            self.__walletcredit += amount\n",
    "            print(\"Your walletcredit has been updated, your walletcredit is now: \", self.__walletcredit)\n",
    "            \n",
    "    def showallcredit(self):\n",
    "        print(self.__walletcredit + super().__credit)"
   ]
  },
  {
   "cell_type": "code",
   "execution_count": 18,
   "id": "e10b30a6",
   "metadata": {
    "ExecuteTime": {
     "end_time": "2022-08-25T22:49:07.178282Z",
     "start_time": "2022-08-25T22:49:01.785242Z"
    }
   },
   "outputs": [
    {
     "name": "stdout",
     "output_type": "stream",
     "text": [
      "Welcome to our bank\n",
      "Please enter your name: ahmed\n",
      "Please enter your nationalid: 123\n",
      "Please enter your password: 123\n",
      "Please enter your phone: 123\n"
     ]
    }
   ],
   "source": [
    "a = AhlyBank()"
   ]
  },
  {
   "cell_type": "code",
   "execution_count": 19,
   "id": "ff5266e8",
   "metadata": {
    "ExecuteTime": {
     "end_time": "2022-08-25T22:49:11.448222Z",
     "start_time": "2022-08-25T22:49:07.926777Z"
    }
   },
   "outputs": [
    {
     "name": "stdout",
     "output_type": "stream",
     "text": [
      "Your digital wallet has been created, please enter its password: \n",
      "Please enter your walletpassword123\n"
     ]
    }
   ],
   "source": [
    "a.DigitalWallet()"
   ]
  },
  {
   "cell_type": "code",
   "execution_count": 20,
   "id": "d277e2f0",
   "metadata": {
    "ExecuteTime": {
     "end_time": "2022-08-25T22:49:12.527166Z",
     "start_time": "2022-08-25T22:49:12.483677Z"
    }
   },
   "outputs": [
    {
     "ename": "AttributeError",
     "evalue": "'super' object has no attribute '_AhlyBank__credit'",
     "output_type": "error",
     "traceback": [
      "\u001b[1;31m---------------------------------------------------------------------------\u001b[0m",
      "\u001b[1;31mAttributeError\u001b[0m                            Traceback (most recent call last)",
      "Input \u001b[1;32mIn [20]\u001b[0m, in \u001b[0;36m<cell line: 1>\u001b[1;34m()\u001b[0m\n\u001b[1;32m----> 1\u001b[0m \u001b[43ma\u001b[49m\u001b[38;5;241;43m.\u001b[39;49m\u001b[43mshowallcredit\u001b[49m\u001b[43m(\u001b[49m\u001b[43m)\u001b[49m\n",
      "Input \u001b[1;32mIn [17]\u001b[0m, in \u001b[0;36mAhlyBank.showallcredit\u001b[1;34m(self)\u001b[0m\n\u001b[0;32m     15\u001b[0m \u001b[38;5;28;01mdef\u001b[39;00m \u001b[38;5;21mshowallcredit\u001b[39m(\u001b[38;5;28mself\u001b[39m):\n\u001b[1;32m---> 16\u001b[0m     \u001b[38;5;28mprint\u001b[39m(\u001b[38;5;28mself\u001b[39m\u001b[38;5;241m.\u001b[39m__walletcredit \u001b[38;5;241m+\u001b[39m \u001b[38;5;28;43msuper\u001b[39;49m\u001b[43m(\u001b[49m\u001b[43m)\u001b[49m\u001b[38;5;241;43m.\u001b[39;49m\u001b[43m__credit\u001b[49m)\n",
      "\u001b[1;31mAttributeError\u001b[0m: 'super' object has no attribute '_AhlyBank__credit'"
     ]
    }
   ],
   "source": [
    "a.showallcredit()"
   ]
  },
  {
   "cell_type": "markdown",
   "id": "dd3c6306",
   "metadata": {},
   "source": [
    "## Making a Constructor in subclass"
   ]
  },
  {
   "cell_type": "code",
   "execution_count": 21,
   "id": "b36a13ad",
   "metadata": {
    "ExecuteTime": {
     "end_time": "2022-08-25T22:49:14.401396Z",
     "start_time": "2022-08-25T22:49:14.393398Z"
    }
   },
   "outputs": [],
   "source": [
    "class AhlyBank(BankAccount):\n",
    "    \n",
    "    def __init__(self):\n",
    "        print(\"Your AhlyBabk account has been created\")\n",
    "    \n",
    "    def DigitalWallet(self):\n",
    "        print(\"Your digital wallet has been created, please enter its password: \")\n",
    "        self.__walletpassword = int(input(\"Please enter your walletpassword\"))\n",
    "        self.__walletcredit = 0\n",
    "        \n",
    "    def addtowallet(self):\n",
    "        wpassword = int(input(\"Please enter your wpassword\"))\n",
    "        if wpassword == self.__walletpassword:\n",
    "            amount = float(input(\"Please enter how much: \"))\n",
    "            self.__walletcredit += amount\n",
    "            print(\"Your walletcredit has been updated, your walletcredit is now: \", self.__walletcredit)"
   ]
  },
  {
   "cell_type": "code",
   "execution_count": 22,
   "id": "2bb3abeb",
   "metadata": {
    "ExecuteTime": {
     "end_time": "2022-08-25T22:49:15.240826Z",
     "start_time": "2022-08-25T22:49:15.224835Z"
    }
   },
   "outputs": [
    {
     "name": "stdout",
     "output_type": "stream",
     "text": [
      "Your AhlyBabk account has been created\n"
     ]
    }
   ],
   "source": [
    "a = AhlyBank()"
   ]
  },
  {
   "cell_type": "code",
   "execution_count": 23,
   "id": "ab143120",
   "metadata": {
    "ExecuteTime": {
     "end_time": "2022-08-25T22:49:18.531436Z",
     "start_time": "2022-08-25T22:49:16.391217Z"
    }
   },
   "outputs": [
    {
     "name": "stdout",
     "output_type": "stream",
     "text": [
      "Please enter your password: 123\n"
     ]
    },
    {
     "ename": "AttributeError",
     "evalue": "'AhlyBank' object has no attribute '_BankAccount__password'",
     "output_type": "error",
     "traceback": [
      "\u001b[1;31m---------------------------------------------------------------------------\u001b[0m",
      "\u001b[1;31mAttributeError\u001b[0m                            Traceback (most recent call last)",
      "Input \u001b[1;32mIn [23]\u001b[0m, in \u001b[0;36m<cell line: 1>\u001b[1;34m()\u001b[0m\n\u001b[1;32m----> 1\u001b[0m \u001b[43ma\u001b[49m\u001b[38;5;241;43m.\u001b[39;49m\u001b[43mshowcredit\u001b[49m\u001b[43m(\u001b[49m\u001b[43m)\u001b[49m\n",
      "Input \u001b[1;32mIn [1]\u001b[0m, in \u001b[0;36mBankAccount.showcredit\u001b[1;34m(self)\u001b[0m\n\u001b[0;32m     23\u001b[0m \u001b[38;5;28;01mdef\u001b[39;00m \u001b[38;5;21mshowcredit\u001b[39m(\u001b[38;5;28mself\u001b[39m):\n\u001b[0;32m     24\u001b[0m     userpassword \u001b[38;5;241m=\u001b[39m \u001b[38;5;28mint\u001b[39m(\u001b[38;5;28minput\u001b[39m(\u001b[38;5;124m\"\u001b[39m\u001b[38;5;124mPlease enter your password: \u001b[39m\u001b[38;5;124m\"\u001b[39m))\n\u001b[1;32m---> 25\u001b[0m     \u001b[38;5;28;01mif\u001b[39;00m userpassword \u001b[38;5;241m==\u001b[39m \u001b[38;5;28;43mself\u001b[39;49m\u001b[38;5;241;43m.\u001b[39;49m\u001b[43m__password\u001b[49m:\n\u001b[0;32m     26\u001b[0m         \u001b[38;5;28mprint\u001b[39m(\u001b[38;5;124m\"\u001b[39m\u001b[38;5;124mYour credit is: \u001b[39m\u001b[38;5;124m\"\u001b[39m, \u001b[38;5;28mself\u001b[39m\u001b[38;5;241m.\u001b[39m__credit)\n",
      "\u001b[1;31mAttributeError\u001b[0m: 'AhlyBank' object has no attribute '_BankAccount__password'"
     ]
    }
   ],
   "source": [
    "a.showcredit()\n",
    "#If you make a constructor in a subclass, it eliminates the super class constructor."
   ]
  },
  {
   "cell_type": "markdown",
   "id": "06638924",
   "metadata": {},
   "source": [
    "## How to inherite the super constructor in Python:\n",
    "### we use super().__init__()"
   ]
  },
  {
   "cell_type": "code",
   "execution_count": 24,
   "id": "63c851cc",
   "metadata": {
    "ExecuteTime": {
     "end_time": "2022-08-25T22:49:20.386885Z",
     "start_time": "2022-08-25T22:49:20.378855Z"
    }
   },
   "outputs": [],
   "source": [
    "class AhlyBank(BankAccount):\n",
    "    \n",
    "    def __init__(self):\n",
    "        print(\"Your AhlyBabk account has been created\")\n",
    "        super().__init__()\n",
    "        \n",
    "    def DigitalWallet(self):\n",
    "        print(\"Your digital wallet has been created, please enter its password: \")\n",
    "        self.__walletpassword = int(input(\"Please enter your walletpassword\"))\n",
    "        self.__walletcredit = 0\n",
    "        \n",
    "    def addtowallet(self):\n",
    "        wpassword = int(input(\"Please enter your wpassword\"))\n",
    "        if wpassword == self.__walletpassword:\n",
    "            amount = float(input(\"Please enter how much: \"))\n",
    "            self.__walletcredit += amount\n",
    "            print(\"Your walletcredit has been updated, your walletcredit is now: \", self.__walletcredit)"
   ]
  },
  {
   "cell_type": "code",
   "execution_count": 25,
   "id": "152ded10",
   "metadata": {
    "ExecuteTime": {
     "end_time": "2022-08-25T22:49:27.549577Z",
     "start_time": "2022-08-25T22:49:21.126921Z"
    }
   },
   "outputs": [
    {
     "name": "stdout",
     "output_type": "stream",
     "text": [
      "Your AhlyBabk account has been created\n",
      "Welcome to our bank\n",
      "Please enter your name: ahmed\n",
      "Please enter your nationalid: 123\n",
      "Please enter your password: 123\n",
      "Please enter your phone: 123\n"
     ]
    }
   ],
   "source": [
    "a = AhlyBank()"
   ]
  },
  {
   "cell_type": "code",
   "execution_count": 26,
   "id": "1df8e445",
   "metadata": {
    "ExecuteTime": {
     "end_time": "2022-08-25T22:49:30.307182Z",
     "start_time": "2022-08-25T22:49:28.294427Z"
    }
   },
   "outputs": [
    {
     "name": "stdout",
     "output_type": "stream",
     "text": [
      "Please enter your password: 123\n",
      "Your credit is:  0\n"
     ]
    }
   ],
   "source": [
    "a.showcredit()"
   ]
  },
  {
   "cell_type": "markdown",
   "id": "5d442240",
   "metadata": {},
   "source": [
    "## Polymorphism:\n",
    "### having many forms, in programming polymorphism means the same function 'name' but different functionality."
   ]
  },
  {
   "cell_type": "markdown",
   "id": "ae399092",
   "metadata": {},
   "source": [
    "In case of making 2 functions having the same name, the first fun is canceled, although if there are different parameters:\n",
    "\n",
    "In python, we can override a function only (edit/pass), There is no overloading.\n",
    "In C++, we can make it works, by changing parameters or data types, because C++ is typed language."
   ]
  },
  {
   "cell_type": "code",
   "execution_count": 37,
   "id": "80cf79c6",
   "metadata": {
    "ExecuteTime": {
     "end_time": "2022-08-25T23:11:44.273174Z",
     "start_time": "2022-08-25T23:11:44.266573Z"
    }
   },
   "outputs": [],
   "source": [
    "class A:\n",
    "    def play(self):\n",
    "        print(\"I am playing\")"
   ]
  },
  {
   "cell_type": "code",
   "execution_count": 38,
   "id": "ab5ea00c",
   "metadata": {
    "ExecuteTime": {
     "end_time": "2022-08-25T23:11:44.791594Z",
     "start_time": "2022-08-25T23:11:44.781412Z"
    }
   },
   "outputs": [],
   "source": [
    "class B(A):\n",
    "    pass\n"
   ]
  },
  {
   "cell_type": "code",
   "execution_count": 39,
   "id": "cbd58669",
   "metadata": {
    "ExecuteTime": {
     "end_time": "2022-08-25T23:11:45.283833Z",
     "start_time": "2022-08-25T23:11:45.278837Z"
    }
   },
   "outputs": [],
   "source": [
    "b = B()"
   ]
  },
  {
   "cell_type": "code",
   "execution_count": 40,
   "id": "e97cc937",
   "metadata": {
    "ExecuteTime": {
     "end_time": "2022-08-25T23:11:45.764551Z",
     "start_time": "2022-08-25T23:11:45.759554Z"
    }
   },
   "outputs": [
    {
     "name": "stdout",
     "output_type": "stream",
     "text": [
      "I am playing\n"
     ]
    }
   ],
   "source": [
    "b.play() #here i inhetited fun 'play'"
   ]
  },
  {
   "cell_type": "markdown",
   "id": "d063262f",
   "metadata": {},
   "source": [
    "## How not to inherit fun 'play', and make Override "
   ]
  },
  {
   "cell_type": "code",
   "execution_count": 42,
   "id": "080cfb44",
   "metadata": {
    "ExecuteTime": {
     "end_time": "2022-08-25T23:16:23.472244Z",
     "start_time": "2022-08-25T23:16:23.467284Z"
    }
   },
   "outputs": [],
   "source": [
    "class A:\n",
    "    \n",
    "    def play(self):\n",
    "        print(\"I am playing\")"
   ]
  },
  {
   "cell_type": "code",
   "execution_count": 45,
   "id": "30b30a0e",
   "metadata": {
    "ExecuteTime": {
     "end_time": "2022-08-25T23:18:08.436342Z",
     "start_time": "2022-08-25T23:18:08.426346Z"
    }
   },
   "outputs": [],
   "source": [
    "class B(A):\n",
    "    \n",
    "     #functio Override\n",
    "    def play(self):\n",
    "        print(\"I am from class B\")"
   ]
  },
  {
   "cell_type": "code",
   "execution_count": 46,
   "id": "7b896e02",
   "metadata": {
    "ExecuteTime": {
     "end_time": "2022-08-25T23:18:19.246333Z",
     "start_time": "2022-08-25T23:18:19.226389Z"
    }
   },
   "outputs": [],
   "source": [
    "b = B()"
   ]
  },
  {
   "cell_type": "code",
   "execution_count": 47,
   "id": "822a8b2d",
   "metadata": {
    "ExecuteTime": {
     "end_time": "2022-08-25T23:18:30.008155Z",
     "start_time": "2022-08-25T23:18:29.996475Z"
    }
   },
   "outputs": [
    {
     "name": "stdout",
     "output_type": "stream",
     "text": [
      "I am from class B\n"
     ]
    }
   ],
   "source": [
    "b.play()"
   ]
  },
  {
   "cell_type": "code",
   "execution_count": 48,
   "id": "9485acd6",
   "metadata": {
    "ExecuteTime": {
     "end_time": "2022-08-25T23:26:59.186200Z",
     "start_time": "2022-08-25T23:26:59.166232Z"
    }
   },
   "outputs": [],
   "source": [
    "class A:\n",
    "    \n",
    "    def play(self):\n",
    "        print(\"I am playing\")"
   ]
  },
  {
   "cell_type": "code",
   "execution_count": 51,
   "id": "524a202c",
   "metadata": {
    "ExecuteTime": {
     "end_time": "2022-08-25T23:29:05.541180Z",
     "start_time": "2022-08-25T23:29:05.521185Z"
    }
   },
   "outputs": [],
   "source": [
    "class B(A):\n",
    "    \n",
    "    def play(self):# fun 'play does not make any thing'\n",
    "        pass"
   ]
  },
  {
   "cell_type": "code",
   "execution_count": 52,
   "id": "b546a94f",
   "metadata": {
    "ExecuteTime": {
     "end_time": "2022-08-25T23:29:05.969407Z",
     "start_time": "2022-08-25T23:29:05.959411Z"
    }
   },
   "outputs": [],
   "source": [
    "b = B()"
   ]
  },
  {
   "cell_type": "code",
   "execution_count": 55,
   "id": "bcb2a5e1",
   "metadata": {
    "ExecuteTime": {
     "end_time": "2022-08-25T23:32:05.652301Z",
     "start_time": "2022-08-25T23:32:05.647304Z"
    }
   },
   "outputs": [],
   "source": [
    "class A:\n",
    "    \n",
    "    def play(self):\n",
    "        print(\"I am playing\")\n",
    "        \n",
    "    def tax(self):\n",
    "        print(\"This is tax\")"
   ]
  },
  {
   "cell_type": "code",
   "execution_count": 56,
   "id": "ed3234d5",
   "metadata": {
    "ExecuteTime": {
     "end_time": "2022-08-25T23:32:06.196583Z",
     "start_time": "2022-08-25T23:32:06.191584Z"
    }
   },
   "outputs": [],
   "source": [
    "class B(A):\n",
    "    \n",
    "    def play(self):\n",
    "        print(\"I am from class B\")\n",
    "    \n",
    "    def tax(self, parameter):\n",
    "        print(\"tax tax\")"
   ]
  },
  {
   "cell_type": "code",
   "execution_count": 57,
   "id": "b440648b",
   "metadata": {
    "ExecuteTime": {
     "end_time": "2022-08-25T23:32:20.596486Z",
     "start_time": "2022-08-25T23:32:20.591491Z"
    }
   },
   "outputs": [],
   "source": [
    "b = B()"
   ]
  },
  {
   "cell_type": "code",
   "execution_count": 58,
   "id": "781b6526",
   "metadata": {
    "ExecuteTime": {
     "end_time": "2022-08-25T23:32:26.233516Z",
     "start_time": "2022-08-25T23:32:26.228561Z"
    }
   },
   "outputs": [
    {
     "name": "stdout",
     "output_type": "stream",
     "text": [
      "I am from class B\n"
     ]
    }
   ],
   "source": [
    "b.play()"
   ]
  },
  {
   "cell_type": "code",
   "execution_count": 59,
   "id": "33f6dfff",
   "metadata": {
    "ExecuteTime": {
     "end_time": "2022-08-25T23:32:35.617852Z",
     "start_time": "2022-08-25T23:32:35.597862Z"
    }
   },
   "outputs": [
    {
     "ename": "TypeError",
     "evalue": "tax() missing 1 required positional argument: 'parameter'",
     "output_type": "error",
     "traceback": [
      "\u001b[1;31m---------------------------------------------------------------------------\u001b[0m",
      "\u001b[1;31mTypeError\u001b[0m                                 Traceback (most recent call last)",
      "Input \u001b[1;32mIn [59]\u001b[0m, in \u001b[0;36m<cell line: 1>\u001b[1;34m()\u001b[0m\n\u001b[1;32m----> 1\u001b[0m \u001b[43mb\u001b[49m\u001b[38;5;241;43m.\u001b[39;49m\u001b[43mtax\u001b[49m\u001b[43m(\u001b[49m\u001b[43m)\u001b[49m\n",
      "\u001b[1;31mTypeError\u001b[0m: tax() missing 1 required positional argument: 'parameter'"
     ]
    }
   ],
   "source": [
    "b.tax()"
   ]
  },
  {
   "cell_type": "markdown",
   "id": "0f11968f",
   "metadata": {},
   "source": [
    "# -3 important points\n",
    "## 1-If i inherited a fun but i need to modify it, i will create a fun with the same name then modify it like (function override):\n",
    "class A:\n",
    "    \n",
    "    def play(self):\n",
    "        print(\"I am playing\")\n",
    "        \n",
    "class B(A):\n",
    "    \n",
    "    def play(self):\n",
    "        print(\"I am from class B\")     \n",
    "                \n",
    "## 2-If i want not to inherit the fum, i will create a fun the with same name but does not make ant thing like:    \n",
    "\n",
    "class A:\n",
    "    \n",
    "    def play(self):\n",
    "        print(\"I am playing\")\n",
    "                \n",
    "class B(A):\n",
    "    \n",
    "    def play(self):\n",
    "        pass                \n",
    "                \n",
    "## 3-Python does not support multiple inheritance(common attributes || functions), although we change parameters or data types like:\n",
    "\n",
    "class A:\n",
    "    \n",
    "    def play(self):\n",
    "        print(\"I am playing\")\n",
    "        \n",
    "    def tax(self):\n",
    "        print(\"This is tax\")\n",
    "\n",
    "class B(A):\n",
    "    \n",
    "    def play(self):\n",
    "        print(\"I am from class B\")\n",
    "    \n",
    "    def tax(self, parameter):  #we changed parameters\n",
    "        print(\"tax tax\")\n",
    "        \n",
    "## So in python, we can override a fun only (edit || pass), but there is no overloading.    \n"
   ]
  },
  {
   "cell_type": "markdown",
   "id": "780edc76",
   "metadata": {},
   "source": [
    "# -Composition:\n",
    "\n",
    "### Making OOP more flexible to use.\n",
    "\n",
    "### Consider we have the following problem:"
   ]
  },
  {
   "cell_type": "code",
   "execution_count": null,
   "id": "7d1370bc",
   "metadata": {},
   "outputs": [],
   "source": [
    "class Bird --> fly\n",
    "  |\n",
    "class Chicken --> no fly"
   ]
  },
  {
   "cell_type": "markdown",
   "id": "c8bbc324",
   "metadata": {},
   "source": [
    "#### We can pass function fly in Chicken class, But the 'fly' fun affects other funs. So, we'll divide class Bird into two Classes"
   ]
  },
  {
   "cell_type": "code",
   "execution_count": null,
   "id": "3e1cafbe",
   "metadata": {},
   "outputs": [],
   "source": [
    "class flying bird\n",
    "class nonflying bird"
   ]
  },
  {
   "cell_type": "markdown",
   "id": "8cd5f74f",
   "metadata": {
    "ExecuteTime": {
     "end_time": "2022-08-25T23:59:11.458793Z",
     "start_time": "2022-08-25T23:59:11.448844Z"
    }
   },
   "source": [
    "#### But there are swimming birds, also swim fun affects other funs. So, we'll divide class flying bird into two Classes, and divide class non-flying bird into two Classes."
   ]
  },
  {
   "cell_type": "code",
   "execution_count": null,
   "id": "ab9f39ce",
   "metadata": {},
   "outputs": [],
   "source": [
    "class Flyingbird_Swimmingbird:\n",
    "class Flyingbird_nonSwimmingbird:\n",
    "class NonFlyingbird_Swimmingbird:\n",
    "class NonFlyingbird_nonSwimmingbird:"
   ]
  },
  {
   "cell_type": "markdown",
   "id": "fb25eccd",
   "metadata": {},
   "source": [
    "# Applying Composition"
   ]
  },
  {
   "cell_type": "code",
   "execution_count": 70,
   "id": "94c90040",
   "metadata": {
    "ExecuteTime": {
     "end_time": "2022-08-26T00:20:45.489827Z",
     "start_time": "2022-08-26T00:20:45.471875Z"
    }
   },
   "outputs": [],
   "source": [
    "class Composition:\n",
    "\n",
    "    def __init__(self):\n",
    "        self.__att = dict()\n",
    "        self.__methods = dict()\n",
    "\n",
    "    def addatt(self, attname, attvalue):\n",
    "        self.__att[attname] = attvalue\n",
    "\n",
    "    def removeatt(self, attname):\n",
    "        del self.__att[attname]\n",
    "\n",
    "    def printatt(self, attname):\n",
    "        print(self.__att[attname])\n",
    "\n",
    "    def printallatt(self):\n",
    "        for i in self.__att:\n",
    "            print(i)\n",
    "\n",
    "    def addmethod(self, methname, method):\n",
    "        self.__methods[methname] = method\n",
    "\n",
    "    def removemethod(self, methodname):\n",
    "        del self.__methods[methodname]\n",
    "\n",
    "    def callmethod(self, methname):\n",
    "        self.__methods[methname]()  # () to make the function callable\n",
    "\n",
    "    def printallmethods(self):\n",
    "        for i in self.__methods:\n",
    "            print(i)"
   ]
  },
  {
   "cell_type": "code",
   "execution_count": 71,
   "id": "78891e2a",
   "metadata": {
    "ExecuteTime": {
     "end_time": "2022-08-26T00:20:59.086397Z",
     "start_time": "2022-08-26T00:20:59.083413Z"
    }
   },
   "outputs": [],
   "source": [
    "a = composition()"
   ]
  },
  {
   "cell_type": "code",
   "execution_count": 72,
   "id": "4baaa2be",
   "metadata": {
    "ExecuteTime": {
     "end_time": "2022-08-26T00:21:07.396337Z",
     "start_time": "2022-08-26T00:21:07.384369Z"
    }
   },
   "outputs": [],
   "source": [
    "a.addatt(\"name\", \"Ahmed\")\n",
    "a.addatt(\"age\", \"23\")\n",
    "a.addatt(\"phone\", \"1234\")"
   ]
  },
  {
   "cell_type": "code",
   "execution_count": 73,
   "id": "91437491",
   "metadata": {
    "ExecuteTime": {
     "end_time": "2022-08-26T00:21:13.597849Z",
     "start_time": "2022-08-26T00:21:13.584883Z"
    }
   },
   "outputs": [
    {
     "name": "stdout",
     "output_type": "stream",
     "text": [
      "Ahmed\n"
     ]
    }
   ],
   "source": [
    "a.printatt(\"name\")"
   ]
  },
  {
   "cell_type": "code",
   "execution_count": 74,
   "id": "361369a1",
   "metadata": {
    "ExecuteTime": {
     "end_time": "2022-08-26T00:21:19.254068Z",
     "start_time": "2022-08-26T00:21:19.243097Z"
    }
   },
   "outputs": [
    {
     "name": "stdout",
     "output_type": "stream",
     "text": [
      "name\n",
      "age\n",
      "phone\n"
     ]
    }
   ],
   "source": [
    "a.printallatt()"
   ]
  },
  {
   "cell_type": "code",
   "execution_count": null,
   "id": "2816f6b7",
   "metadata": {},
   "outputs": [],
   "source": [
    "a.removeatt(\"name\")"
   ]
  },
  {
   "cell_type": "code",
   "execution_count": 80,
   "id": "02ba1134",
   "metadata": {
    "ExecuteTime": {
     "end_time": "2022-08-26T00:22:22.596653Z",
     "start_time": "2022-08-26T00:22:22.587674Z"
    }
   },
   "outputs": [
    {
     "name": "stdout",
     "output_type": "stream",
     "text": [
      "age\n",
      "phone\n"
     ]
    }
   ],
   "source": [
    "a.printallatt()"
   ]
  },
  {
   "cell_type": "markdown",
   "id": "f3a3c7d8",
   "metadata": {},
   "source": [
    "### To add new function:\n",
    "#### 1-Define the function.\n",
    "#### 2-Add it by addmethod() function."
   ]
  },
  {
   "cell_type": "code",
   "execution_count": 81,
   "id": "75a1d74d",
   "metadata": {
    "ExecuteTime": {
     "end_time": "2022-08-26T00:24:12.288210Z",
     "start_time": "2022-08-26T00:24:12.284218Z"
    }
   },
   "outputs": [],
   "source": [
    "def printsquare():\n",
    "    x = int(input())\n",
    "    print(x*x)"
   ]
  },
  {
   "cell_type": "code",
   "execution_count": 82,
   "id": "5506f1ac",
   "metadata": {
    "ExecuteTime": {
     "end_time": "2022-08-26T00:24:27.169425Z",
     "start_time": "2022-08-26T00:24:27.160448Z"
    }
   },
   "outputs": [],
   "source": [
    "a.addmethod('square', printsquare)"
   ]
  },
  {
   "cell_type": "code",
   "execution_count": 84,
   "id": "9f771a3a",
   "metadata": {
    "ExecuteTime": {
     "end_time": "2022-08-26T00:25:06.062600Z",
     "start_time": "2022-08-26T00:25:04.743799Z"
    }
   },
   "outputs": [
    {
     "name": "stdout",
     "output_type": "stream",
     "text": [
      "2\n",
      "4\n"
     ]
    }
   ],
   "source": [
    "a.callmethod('square')"
   ]
  },
  {
   "cell_type": "code",
   "execution_count": 85,
   "id": "c2332f43",
   "metadata": {
    "ExecuteTime": {
     "end_time": "2022-08-26T00:25:13.605913Z",
     "start_time": "2022-08-26T00:25:13.587960Z"
    }
   },
   "outputs": [
    {
     "name": "stdout",
     "output_type": "stream",
     "text": [
      "square\n"
     ]
    }
   ],
   "source": [
    "a.printallmethods()"
   ]
  },
  {
   "cell_type": "code",
   "execution_count": 86,
   "id": "b27648cf",
   "metadata": {
    "ExecuteTime": {
     "end_time": "2022-08-26T00:25:37.861307Z",
     "start_time": "2022-08-26T00:25:37.843355Z"
    }
   },
   "outputs": [],
   "source": [
    "b = composition()\n",
    "#Another abject"
   ]
  },
  {
   "cell_type": "code",
   "execution_count": 88,
   "id": "0049ff7b",
   "metadata": {
    "ExecuteTime": {
     "end_time": "2022-08-26T00:25:49.434737Z",
     "start_time": "2022-08-26T00:25:49.423767Z"
    }
   },
   "outputs": [],
   "source": [
    "b.printallatt()"
   ]
  },
  {
   "cell_type": "code",
   "execution_count": 89,
   "id": "4943509a",
   "metadata": {
    "ExecuteTime": {
     "end_time": "2022-08-26T00:25:55.816586Z",
     "start_time": "2022-08-26T00:25:55.806620Z"
    }
   },
   "outputs": [],
   "source": [
    "b.printallmethods()\n",
    "#All Attributes, Methods are into the object only, But the Class itself is empty."
   ]
  }
 ],
 "metadata": {
  "kernelspec": {
   "display_name": "Python 3 (ipykernel)",
   "language": "python",
   "name": "python3"
  },
  "language_info": {
   "codemirror_mode": {
    "name": "ipython",
    "version": 3
   },
   "file_extension": ".py",
   "mimetype": "text/x-python",
   "name": "python",
   "nbconvert_exporter": "python",
   "pygments_lexer": "ipython3",
   "version": "3.9.12"
  }
 },
 "nbformat": 4,
 "nbformat_minor": 5
}
