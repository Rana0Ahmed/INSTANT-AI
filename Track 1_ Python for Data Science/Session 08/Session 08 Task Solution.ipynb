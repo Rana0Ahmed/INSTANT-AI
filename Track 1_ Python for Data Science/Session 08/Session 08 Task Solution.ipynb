{
 "cells": [
  {
   "cell_type": "markdown",
   "id": "84e42287",
   "metadata": {},
   "source": [
    "## Task:\n",
    "1-Why and how to use protected visibility in python.\n",
    "\n",
    "2-How to access private data in super class from sub-class."
   ]
  },
  {
   "cell_type": "markdown",
   "id": "53010388",
   "metadata": {},
   "source": [
    "### Access Modifiers in Python:\n",
    "    1.public: We do not use underscores to identify public Attributes or Methods in Python.\n",
    "    2.protected: We use single underscore '_' to identify protected Attributes or Methods in Python.\n",
    "    3.private: we use double underscore '__' to identify private Attributes or Methods in Python."
   ]
  },
  {
   "cell_type": "markdown",
   "id": "e070eab4",
   "metadata": {},
   "source": [
    "### Public Access Modifier:\n",
    "The members of a class can easily access from any part of the program(same package, other packages, same class, sub class). All data members and member functions of a class are public by default. "
   ]
  },
  {
   "cell_type": "markdown",
   "id": "484bb09c",
   "metadata": {},
   "source": [
    "### Protected Access Modifier:\n",
    "The members of a class are only accessible to a class derived from it (same package, same class, sub class)."
   ]
  },
  {
   "cell_type": "markdown",
   "id": "b32eee7c",
   "metadata": {},
   "source": [
    "### Private Access Modifier:\n",
    "The members of a class are accessible within the class only (same class only).\n",
    "private access modifier is the most secure access modifier."
   ]
  },
  {
   "cell_type": "markdown",
   "id": "cdf826bf",
   "metadata": {},
   "source": [
    "### 1-Why and how to use protected visibility in python."
   ]
  },
  {
   "cell_type": "code",
   "execution_count": 4,
   "id": "34bd5143",
   "metadata": {
    "ExecuteTime": {
     "end_time": "2022-08-27T23:29:14.088348Z",
     "start_time": "2022-08-27T23:29:14.068328Z"
    }
   },
   "outputs": [],
   "source": [
    "class attributes:\n",
    "    \n",
    "    #Instructor\n",
    "    def __init__(self,value):\n",
    "        self.public = value #Public attribute.\n",
    "        self._protected = value #protected attribute.\n",
    "        self.__private = value #private attribute."
   ]
  },
  {
   "cell_type": "code",
   "execution_count": 8,
   "id": "1f179abb",
   "metadata": {
    "ExecuteTime": {
     "end_time": "2022-08-27T23:31:05.405606Z",
     "start_time": "2022-08-27T23:31:05.385628Z"
    }
   },
   "outputs": [],
   "source": [
    "a = attributes(\"Rana\") # Object of class attributes"
   ]
  },
  {
   "cell_type": "code",
   "execution_count": 11,
   "id": "70fb7783",
   "metadata": {
    "ExecuteTime": {
     "end_time": "2022-08-27T23:31:51.540898Z",
     "start_time": "2022-08-27T23:31:51.524921Z"
    }
   },
   "outputs": [
    {
     "data": {
      "text/plain": [
       "'Rana'"
      ]
     },
     "execution_count": 11,
     "metadata": {},
     "output_type": "execute_result"
    }
   ],
   "source": [
    "a.public #We cam access public attribute."
   ]
  },
  {
   "cell_type": "code",
   "execution_count": 13,
   "id": "540b45e5",
   "metadata": {
    "ExecuteTime": {
     "end_time": "2022-08-27T23:32:44.455658Z",
     "start_time": "2022-08-27T23:32:44.447664Z"
    }
   },
   "outputs": [
    {
     "data": {
      "text/plain": [
       "'Rana'"
      ]
     },
     "execution_count": 13,
     "metadata": {},
     "output_type": "execute_result"
    }
   ],
   "source": [
    "a._protected #We can access protected attribute."
   ]
  },
  {
   "cell_type": "code",
   "execution_count": 14,
   "id": "60ba8f0a",
   "metadata": {
    "ExecuteTime": {
     "end_time": "2022-08-27T23:32:51.350755Z",
     "start_time": "2022-08-27T23:32:51.334767Z"
    }
   },
   "outputs": [
    {
     "ename": "AttributeError",
     "evalue": "'attributes' object has no attribute '__private'",
     "output_type": "error",
     "traceback": [
      "\u001b[1;31m---------------------------------------------------------------------------\u001b[0m",
      "\u001b[1;31mAttributeError\u001b[0m                            Traceback (most recent call last)",
      "Input \u001b[1;32mIn [14]\u001b[0m, in \u001b[0;36m<cell line: 1>\u001b[1;34m()\u001b[0m\n\u001b[1;32m----> 1\u001b[0m \u001b[43ma\u001b[49m\u001b[38;5;241;43m.\u001b[39;49m\u001b[43m__private\u001b[49m\n",
      "\u001b[1;31mAttributeError\u001b[0m: 'attributes' object has no attribute '__private'"
     ]
    }
   ],
   "source": [
    "a.__private #We can not access private attribute."
   ]
  },
  {
   "cell_type": "markdown",
   "id": "167f005d",
   "metadata": {},
   "source": [
    "### -How to access private data in super class."
   ]
  },
  {
   "cell_type": "markdown",
   "id": "70468283",
   "metadata": {},
   "source": [
    "### There are two ways:\n",
    "1.By using a function in the same class or sub class.\n",
    "\n",
    "2.By writing ' _< SuperClass Name>' before private attr or method name ' __<Private att||method name>' and call it with an object from Super Class. \n"
   ]
  },
  {
   "cell_type": "code",
   "execution_count": 23,
   "id": "289a13aa",
   "metadata": {
    "ExecuteTime": {
     "end_time": "2022-08-28T00:07:48.267811Z",
     "start_time": "2022-08-28T00:07:48.251825Z"
    }
   },
   "outputs": [],
   "source": [
    "class attributes:\n",
    "    \n",
    "    #Instructor\n",
    "    def __init__(self,value):\n",
    "        self.public = value #Public attribute.\n",
    "        self._protected = value #protected attribute.\n",
    "        self.__private = value #private attribute.\n",
    "        \n",
    "    #Function\n",
    "    def private_value(self):\n",
    "        return self.__private"
   ]
  },
  {
   "cell_type": "code",
   "execution_count": 24,
   "id": "f4b46db3",
   "metadata": {
    "ExecuteTime": {
     "end_time": "2022-08-28T00:07:48.954321Z",
     "start_time": "2022-08-28T00:07:48.946312Z"
    }
   },
   "outputs": [],
   "source": [
    "a = attributes(\"Rana\")"
   ]
  },
  {
   "cell_type": "code",
   "execution_count": 25,
   "id": "5f27d448",
   "metadata": {
    "ExecuteTime": {
     "end_time": "2022-08-28T00:07:49.949297Z",
     "start_time": "2022-08-28T00:07:49.929322Z"
    }
   },
   "outputs": [
    {
     "data": {
      "text/plain": [
       "'Rana'"
      ]
     },
     "execution_count": 25,
     "metadata": {},
     "output_type": "execute_result"
    }
   ],
   "source": [
    "a.private_value()"
   ]
  },
  {
   "cell_type": "code",
   "execution_count": 28,
   "id": "ab8eb87c",
   "metadata": {
    "ExecuteTime": {
     "end_time": "2022-08-28T00:10:51.009467Z",
     "start_time": "2022-08-28T00:10:50.997472Z"
    }
   },
   "outputs": [
    {
     "data": {
      "text/plain": [
       "'Rana'"
      ]
     },
     "execution_count": 28,
     "metadata": {},
     "output_type": "execute_result"
    }
   ],
   "source": [
    "a._attributes__private"
   ]
  },
  {
   "cell_type": "markdown",
   "id": "9964322e",
   "metadata": {},
   "source": [
    "### 2-How to access private data in super class from sub-class."
   ]
  },
  {
   "cell_type": "markdown",
   "id": "90a6f8c8",
   "metadata": {
    "ExecuteTime": {
     "end_time": "2022-08-28T00:19:59.149710Z",
     "start_time": "2022-08-28T00:19:59.137726Z"
    }
   },
   "source": [
    "1-By using a function in the same class or sub class.\n",
    "\n",
    "2.By writing ' _< SuperClass Name>' before private attr or method name ' __<Private att||method name>' and call it with an object from Super Class. "
   ]
  },
  {
   "cell_type": "code",
   "execution_count": 32,
   "id": "deeef62c",
   "metadata": {
    "ExecuteTime": {
     "end_time": "2022-08-28T00:22:10.872001Z",
     "start_time": "2022-08-28T00:22:10.867997Z"
    }
   },
   "outputs": [],
   "source": [
    "class new_attr(attributes):\n",
    "    pass"
   ]
  },
  {
   "cell_type": "code",
   "execution_count": 33,
   "id": "50c8dee0",
   "metadata": {
    "ExecuteTime": {
     "end_time": "2022-08-28T00:22:36.290552Z",
     "start_time": "2022-08-28T00:22:36.282547Z"
    }
   },
   "outputs": [],
   "source": [
    "b = new_attr(\"Ahmed\")"
   ]
  },
  {
   "cell_type": "code",
   "execution_count": 34,
   "id": "692f8216",
   "metadata": {
    "ExecuteTime": {
     "end_time": "2022-08-28T00:22:55.890599Z",
     "start_time": "2022-08-28T00:22:55.870625Z"
    }
   },
   "outputs": [
    {
     "data": {
      "text/plain": [
       "'Ahmed'"
      ]
     },
     "execution_count": 34,
     "metadata": {},
     "output_type": "execute_result"
    }
   ],
   "source": [
    "b.public #We can access public attribyte from sub class."
   ]
  },
  {
   "cell_type": "code",
   "execution_count": 36,
   "id": "265ae18d",
   "metadata": {
    "ExecuteTime": {
     "end_time": "2022-08-28T00:23:18.734113Z",
     "start_time": "2022-08-28T00:23:18.718134Z"
    }
   },
   "outputs": [
    {
     "data": {
      "text/plain": [
       "'Ahmed'"
      ]
     },
     "execution_count": 36,
     "metadata": {},
     "output_type": "execute_result"
    }
   ],
   "source": [
    "b._protected #We can access protected attribute from sub class."
   ]
  },
  {
   "cell_type": "code",
   "execution_count": 37,
   "id": "c4cf2782",
   "metadata": {
    "ExecuteTime": {
     "end_time": "2022-08-28T00:23:27.776219Z",
     "start_time": "2022-08-28T00:23:27.752248Z"
    }
   },
   "outputs": [
    {
     "ename": "AttributeError",
     "evalue": "'new_attr' object has no attribute '__private'",
     "output_type": "error",
     "traceback": [
      "\u001b[1;31m---------------------------------------------------------------------------\u001b[0m",
      "\u001b[1;31mAttributeError\u001b[0m                            Traceback (most recent call last)",
      "Input \u001b[1;32mIn [37]\u001b[0m, in \u001b[0;36m<cell line: 1>\u001b[1;34m()\u001b[0m\n\u001b[1;32m----> 1\u001b[0m \u001b[43mb\u001b[49m\u001b[38;5;241;43m.\u001b[39;49m\u001b[43m__private\u001b[49m\n",
      "\u001b[1;31mAttributeError\u001b[0m: 'new_attr' object has no attribute '__private'"
     ]
    }
   ],
   "source": [
    "b.__private #We can not access private attribute directly from sub class."
   ]
  },
  {
   "cell_type": "code",
   "execution_count": 38,
   "id": "1fc581c6",
   "metadata": {
    "ExecuteTime": {
     "end_time": "2022-08-28T00:25:54.432432Z",
     "start_time": "2022-08-28T00:25:54.424443Z"
    }
   },
   "outputs": [
    {
     "data": {
      "text/plain": [
       "'Ahmed'"
      ]
     },
     "execution_count": 38,
     "metadata": {},
     "output_type": "execute_result"
    }
   ],
   "source": [
    "b.private_value() #So we access private attribute from sub class by using a function."
   ]
  },
  {
   "cell_type": "code",
   "execution_count": 41,
   "id": "bd605c62",
   "metadata": {
    "ExecuteTime": {
     "end_time": "2022-08-28T00:28:49.352329Z",
     "start_time": "2022-08-28T00:28:49.340345Z"
    }
   },
   "outputs": [
    {
     "data": {
      "text/plain": [
       "'Ahmed'"
      ]
     },
     "execution_count": 41,
     "metadata": {},
     "output_type": "execute_result"
    }
   ],
   "source": [
    "b._attributes__private \n",
    "#So we access private attribute from sub class by writing' _< SuperClass Name>' before private attr or method name' __<Private att||method name>'"
   ]
  }
 ],
 "metadata": {
  "kernelspec": {
   "display_name": "Python 3 (ipykernel)",
   "language": "python",
   "name": "python3"
  },
  "language_info": {
   "codemirror_mode": {
    "name": "ipython",
    "version": 3
   },
   "file_extension": ".py",
   "mimetype": "text/x-python",
   "name": "python",
   "nbconvert_exporter": "python",
   "pygments_lexer": "ipython3",
   "version": "3.9.12"
  }
 },
 "nbformat": 4,
 "nbformat_minor": 5
}
