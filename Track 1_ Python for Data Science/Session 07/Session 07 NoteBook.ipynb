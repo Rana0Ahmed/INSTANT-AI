{
 "cells": [
  {
   "cell_type": "markdown",
   "id": "2b9e73f1",
   "metadata": {},
   "source": [
    "# Object-Oriented Programming (OOP)"
   ]
  },
  {
   "cell_type": "markdown",
   "id": "7a620532",
   "metadata": {},
   "source": [
    "### -How to create a class and make an object from the class"
   ]
  },
  {
   "cell_type": "markdown",
   "id": "de1ae08b",
   "metadata": {},
   "source": [
    "### 1st example:"
   ]
  },
  {
   "cell_type": "code",
   "execution_count": 1,
   "id": "db318cf9",
   "metadata": {
    "ExecuteTime": {
     "end_time": "2022-08-24T03:27:27.631266Z",
     "start_time": "2022-08-24T03:27:27.619282Z"
    }
   },
   "outputs": [],
   "source": [
    "class Human:\n",
    "    name = None\n",
    "    age = None\n",
    "    nationalid = None\n",
    "    phonenumber = None"
   ]
  },
  {
   "cell_type": "code",
   "execution_count": 2,
   "id": "33d36c09",
   "metadata": {
    "ExecuteTime": {
     "end_time": "2022-08-24T03:27:52.309648Z",
     "start_time": "2022-08-24T03:27:52.301656Z"
    }
   },
   "outputs": [],
   "source": [
    "a = Human() # a is called object or instance"
   ]
  },
  {
   "cell_type": "code",
   "execution_count": 3,
   "id": "ff633301",
   "metadata": {
    "ExecuteTime": {
     "end_time": "2022-08-24T03:28:03.170296Z",
     "start_time": "2022-08-24T03:28:03.162296Z"
    }
   },
   "outputs": [],
   "source": [
    "a.name = \"Ahmed\"\n",
    "a.age = 23\n",
    "a.nationalid = 1234\n",
    "a.phonenumber = 123"
   ]
  },
  {
   "cell_type": "code",
   "execution_count": 4,
   "id": "dd8ed4e8",
   "metadata": {
    "ExecuteTime": {
     "end_time": "2022-08-24T03:28:10.740046Z",
     "start_time": "2022-08-24T03:28:10.728067Z"
    }
   },
   "outputs": [],
   "source": [
    "b = Human()"
   ]
  },
  {
   "cell_type": "code",
   "execution_count": 5,
   "id": "ae8dffa1",
   "metadata": {
    "ExecuteTime": {
     "end_time": "2022-08-24T03:28:18.787381Z",
     "start_time": "2022-08-24T03:28:18.775396Z"
    }
   },
   "outputs": [],
   "source": [
    "b.name = \"Ali\"\n",
    "b.age = 24\n",
    "b.phonenumber = 234\n",
    "b.nationalid = 1234"
   ]
  },
  {
   "cell_type": "code",
   "execution_count": 6,
   "id": "29667755",
   "metadata": {
    "ExecuteTime": {
     "end_time": "2022-08-24T03:28:26.586241Z",
     "start_time": "2022-08-24T03:28:26.582245Z"
    }
   },
   "outputs": [],
   "source": [
    "ahmed = Human()"
   ]
  },
  {
   "cell_type": "code",
   "execution_count": 7,
   "id": "df1a4a4b",
   "metadata": {
    "ExecuteTime": {
     "end_time": "2022-08-24T03:28:36.154019Z",
     "start_time": "2022-08-24T03:28:36.146012Z"
    }
   },
   "outputs": [],
   "source": [
    "ahmed.name = \"Ahmed\"\n",
    "ahmed.age = 23"
   ]
  },
  {
   "cell_type": "code",
   "execution_count": 8,
   "id": "752d7cc9",
   "metadata": {
    "ExecuteTime": {
     "end_time": "2022-08-24T03:28:46.087181Z",
     "start_time": "2022-08-24T03:28:46.083206Z"
    }
   },
   "outputs": [],
   "source": [
    "class Human:\n",
    "    #constructor\n",
    "    def __init__(self):\n",
    "        print(\"Welcome new human\")\n",
    "    \n",
    "    name = None\n",
    "    age = None\n",
    "    nationalid = None\n",
    "    phonenumber = None"
   ]
  },
  {
   "cell_type": "code",
   "execution_count": 9,
   "id": "42573963",
   "metadata": {
    "ExecuteTime": {
     "end_time": "2022-08-24T03:28:54.177454Z",
     "start_time": "2022-08-24T03:28:54.165455Z"
    }
   },
   "outputs": [
    {
     "name": "stdout",
     "output_type": "stream",
     "text": [
      "Welcome new human\n"
     ]
    }
   ],
   "source": [
    "a = Human()"
   ]
  },
  {
   "cell_type": "code",
   "execution_count": 10,
   "id": "93ad283b",
   "metadata": {
    "ExecuteTime": {
     "end_time": "2022-08-24T03:29:02.302478Z",
     "start_time": "2022-08-24T03:29:02.294497Z"
    }
   },
   "outputs": [
    {
     "name": "stdout",
     "output_type": "stream",
     "text": [
      "Welcome new human\n"
     ]
    }
   ],
   "source": [
    "b = Human()"
   ]
  },
  {
   "cell_type": "code",
   "execution_count": 11,
   "id": "e6e04eda",
   "metadata": {
    "ExecuteTime": {
     "end_time": "2022-08-24T03:29:10.491223Z",
     "start_time": "2022-08-24T03:29:10.487238Z"
    }
   },
   "outputs": [],
   "source": [
    "class Human:\n",
    "    #constructor\n",
    "    def __init__(self):\n",
    "        print(\"Welcome new human\")\n",
    "    \n",
    "    name = None\n",
    "    age = None\n",
    "    nationalid = None\n",
    "    phonenumber = None\n",
    "    #function\n",
    "    def cry(self):     # we can also use (this), so (self) isn't the only allowed keyword to represent object\n",
    "        print(\"waaaa\")"
   ]
  },
  {
   "cell_type": "code",
   "execution_count": 12,
   "id": "25f3c548",
   "metadata": {
    "ExecuteTime": {
     "end_time": "2022-08-24T03:29:19.826782Z",
     "start_time": "2022-08-24T03:29:19.810802Z"
    }
   },
   "outputs": [
    {
     "name": "stdout",
     "output_type": "stream",
     "text": [
      "Welcome new human\n"
     ]
    }
   ],
   "source": [
    "a = Human()"
   ]
  },
  {
   "cell_type": "code",
   "execution_count": 13,
   "id": "f33e5a63",
   "metadata": {
    "ExecuteTime": {
     "end_time": "2022-08-24T03:29:26.086496Z",
     "start_time": "2022-08-24T03:29:26.074509Z"
    }
   },
   "outputs": [
    {
     "name": "stdout",
     "output_type": "stream",
     "text": [
      "waaaa\n"
     ]
    }
   ],
   "source": [
    "a.cry()"
   ]
  },
  {
   "cell_type": "markdown",
   "id": "79da8384",
   "metadata": {
    "ExecuteTime": {
     "end_time": "2022-08-24T03:29:34.246717Z",
     "start_time": "2022-08-24T03:29:34.238715Z"
    }
   },
   "source": [
    "### 2nd example:"
   ]
  },
  {
   "cell_type": "code",
   "execution_count": 15,
   "id": "d9dd5717",
   "metadata": {
    "ExecuteTime": {
     "end_time": "2022-08-24T03:29:58.248399Z",
     "start_time": "2022-08-24T03:29:58.232381Z"
    }
   },
   "outputs": [],
   "source": [
    "class BankAccount:\n",
    "    \n",
    "    #constructor\n",
    "    def __init__(self):\n",
    "        print(\"Welcome to our bank\")\n",
    "        \n",
    "        #attributes\n",
    "        self.name = input((\"Please enter your name: \")) # we use self. with attributes or functions that we use in the class [not the attributes or funs that we take from the user] \n",
    "        self.nationalid = int(input(\"Please enter your nationalid: \"))\n",
    "        self.password = int(input(\"Please enter your password: \"))\n",
    "        self.phone = int(input(\"Please enter your phone: \"))\n",
    "        self.credit = 0\n",
    "    \n",
    "    #function\n",
    "    def deposite(self):\n",
    "        amount = float(input(\"Please enter how much: \"))\n",
    "        self.credit = self.credit + amount\n",
    "        \n",
    "    def withdraw(self):    \n",
    "        amount = float(input(\"Please enter how much: \"))\n",
    "        self.credit = self.credit - amount   \n",
    "    \n",
    "    def changepassword(self):\n",
    "        nid = input((\"Please enter your nationalid: \"))\n",
    "        if nid == self.nationalid:\n",
    "            self.password = input((\"Please enter your new password: \"))\n",
    "        "
   ]
  },
  {
   "cell_type": "code",
   "execution_count": 16,
   "id": "bb61f937",
   "metadata": {
    "ExecuteTime": {
     "end_time": "2022-08-24T03:31:54.198292Z",
     "start_time": "2022-08-24T03:30:16.391405Z"
    }
   },
   "outputs": [
    {
     "name": "stdout",
     "output_type": "stream",
     "text": [
      "Welcome to our bank\n",
      "Please enter your name: Ahmed\n",
      "Please enter your nationalid: 123\n",
      "Please enter your password: 123\n",
      "Please enter your phone: 1234\n"
     ]
    }
   ],
   "source": [
    "a = BankAccount()"
   ]
  },
  {
   "cell_type": "code",
   "execution_count": 17,
   "id": "c7ac36bb",
   "metadata": {
    "ExecuteTime": {
     "end_time": "2022-08-24T03:32:26.634101Z",
     "start_time": "2022-08-24T03:32:26.612106Z"
    }
   },
   "outputs": [
    {
     "data": {
      "text/plain": [
       "'Ahmed'"
      ]
     },
     "execution_count": 17,
     "metadata": {},
     "output_type": "execute_result"
    }
   ],
   "source": [
    "a.name"
   ]
  },
  {
   "cell_type": "code",
   "execution_count": 18,
   "id": "c0b011e2",
   "metadata": {
    "ExecuteTime": {
     "end_time": "2022-08-24T03:32:35.325910Z",
     "start_time": "2022-08-24T03:32:35.309930Z"
    }
   },
   "outputs": [
    {
     "data": {
      "text/plain": [
       "0"
      ]
     },
     "execution_count": 18,
     "metadata": {},
     "output_type": "execute_result"
    }
   ],
   "source": [
    "a.credit"
   ]
  },
  {
   "cell_type": "code",
   "execution_count": 19,
   "id": "2c065a1c",
   "metadata": {
    "ExecuteTime": {
     "end_time": "2022-08-24T03:32:42.286375Z",
     "start_time": "2022-08-24T03:32:42.266364Z"
    }
   },
   "outputs": [
    {
     "data": {
      "text/plain": [
       "123"
      ]
     },
     "execution_count": 19,
     "metadata": {},
     "output_type": "execute_result"
    }
   ],
   "source": [
    "a.nationalid"
   ]
  },
  {
   "cell_type": "code",
   "execution_count": 20,
   "id": "6ca457e4",
   "metadata": {
    "ExecuteTime": {
     "end_time": "2022-08-24T03:32:49.104702Z",
     "start_time": "2022-08-24T03:32:49.084746Z"
    }
   },
   "outputs": [
    {
     "data": {
      "text/plain": [
       "123"
      ]
     },
     "execution_count": 20,
     "metadata": {},
     "output_type": "execute_result"
    }
   ],
   "source": [
    "a.password"
   ]
  },
  {
   "cell_type": "code",
   "execution_count": 21,
   "id": "2cd129cb",
   "metadata": {
    "ExecuteTime": {
     "end_time": "2022-08-24T03:32:59.763064Z",
     "start_time": "2022-08-24T03:32:56.317710Z"
    }
   },
   "outputs": [
    {
     "name": "stdout",
     "output_type": "stream",
     "text": [
      "Please enter how much: 2000\n"
     ]
    }
   ],
   "source": [
    "a.deposite()"
   ]
  },
  {
   "cell_type": "code",
   "execution_count": 22,
   "id": "04e88e40",
   "metadata": {
    "ExecuteTime": {
     "end_time": "2022-08-24T03:33:07.900053Z",
     "start_time": "2022-08-24T03:33:07.888068Z"
    }
   },
   "outputs": [
    {
     "data": {
      "text/plain": [
       "2000.0"
      ]
     },
     "execution_count": 22,
     "metadata": {},
     "output_type": "execute_result"
    }
   ],
   "source": [
    "a.credit"
   ]
  },
  {
   "cell_type": "code",
   "execution_count": 23,
   "id": "dddf4e28",
   "metadata": {
    "ExecuteTime": {
     "end_time": "2022-08-24T03:33:26.233819Z",
     "start_time": "2022-08-24T03:33:20.862892Z"
    }
   },
   "outputs": [
    {
     "name": "stdout",
     "output_type": "stream",
     "text": [
      "Please enter how much: 1000\n"
     ]
    }
   ],
   "source": [
    "a.deposite()"
   ]
  },
  {
   "cell_type": "code",
   "execution_count": 24,
   "id": "c2a137c2",
   "metadata": {
    "ExecuteTime": {
     "end_time": "2022-08-24T03:33:32.062011Z",
     "start_time": "2022-08-24T03:33:32.054019Z"
    }
   },
   "outputs": [
    {
     "data": {
      "text/plain": [
       "3000.0"
      ]
     },
     "execution_count": 24,
     "metadata": {},
     "output_type": "execute_result"
    }
   ],
   "source": [
    "a.credit"
   ]
  },
  {
   "cell_type": "code",
   "execution_count": 25,
   "id": "3c2f261d",
   "metadata": {
    "ExecuteTime": {
     "end_time": "2022-08-24T03:33:49.208044Z",
     "start_time": "2022-08-24T03:33:47.353064Z"
    }
   },
   "outputs": [
    {
     "name": "stdout",
     "output_type": "stream",
     "text": [
      "Please enter how much: 1000\n"
     ]
    }
   ],
   "source": [
    "a.withdraw()"
   ]
  },
  {
   "cell_type": "code",
   "execution_count": 26,
   "id": "e56fbaa4",
   "metadata": {
    "ExecuteTime": {
     "end_time": "2022-08-24T03:33:55.874957Z",
     "start_time": "2022-08-24T03:33:55.862973Z"
    }
   },
   "outputs": [
    {
     "data": {
      "text/plain": [
       "2000.0"
      ]
     },
     "execution_count": 26,
     "metadata": {},
     "output_type": "execute_result"
    }
   ],
   "source": [
    "a.credit"
   ]
  },
  {
   "cell_type": "code",
   "execution_count": 27,
   "id": "2af59502",
   "metadata": {
    "ExecuteTime": {
     "end_time": "2022-08-24T03:34:17.507440Z",
     "start_time": "2022-08-24T03:34:07.309460Z"
    }
   },
   "outputs": [
    {
     "name": "stdout",
     "output_type": "stream",
     "text": [
      "Please enter how much: 3000\n"
     ]
    }
   ],
   "source": [
    "a.withdraw()"
   ]
  },
  {
   "cell_type": "code",
   "execution_count": 28,
   "id": "e78a8b0e",
   "metadata": {
    "ExecuteTime": {
     "end_time": "2022-08-24T03:34:29.150737Z",
     "start_time": "2022-08-24T03:34:29.138750Z"
    }
   },
   "outputs": [
    {
     "data": {
      "text/plain": [
       "-1000.0"
      ]
     },
     "execution_count": 28,
     "metadata": {},
     "output_type": "execute_result"
    }
   ],
   "source": [
    "a.credit\n",
    "# -1000.0  !!! it is not true\n",
    "# We will modifiy the 'withdraw' function to prevent withdraw action if (withdraw value > credit)"
   ]
  },
  {
   "cell_type": "markdown",
   "id": "6d0dd10e",
   "metadata": {},
   "source": [
    "### The same 2nd example but we will:\n",
    "     1-Modify the 'withdraw' function.\n",
    "     2-Add 'directDeposit' function."
   ]
  },
  {
   "cell_type": "code",
   "execution_count": 54,
   "id": "ed0826d8",
   "metadata": {
    "ExecuteTime": {
     "end_time": "2022-08-24T04:02:26.855247Z",
     "start_time": "2022-08-24T04:02:26.831280Z"
    }
   },
   "outputs": [],
   "source": [
    "class BankAccount:\n",
    "    \n",
    "    #constructor\n",
    "    def __init__(self):\n",
    "        print(\"Welcome to our bank\")\n",
    "        \n",
    "        #attributes\n",
    "        self.name = input((\"Please enter your name: \"))\n",
    "        self.nationalid = int(input(\"Please enter your nationalid: \"))\n",
    "        self.password = int(input(\"Please enter your password: \"))\n",
    "        self.phone = int(input(\"Please enter your phone: \"))\n",
    "        self.credit = 0\n",
    "    \n",
    "    #functions\n",
    "    def deposite(self):\n",
    "        amount = float(input(\"Please enter how much: \"))\n",
    "        self.credit = self.credit + amount\n",
    "     \n",
    "    def directdeposite(self, amount):\n",
    "        self.credit += amount\n",
    "        print(\"Done, your credit is: \", self.credit)\n",
    "        \n",
    "    def withdraw(self):    \n",
    "        amount = float(input(\"Please enter how much: \"))\n",
    "        if self.credit - amount < 0 :\n",
    "            print(\"You donnot have enough money\")\n",
    "        else: \n",
    "            self.credit = self.credit - amount\n",
    "            print(\"Successful operation, your credit now is: \", self.credit)\n",
    "    \n",
    "    def changepassword(self):\n",
    "        nid = int(input(\"Please enter your nationalid: \"))\n",
    "        if nid == self.nationalid:\n",
    "            self.password = input((\"Please enter your new password: \"))\n",
    "            \n",
    "        "
   ]
  },
  {
   "cell_type": "code",
   "execution_count": 55,
   "id": "89b97c88",
   "metadata": {
    "ExecuteTime": {
     "end_time": "2022-08-24T04:02:36.751868Z",
     "start_time": "2022-08-24T04:02:28.431813Z"
    }
   },
   "outputs": [
    {
     "name": "stdout",
     "output_type": "stream",
     "text": [
      "Welcome to our bank\n",
      "Please enter your name: Ahmed\n",
      "Please enter your nationalid: 123\n",
      "Please enter your password: 123\n",
      "Please enter your phone: 123\n"
     ]
    }
   ],
   "source": [
    "a = BankAccount()"
   ]
  },
  {
   "cell_type": "code",
   "execution_count": 56,
   "id": "d9e1bfb0",
   "metadata": {
    "ExecuteTime": {
     "end_time": "2022-08-24T04:02:39.063577Z",
     "start_time": "2022-08-24T04:02:39.055588Z"
    }
   },
   "outputs": [
    {
     "data": {
      "text/plain": [
       "0"
      ]
     },
     "execution_count": 56,
     "metadata": {},
     "output_type": "execute_result"
    }
   ],
   "source": [
    "a.credit"
   ]
  },
  {
   "cell_type": "code",
   "execution_count": 57,
   "id": "c40b13ca",
   "metadata": {
    "ExecuteTime": {
     "end_time": "2022-08-24T04:02:42.102578Z",
     "start_time": "2022-08-24T04:02:40.255149Z"
    }
   },
   "outputs": [
    {
     "name": "stdout",
     "output_type": "stream",
     "text": [
      "Please enter how much: 1200\n"
     ]
    }
   ],
   "source": [
    "a.deposite()"
   ]
  },
  {
   "cell_type": "code",
   "execution_count": 58,
   "id": "28aade0a",
   "metadata": {
    "ExecuteTime": {
     "end_time": "2022-08-24T04:02:45.606713Z",
     "start_time": "2022-08-24T04:02:44.475325Z"
    }
   },
   "outputs": [
    {
     "name": "stdout",
     "output_type": "stream",
     "text": [
      "Please enter how much: 200\n",
      "Successful operation, your credit now is:  1000.0\n"
     ]
    }
   ],
   "source": [
    "a.withdraw()"
   ]
  },
  {
   "cell_type": "code",
   "execution_count": 59,
   "id": "086c3c02",
   "metadata": {
    "ExecuteTime": {
     "end_time": "2022-08-24T04:02:51.641922Z",
     "start_time": "2022-08-24T04:02:49.629963Z"
    }
   },
   "outputs": [
    {
     "name": "stdout",
     "output_type": "stream",
     "text": [
      "Please enter how much: 1100\n",
      "You donnot have enough money\n"
     ]
    }
   ],
   "source": [
    "a.withdraw()"
   ]
  },
  {
   "cell_type": "code",
   "execution_count": 60,
   "id": "d02259cc",
   "metadata": {
    "ExecuteTime": {
     "end_time": "2022-08-24T04:03:00.130855Z",
     "start_time": "2022-08-24T04:02:56.971101Z"
    }
   },
   "outputs": [
    {
     "name": "stdout",
     "output_type": "stream",
     "text": [
      "Please enter your nationalid: 123\n",
      "Please enter your new password: 1234\n"
     ]
    }
   ],
   "source": [
    "a.changepassword()"
   ]
  },
  {
   "cell_type": "code",
   "execution_count": 61,
   "id": "57fb0a1a",
   "metadata": {
    "ExecuteTime": {
     "end_time": "2022-08-24T04:03:01.749337Z",
     "start_time": "2022-08-24T04:03:01.729383Z"
    }
   },
   "outputs": [
    {
     "data": {
      "text/plain": [
       "'1234'"
      ]
     },
     "execution_count": 61,
     "metadata": {},
     "output_type": "execute_result"
    }
   ],
   "source": [
    "a.password"
   ]
  },
  {
   "cell_type": "code",
   "execution_count": 62,
   "id": "d09f2ea2",
   "metadata": {
    "ExecuteTime": {
     "end_time": "2022-08-24T04:03:54.530310Z",
     "start_time": "2022-08-24T04:03:54.522321Z"
    }
   },
   "outputs": [
    {
     "name": "stdout",
     "output_type": "stream",
     "text": [
      "Done, your credit is:  3000.0\n"
     ]
    }
   ],
   "source": [
    "a.directdeposite(2000)"
   ]
  },
  {
   "cell_type": "markdown",
   "id": "b529c900",
   "metadata": {},
   "source": [
    "### -OOP Basic Consepts:\n",
    "     1-Encapsulation\n",
    "     2-Abstraction\n",
    "     3-Polymorphism\n",
    "     4-Inheritance\n",
    "     5-Composition"
   ]
  },
  {
   "cell_type": "markdown",
   "id": "d27844ab",
   "metadata": {},
   "source": [
    "### Abstraction\n",
    "-User -> use the application in the fewest number of steps (EX: ATM withdraw process). \n",
    "\n",
    "-Coding -> to make the Class as basic as we can (generalized)."
   ]
  },
  {
   "cell_type": "markdown",
   "id": "4f350ba9",
   "metadata": {},
   "source": [
    "### -Encapsulation:\n",
    "To hide some information (Attributes || Functions) from the user temporarily for Security or business reasons, until he proves that he has the right to access the information."
   ]
  },
  {
   "cell_type": "markdown",
   "id": "1490d6e6",
   "metadata": {},
   "source": [
    "### The same 2nd example:\n",
    "#### -Applying Encapsulation consept but we will:\n",
    "    1-Make some attributes private: __nationalid , __password , __credit\n",
    "    2-Add 'showcredit' function to print credit when user enter the correct password."
   ]
  },
  {
   "cell_type": "code",
   "execution_count": 78,
   "id": "a948f9a8",
   "metadata": {
    "ExecuteTime": {
     "end_time": "2022-08-24T04:47:31.441844Z",
     "start_time": "2022-08-24T04:47:31.417876Z"
    }
   },
   "outputs": [],
   "source": [
    "class BankAccount:\n",
    "    \n",
    "    #constructor\n",
    "    def __init__(self):\n",
    "        print(\"Welcome to our bank\")\n",
    "        \n",
    "        #attributes\n",
    "        self.name = input((\"Please enter your name: \"))\n",
    "        self.__nationalid = int(input(\"Please enter your nationalid: \"))\n",
    "        self.__password = int(input(\"Please enter your password: \"))\n",
    "        self.phone = int(input(\"Please enter your phone: \"))\n",
    "        self.__credit = 0\n",
    "    \n",
    "    #functions\n",
    "    def deposite(self):\n",
    "        amount = float(input(\"Please enter how much: \"))\n",
    "        self.__credit = self.__credit + amount\n",
    "     \n",
    "    def directdeposite(self, amount):\n",
    "        self.__credit += amount\n",
    "        print(\"Done, your credit is: \", self.__credit)\n",
    "        \n",
    "    def showcredit(self):\n",
    "        userpassword = int(input(\"Please enter your password: \"))\n",
    "        if userpassword == self.__password:\n",
    "            print(\"Your credit is: \", self.__credit)\n",
    "        \n",
    "    def withdraw(self):    \n",
    "        amount = float(input(\"Please enter how much: \"))\n",
    "        if self.__credit - amount < 0 :\n",
    "            print(\"You donnot have enough money\")\n",
    "        else: \n",
    "            self.__credit = self.__credit - amount\n",
    "            print(\"Successful operation, your credit now is: \", self.credit)\n",
    "    \n",
    "    def changepassword(self):\n",
    "        nid = int(input(\"Please enter your nationalid: \"))\n",
    "        if nid == self.__nationalid:\n",
    "            self.__password = input((\"Please enter your new password: \"))\n",
    "            \n",
    "        "
   ]
  },
  {
   "cell_type": "code",
   "execution_count": 79,
   "id": "19822919",
   "metadata": {
    "ExecuteTime": {
     "end_time": "2022-08-24T04:47:41.077027Z",
     "start_time": "2022-08-24T04:47:34.501573Z"
    }
   },
   "outputs": [
    {
     "name": "stdout",
     "output_type": "stream",
     "text": [
      "Welcome to our bank\n",
      "Please enter your name: Ahmed\n",
      "Please enter your nationalid: 123\n",
      "Please enter your password: 123\n",
      "Please enter your phone: 123\n"
     ]
    }
   ],
   "source": [
    "b = BankAccount()"
   ]
  },
  {
   "cell_type": "code",
   "execution_count": 80,
   "id": "de2db152",
   "metadata": {
    "ExecuteTime": {
     "end_time": "2022-08-24T04:47:44.261470Z",
     "start_time": "2022-08-24T04:47:44.225511Z"
    }
   },
   "outputs": [
    {
     "ename": "AttributeError",
     "evalue": "'BankAccount' object has no attribute 'password'",
     "output_type": "error",
     "traceback": [
      "\u001b[1;31m---------------------------------------------------------------------------\u001b[0m",
      "\u001b[1;31mAttributeError\u001b[0m                            Traceback (most recent call last)",
      "Input \u001b[1;32mIn [80]\u001b[0m, in \u001b[0;36m<cell line: 1>\u001b[1;34m()\u001b[0m\n\u001b[1;32m----> 1\u001b[0m \u001b[43mb\u001b[49m\u001b[38;5;241;43m.\u001b[39;49m\u001b[43mpassword\u001b[49m\n",
      "\u001b[1;31mAttributeError\u001b[0m: 'BankAccount' object has no attribute 'password'"
     ]
    }
   ],
   "source": [
    "b.password \n",
    "# Error because we made it private"
   ]
  },
  {
   "cell_type": "code",
   "execution_count": 81,
   "id": "33fda767",
   "metadata": {
    "ExecuteTime": {
     "end_time": "2022-08-24T04:47:45.126249Z",
     "start_time": "2022-08-24T04:47:45.098285Z"
    }
   },
   "outputs": [
    {
     "ename": "AttributeError",
     "evalue": "'BankAccount' object has no attribute '__password'",
     "output_type": "error",
     "traceback": [
      "\u001b[1;31m---------------------------------------------------------------------------\u001b[0m",
      "\u001b[1;31mAttributeError\u001b[0m                            Traceback (most recent call last)",
      "Input \u001b[1;32mIn [81]\u001b[0m, in \u001b[0;36m<cell line: 1>\u001b[1;34m()\u001b[0m\n\u001b[1;32m----> 1\u001b[0m \u001b[43mb\u001b[49m\u001b[38;5;241;43m.\u001b[39;49m\u001b[43m__password\u001b[49m\n",
      "\u001b[1;31mAttributeError\u001b[0m: 'BankAccount' object has no attribute '__password'"
     ]
    }
   ],
   "source": [
    "b.__password\n",
    "# Error because we made it private"
   ]
  },
  {
   "cell_type": "code",
   "execution_count": 82,
   "id": "93f4565e",
   "metadata": {
    "ExecuteTime": {
     "end_time": "2022-08-24T04:47:45.903103Z",
     "start_time": "2022-08-24T04:47:45.879128Z"
    }
   },
   "outputs": [
    {
     "ename": "AttributeError",
     "evalue": "'BankAccount' object has no attribute '__credit'",
     "output_type": "error",
     "traceback": [
      "\u001b[1;31m---------------------------------------------------------------------------\u001b[0m",
      "\u001b[1;31mAttributeError\u001b[0m                            Traceback (most recent call last)",
      "Input \u001b[1;32mIn [82]\u001b[0m, in \u001b[0;36m<cell line: 1>\u001b[1;34m()\u001b[0m\n\u001b[1;32m----> 1\u001b[0m \u001b[43mb\u001b[49m\u001b[38;5;241;43m.\u001b[39;49m\u001b[43m__credit\u001b[49m\n",
      "\u001b[1;31mAttributeError\u001b[0m: 'BankAccount' object has no attribute '__credit'"
     ]
    }
   ],
   "source": [
    "b.__credit\n",
    "# Error because we made it private"
   ]
  },
  {
   "cell_type": "code",
   "execution_count": 83,
   "id": "d1126c13",
   "metadata": {
    "ExecuteTime": {
     "end_time": "2022-08-24T04:47:52.421277Z",
     "start_time": "2022-08-24T04:47:47.403461Z"
    }
   },
   "outputs": [
    {
     "name": "stdout",
     "output_type": "stream",
     "text": [
      "Please enter how much: 1200\n"
     ]
    }
   ],
   "source": [
    "b.deposite()"
   ]
  },
  {
   "cell_type": "code",
   "execution_count": 84,
   "id": "e2e888ea",
   "metadata": {
    "ExecuteTime": {
     "end_time": "2022-08-24T04:47:53.059732Z",
     "start_time": "2022-08-24T04:47:53.051732Z"
    }
   },
   "outputs": [
    {
     "name": "stdout",
     "output_type": "stream",
     "text": [
      "Done, your credit is:  1400.0\n"
     ]
    }
   ],
   "source": [
    "b.directdeposite(200)"
   ]
  },
  {
   "cell_type": "code",
   "execution_count": 86,
   "id": "78616c5c",
   "metadata": {
    "ExecuteTime": {
     "end_time": "2022-08-24T04:48:49.489975Z",
     "start_time": "2022-08-24T04:48:46.598997Z"
    }
   },
   "outputs": [
    {
     "name": "stdout",
     "output_type": "stream",
     "text": [
      "Please enter your password: 123\n",
      "Your credit is:  1400.0\n"
     ]
    }
   ],
   "source": [
    "b.showcredit()"
   ]
  }
 ],
 "metadata": {
  "kernelspec": {
   "display_name": "Python 3 (ipykernel)",
   "language": "python",
   "name": "python3"
  },
  "language_info": {
   "codemirror_mode": {
    "name": "ipython",
    "version": 3
   },
   "file_extension": ".py",
   "mimetype": "text/x-python",
   "name": "python",
   "nbconvert_exporter": "python",
   "pygments_lexer": "ipython3",
   "version": "3.9.12"
  }
 },
 "nbformat": 4,
 "nbformat_minor": 5
}
