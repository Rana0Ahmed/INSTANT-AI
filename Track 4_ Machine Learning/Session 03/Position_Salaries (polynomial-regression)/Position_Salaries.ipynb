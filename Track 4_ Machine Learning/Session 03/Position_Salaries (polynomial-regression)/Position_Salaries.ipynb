{
 "cells": [
  {
   "cell_type": "markdown",
   "id": "4e1a80e6",
   "metadata": {},
   "source": [
    "## Import needed modules"
   ]
  },
  {
   "cell_type": "code",
   "execution_count": 2,
   "id": "4f92820a",
   "metadata": {
    "ExecuteTime": {
     "end_time": "2022-12-11T11:13:04.859490Z",
     "start_time": "2022-12-11T11:13:00.685350Z"
    }
   },
   "outputs": [],
   "source": [
    "import numpy as np\n",
    "import pandas as pd\n",
    "import matplotlib.pyplot as plt\n",
    "from sklearn.linear_model import LinearRegression\n",
    "from sklearn.preprocessing import PolynomialFeatures"
   ]
  },
  {
   "cell_type": "code",
   "execution_count": 3,
   "id": "d1bd7089",
   "metadata": {
    "ExecuteTime": {
     "end_time": "2022-12-11T11:13:58.541411Z",
     "start_time": "2022-12-11T11:13:58.518472Z"
    }
   },
   "outputs": [
    {
     "data": {
      "text/html": [
       "<div>\n",
       "<style scoped>\n",
       "    .dataframe tbody tr th:only-of-type {\n",
       "        vertical-align: middle;\n",
       "    }\n",
       "\n",
       "    .dataframe tbody tr th {\n",
       "        vertical-align: top;\n",
       "    }\n",
       "\n",
       "    .dataframe thead th {\n",
       "        text-align: right;\n",
       "    }\n",
       "</style>\n",
       "<table border=\"1\" class=\"dataframe\">\n",
       "  <thead>\n",
       "    <tr style=\"text-align: right;\">\n",
       "      <th></th>\n",
       "      <th>Position</th>\n",
       "      <th>Level</th>\n",
       "      <th>Salary</th>\n",
       "    </tr>\n",
       "  </thead>\n",
       "  <tbody>\n",
       "    <tr>\n",
       "      <th>0</th>\n",
       "      <td>Business Analyst</td>\n",
       "      <td>1</td>\n",
       "      <td>45000</td>\n",
       "    </tr>\n",
       "    <tr>\n",
       "      <th>1</th>\n",
       "      <td>Junior Consultant</td>\n",
       "      <td>2</td>\n",
       "      <td>50000</td>\n",
       "    </tr>\n",
       "    <tr>\n",
       "      <th>2</th>\n",
       "      <td>Senior Consultant</td>\n",
       "      <td>3</td>\n",
       "      <td>60000</td>\n",
       "    </tr>\n",
       "    <tr>\n",
       "      <th>3</th>\n",
       "      <td>Manager</td>\n",
       "      <td>4</td>\n",
       "      <td>80000</td>\n",
       "    </tr>\n",
       "    <tr>\n",
       "      <th>4</th>\n",
       "      <td>Country Manager</td>\n",
       "      <td>5</td>\n",
       "      <td>110000</td>\n",
       "    </tr>\n",
       "    <tr>\n",
       "      <th>5</th>\n",
       "      <td>Region Manager</td>\n",
       "      <td>6</td>\n",
       "      <td>150000</td>\n",
       "    </tr>\n",
       "    <tr>\n",
       "      <th>6</th>\n",
       "      <td>Partner</td>\n",
       "      <td>7</td>\n",
       "      <td>200000</td>\n",
       "    </tr>\n",
       "    <tr>\n",
       "      <th>7</th>\n",
       "      <td>Senior Partner</td>\n",
       "      <td>8</td>\n",
       "      <td>300000</td>\n",
       "    </tr>\n",
       "    <tr>\n",
       "      <th>8</th>\n",
       "      <td>C-level</td>\n",
       "      <td>9</td>\n",
       "      <td>500000</td>\n",
       "    </tr>\n",
       "    <tr>\n",
       "      <th>9</th>\n",
       "      <td>CEO</td>\n",
       "      <td>10</td>\n",
       "      <td>1000000</td>\n",
       "    </tr>\n",
       "  </tbody>\n",
       "</table>\n",
       "</div>"
      ],
      "text/plain": [
       "            Position  Level   Salary\n",
       "0   Business Analyst      1    45000\n",
       "1  Junior Consultant      2    50000\n",
       "2  Senior Consultant      3    60000\n",
       "3            Manager      4    80000\n",
       "4    Country Manager      5   110000\n",
       "5     Region Manager      6   150000\n",
       "6            Partner      7   200000\n",
       "7     Senior Partner      8   300000\n",
       "8            C-level      9   500000\n",
       "9                CEO     10  1000000"
      ]
     },
     "execution_count": 3,
     "metadata": {},
     "output_type": "execute_result"
    }
   ],
   "source": [
    "# read dataset using pandas\n",
    "dataset = pd.read_csv('Position_Salaries.csv')\n",
    "\n",
    "dataset"
   ]
  },
  {
   "cell_type": "code",
   "execution_count": 11,
   "id": "4e903734",
   "metadata": {
    "ExecuteTime": {
     "end_time": "2022-12-11T11:35:05.980727Z",
     "start_time": "2022-12-11T11:35:05.961808Z"
    }
   },
   "outputs": [],
   "source": [
    "# make x,y as features\n",
    "x = dataset.iloc[: ,1:2].values\n",
    "y = dataset.iloc[: ,2].values"
   ]
  },
  {
   "cell_type": "code",
   "execution_count": 12,
   "id": "0763649a",
   "metadata": {
    "ExecuteTime": {
     "end_time": "2022-12-11T11:35:06.791578Z",
     "start_time": "2022-12-11T11:35:06.722477Z"
    }
   },
   "outputs": [],
   "source": [
    "def define_model(degree):\n",
    "    \n",
    "    # create an object of class PolynomialFeatures\n",
    "    poly_reg = PolynomialFeatures(degree)\n",
    "    \n",
    "    # call fit transform on x variables\n",
    "    x_poly = poly_reg.fit_transform(x)\n",
    "    \n",
    "    # fit the transformed x to the y\n",
    "    poly_reg.fit(x_poly, y)\n",
    "    \n",
    "    # create an object of class LinearRegression\n",
    "    lin_reg = LinearRegression()\n",
    "    \n",
    "    # fit the model to transformed x\n",
    "    lin_reg.fit(x_poly, y)\n",
    "    \n",
    "    return lin_reg, poly_reg\n",
    "\n",
    "# call the function with the desired degree\n",
    "lin_reg, poly_reg = define_model(4)"
   ]
  },
  {
   "cell_type": "code",
   "execution_count": 13,
   "id": "7d21570f",
   "metadata": {
    "ExecuteTime": {
     "end_time": "2022-12-11T11:39:02.664152Z",
     "start_time": "2022-12-11T11:39:02.472665Z"
    }
   },
   "outputs": [
    {
     "data": {
      "image/png": "[encoded data removed]",
      "text/plain": [
       "<Figure size 640x480 with 1 Axes>"
      ]
     },
     "metadata": {},
     "output_type": "display_data"
    }
   ],
   "source": [
    "def show_regression(lin_reg, poly_reg):\n",
    "    plt.scatter(x, y, color = 'red')\n",
    "    plt.plot(x, lin_reg.predict(poly_reg.fit_transform(x)), color = 'blue')\n",
    "    plt.title('Salary Model')\n",
    "    plt.xlabel('Position level')\n",
    "    plt.ylabel('Salary')\n",
    "    plt.show()\n",
    " \n",
    "show_regression(lin_reg, poly_reg)"
   ]
  },
  {
   "cell_type": "code",
   "execution_count": 16,
   "id": "9d9b669f",
   "metadata": {
    "ExecuteTime": {
     "end_time": "2022-12-11T11:41:47.919394Z",
     "start_time": "2022-12-11T11:41:47.899451Z"
    }
   },
   "outputs": [
    {
     "name": "stdout",
     "output_type": "stream",
     "text": [
      "Estimated Salary: $ 225126\n"
     ]
    }
   ],
   "source": [
    "# predict a new result using Polynomial Regression \n",
    "salary = int(lin_reg.predict(poly_reg.fit_transform([[7.5]])))\n",
    "print('Estimated Salary: $', salary)"
   ]
  }
 ],
 "metadata": {
  "kernelspec": {
   "display_name": "Python 3 (ipykernel)",
   "language": "python",
   "name": "python3"
  },
  "language_info": {
   "codemirror_mode": {
    "name": "ipython",
    "version": 3
   },
   "file_extension": ".py",
   "mimetype": "text/x-python",
   "name": "python",
   "nbconvert_exporter": "python",
   "pygments_lexer": "ipython3",
   "version": "3.9.13"
  }
 },
 "nbformat": 4,
 "nbformat_minor": 5
}
