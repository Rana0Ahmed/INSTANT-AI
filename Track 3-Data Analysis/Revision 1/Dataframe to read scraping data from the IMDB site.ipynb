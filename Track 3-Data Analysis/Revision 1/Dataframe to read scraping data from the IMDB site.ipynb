{
 "cells": [
  {
   "cell_type": "markdown",
   "id": "ee737a0e",
   "metadata": {},
   "source": [
    "## Import modules"
   ]
  },
  {
   "cell_type": "code",
   "execution_count": 1,
   "id": "d9b41984",
   "metadata": {
    "ExecuteTime": {
     "end_time": "2022-10-17T18:52:43.752672Z",
     "start_time": "2022-10-17T18:52:43.468503Z"
    }
   },
   "outputs": [],
   "source": [
    "import requests\n",
    "import csv\n",
    "from bs4 import BeautifulSoup"
   ]
  },
  {
   "cell_type": "markdown",
   "id": "bba9f1a7",
   "metadata": {},
   "source": [
    "## Access the HTML content from the webpage"
   ]
  },
  {
   "cell_type": "code",
   "execution_count": 2,
   "id": "704ee17b",
   "metadata": {
    "ExecuteTime": {
     "end_time": "2022-10-17T18:52:46.958280Z",
     "start_time": "2022-10-17T18:52:45.462180Z"
    }
   },
   "outputs": [],
   "source": [
    "website = requests.get(\"https://www.imdb.com/chart/top?ref_=nv_mv_250\")\n",
    "soup = BeautifulSoup(website.content, \"html\")"
   ]
  },
  {
   "cell_type": "markdown",
   "id": "b55c8d0c",
   "metadata": {},
   "source": [
    "## Extract details about movies and write into csv file"
   ]
  },
  {
   "cell_type": "code",
   "execution_count": 3,
   "id": "5e140412",
   "metadata": {
    "ExecuteTime": {
     "end_time": "2022-10-17T18:52:51.606406Z",
     "start_time": "2022-10-17T18:52:48.714638Z"
    }
   },
   "outputs": [],
   "source": [
    "csvfile = open ('IMDb Top 250 Movies', 'w', encoding='utf-8') \n",
    "writer = csv.writer(csvfile) \n",
    "writer.writerow(['movie_rank', 'movie_name', 'movie_year', 'movie_rate'])\n",
    "\n",
    "movies = soup.find(\"tbody\", class_ = \"lister-list\").find_all(\"tr\")  # 250\n",
    "for movie in movies:\n",
    "    movie_rank = movie.find(\"td\", class_ = \"titleColumn\").get_text(strip=True).split(\".\")[0]\n",
    "    movie_name = movie.find(\"td\", class_ = \"titleColumn\").a.text\n",
    "    movie_year = movie.find(\"td\", class_ = \"titleColumn\").span.text.strip(\"()\")\n",
    "    movie_rate = movie.find(\"td\", class_ = \"ratingColumn imdbRating\").strong.tex\n",
    "    \n",
    "    writer.writerow([movie_rank, movie_name, movie_year, movie_rate]) \n",
    "    \n",
    "csvfile.close()      "
   ]
  },
  {
   "cell_type": "markdown",
   "id": "aa8ef68b",
   "metadata": {},
   "source": [
    "## Import Pandas Library"
   ]
  },
  {
   "cell_type": "code",
   "execution_count": 4,
   "id": "6d7855ae",
   "metadata": {
    "ExecuteTime": {
     "end_time": "2022-10-17T18:52:54.406710Z",
     "start_time": "2022-10-17T18:52:53.151617Z"
    }
   },
   "outputs": [],
   "source": [
    "import pandas as pd"
   ]
  },
  {
   "cell_type": "markdown",
   "id": "330f3334",
   "metadata": {},
   "source": [
    "## Loading scraping data from csv file into Dataframe"
   ]
  },
  {
   "cell_type": "code",
   "execution_count": 5,
   "id": "28579595",
   "metadata": {
    "ExecuteTime": {
     "end_time": "2022-10-17T18:52:55.716551Z",
     "start_time": "2022-10-17T18:52:55.660551Z"
    }
   },
   "outputs": [
    {
     "data": {
      "text/html": [
       "<div>\n",
       "<style scoped>\n",
       "    .dataframe tbody tr th:only-of-type {\n",
       "        vertical-align: middle;\n",
       "    }\n",
       "\n",
       "    .dataframe tbody tr th {\n",
       "        vertical-align: top;\n",
       "    }\n",
       "\n",
       "    .dataframe thead th {\n",
       "        text-align: right;\n",
       "    }\n",
       "</style>\n",
       "<table border=\"1\" class=\"dataframe\">\n",
       "  <thead>\n",
       "    <tr style=\"text-align: right;\">\n",
       "      <th></th>\n",
       "      <th>movie_rank</th>\n",
       "      <th>movie_name</th>\n",
       "      <th>movie_year</th>\n",
       "      <th>movie_rate</th>\n",
       "    </tr>\n",
       "  </thead>\n",
       "  <tbody>\n",
       "    <tr>\n",
       "      <th>0</th>\n",
       "      <td>1</td>\n",
       "      <td>The Shawshank Redemption</td>\n",
       "      <td>1994</td>\n",
       "      <td>9.2</td>\n",
       "    </tr>\n",
       "    <tr>\n",
       "      <th>1</th>\n",
       "      <td>2</td>\n",
       "      <td>The Godfather</td>\n",
       "      <td>1972</td>\n",
       "      <td>9.2</td>\n",
       "    </tr>\n",
       "    <tr>\n",
       "      <th>2</th>\n",
       "      <td>3</td>\n",
       "      <td>The Dark Knight</td>\n",
       "      <td>2008</td>\n",
       "      <td>9.0</td>\n",
       "    </tr>\n",
       "    <tr>\n",
       "      <th>3</th>\n",
       "      <td>4</td>\n",
       "      <td>The Godfather Part II</td>\n",
       "      <td>1974</td>\n",
       "      <td>9.0</td>\n",
       "    </tr>\n",
       "    <tr>\n",
       "      <th>4</th>\n",
       "      <td>5</td>\n",
       "      <td>12 Angry Men</td>\n",
       "      <td>1957</td>\n",
       "      <td>8.9</td>\n",
       "    </tr>\n",
       "    <tr>\n",
       "      <th>...</th>\n",
       "      <td>...</td>\n",
       "      <td>...</td>\n",
       "      <td>...</td>\n",
       "      <td>...</td>\n",
       "    </tr>\n",
       "    <tr>\n",
       "      <th>245</th>\n",
       "      <td>246</td>\n",
       "      <td>Dersu Uzala</td>\n",
       "      <td>1975</td>\n",
       "      <td>8.0</td>\n",
       "    </tr>\n",
       "    <tr>\n",
       "      <th>246</th>\n",
       "      <td>247</td>\n",
       "      <td>Aladdin</td>\n",
       "      <td>1992</td>\n",
       "      <td>8.0</td>\n",
       "    </tr>\n",
       "    <tr>\n",
       "      <th>247</th>\n",
       "      <td>248</td>\n",
       "      <td>Gandhi</td>\n",
       "      <td>1982</td>\n",
       "      <td>8.0</td>\n",
       "    </tr>\n",
       "    <tr>\n",
       "      <th>248</th>\n",
       "      <td>249</td>\n",
       "      <td>The Help</td>\n",
       "      <td>2011</td>\n",
       "      <td>8.0</td>\n",
       "    </tr>\n",
       "    <tr>\n",
       "      <th>249</th>\n",
       "      <td>250</td>\n",
       "      <td>The Iron Giant</td>\n",
       "      <td>1999</td>\n",
       "      <td>8.0</td>\n",
       "    </tr>\n",
       "  </tbody>\n",
       "</table>\n",
       "<p>250 rows × 4 columns</p>\n",
       "</div>"
      ],
      "text/plain": [
       "     movie_rank                movie_name  movie_year  movie_rate\n",
       "0             1  The Shawshank Redemption        1994         9.2\n",
       "1             2             The Godfather        1972         9.2\n",
       "2             3           The Dark Knight        2008         9.0\n",
       "3             4     The Godfather Part II        1974         9.0\n",
       "4             5              12 Angry Men        1957         8.9\n",
       "..          ...                       ...         ...         ...\n",
       "245         246               Dersu Uzala        1975         8.0\n",
       "246         247                   Aladdin        1992         8.0\n",
       "247         248                    Gandhi        1982         8.0\n",
       "248         249                  The Help        2011         8.0\n",
       "249         250            The Iron Giant        1999         8.0\n",
       "\n",
       "[250 rows x 4 columns]"
      ]
     },
     "execution_count": 5,
     "metadata": {},
     "output_type": "execute_result"
    }
   ],
   "source": [
    "Dataframe = pd.read_csv(\"IMDb Top 250 Movies.csv\")\n",
    "Dataframe"
   ]
  }
 ],
 "metadata": {
  "kernelspec": {
   "display_name": "Python 3 (ipykernel)",
   "language": "python",
   "name": "python3"
  },
  "language_info": {
   "codemirror_mode": {
    "name": "ipython",
    "version": 3
   },
   "file_extension": ".py",
   "mimetype": "text/x-python",
   "name": "python",
   "nbconvert_exporter": "python",
   "pygments_lexer": "ipython3",
   "version": "3.9.12"
  }
 },
 "nbformat": 4,
 "nbformat_minor": 5
}
