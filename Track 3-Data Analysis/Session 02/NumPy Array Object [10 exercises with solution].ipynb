{
 "cells": [
  {
   "cell_type": "markdown",
   "id": "ca7385ed",
   "metadata": {},
   "source": [
    "## Import NumPy Library"
   ]
  },
  {
   "cell_type": "code",
   "execution_count": 1,
   "id": "4dc00436",
   "metadata": {
    "ExecuteTime": {
     "end_time": "2022-10-15T17:14:15.445570Z",
     "start_time": "2022-10-15T17:14:15.226682Z"
    }
   },
   "outputs": [],
   "source": [
    "import numpy as np"
   ]
  },
  {
   "cell_type": "markdown",
   "id": "bb4d1169",
   "metadata": {},
   "source": [
    "####  Write a NumPy program to create a 2d array with 1 on the border and 0 inside."
   ]
  },
  {
   "cell_type": "code",
   "execution_count": 8,
   "id": "0c48aa31",
   "metadata": {
    "ExecuteTime": {
     "end_time": "2022-10-15T17:18:48.294482Z",
     "start_time": "2022-10-15T17:18:48.278482Z"
    }
   },
   "outputs": [
    {
     "name": "stdout",
     "output_type": "stream",
     "text": [
      "Original matrix is: \n",
      " [[1 1 1 1]\n",
      " [1 1 1 1]\n",
      " [1 1 1 1]\n",
      " [1 1 1 1]]\n",
      "\n",
      "New matrix is: \n",
      " [[1 1 1 1]\n",
      " [1 0 0 1]\n",
      " [1 0 0 1]\n",
      " [1 1 1 1]]\n"
     ]
    }
   ],
   "source": [
    "array = np.ones((4, 4), dtype = \"int32\")\n",
    "print(\"Original matrix is: \\n\", array)\n",
    "print()\n",
    "array[1:3, 1:3] = 0\n",
    "new_array = array\n",
    "print(\"New matrix is: \\n\", new_array)"
   ]
  },
  {
   "cell_type": "markdown",
   "id": "4bb4b35b",
   "metadata": {
    "ExecuteTime": {
     "end_time": "2022-10-15T17:16:49.241335Z",
     "start_time": "2022-10-15T17:16:49.225334Z"
    }
   },
   "source": [
    "#### 2. Write a NumPy program to create a 8x8 matrix and fill it with a checkerboard pattern."
   ]
  },
  {
   "cell_type": "code",
   "execution_count": 16,
   "id": "50f05a31",
   "metadata": {
    "ExecuteTime": {
     "end_time": "2022-10-15T17:28:23.482089Z",
     "start_time": "2022-10-15T17:28:23.458090Z"
    }
   },
   "outputs": [
    {
     "name": "stdout",
     "output_type": "stream",
     "text": [
      "Original matix is: \n",
      " [[0 0 0 0 0 0 0 0]\n",
      " [0 0 0 0 0 0 0 0]\n",
      " [0 0 0 0 0 0 0 0]\n",
      " [0 0 0 0 0 0 0 0]\n",
      " [0 0 0 0 0 0 0 0]\n",
      " [0 0 0 0 0 0 0 0]\n",
      " [0 0 0 0 0 0 0 0]\n",
      " [0 0 0 0 0 0 0 0]]\n",
      "\n",
      "Matix with checkerboard pattern is: \n",
      " [[0 1 0 1 0 1 0 1]\n",
      " [1 0 1 0 1 0 1 0]\n",
      " [0 1 0 1 0 1 0 1]\n",
      " [1 0 1 0 1 0 1 0]\n",
      " [0 1 0 1 0 1 0 1]\n",
      " [1 0 1 0 1 0 1 0]\n",
      " [0 1 0 1 0 1 0 1]\n",
      " [1 0 1 0 1 0 1 0]]\n"
     ]
    }
   ],
   "source": [
    "matrix = np.zeros((8, 8), dtype = \"int32\")\n",
    "print(\"Original matix is: \\n\", matrix)\n",
    "print()\n",
    "# to change values in rows \n",
    "matrix[1::2, ::2] = 1\n",
    "# to change values in columns\n",
    "matrix[::2, 1::2] = 1\n",
    "print(\"Matix with checkerboard pattern is: \\n\", matrix)"
   ]
  },
  {
   "cell_type": "markdown",
   "id": "871a58b4",
   "metadata": {},
   "source": [
    "#### 3. Write a NumPy program to find common values between two arrays"
   ]
  },
  {
   "cell_type": "code",
   "execution_count": 20,
   "id": "49ba721f",
   "metadata": {
    "ExecuteTime": {
     "end_time": "2022-10-15T17:32:23.824397Z",
     "start_time": "2022-10-15T17:32:23.804768Z"
    }
   },
   "outputs": [
    {
     "name": "stdout",
     "output_type": "stream",
     "text": [
      "The first array =  [ 10  20  30  40  50  60  70  80  90 100]\n",
      "The second array =  [10 30 50 70 90]\n",
      "The common values between the two arrays are:  [10 30 50 70 90]\n"
     ]
    }
   ],
   "source": [
    "arr1 = np.array([10, 20, 30, 40, 50, 60, 70, 80, 90, 100])\n",
    "arr2 = np.array([10, 30, 50, 70, 90])\n",
    "print(\"The first array = \", arr1)\n",
    "print(\"The second array = \", arr2)\n",
    "print(\"The common values between the two arrays are: \", np.intersect1d(arr1, arr2))"
   ]
  },
  {
   "cell_type": "markdown",
   "id": "5ee80ed9",
   "metadata": {},
   "source": [
    "#### 4. Write a NumPy program to test whether each element of a 1-D array is also present in a second    array"
   ]
  },
  {
   "cell_type": "code",
   "execution_count": 22,
   "id": "dff13e10",
   "metadata": {
    "ExecuteTime": {
     "end_time": "2022-10-15T17:35:48.661567Z",
     "start_time": "2022-10-15T17:35:48.645567Z"
    }
   },
   "outputs": [
    {
     "name": "stdout",
     "output_type": "stream",
     "text": [
      "array1 =  [10 20 30 40 50]\n",
      "array2 =  [10 30 50]\n",
      "The comparison between 2 arrays is:  [ True False  True False  True]\n"
     ]
    }
   ],
   "source": [
    "arr1 = np.array([10, 20, 30, 40, 50])\n",
    "arr2 = np.array([10, 30, 50])\n",
    "print(\"array1 = \", arr1)\n",
    "print(\"array2 = \", arr2)\n",
    "print(\"The comparison between 2 arrays is: \", np.in1d(arr1, arr2))"
   ]
  },
  {
   "cell_type": "markdown",
   "id": "2274db06",
   "metadata": {},
   "source": [
    "#### 5. Write a NumPy program compare two arrays."
   ]
  },
  {
   "cell_type": "code",
   "execution_count": 30,
   "id": "f63c3564",
   "metadata": {
    "ExecuteTime": {
     "end_time": "2022-10-15T17:46:33.822700Z",
     "start_time": "2022-10-15T17:46:33.806699Z"
    }
   },
   "outputs": [
    {
     "name": "stdout",
     "output_type": "stream",
     "text": [
      "First array =  [2 4]\n",
      "Second array =  [0 4]\n",
      "\n",
      "First array is greater than  or equal second array:  [ True  True]\n",
      "First array is smaller than or equal second array:  [False  True]\n",
      "First array is equal second array:  [False  True]\n",
      "First array is not equal second array:  [ True False]\n"
     ]
    }
   ],
   "source": [
    "arr1 = np.array([2, 4])\n",
    "arr2 = np.array([0, 4])\n",
    "print(\"First array = \", arr1)\n",
    "print(\"Second array = \", arr2)\n",
    "print()\n",
    "print(\"First array is greater than  or equal second array: \", arr1 >= arr2)\n",
    "print(\"First array is smaller than or equal second array: \", arr1 <= arr2)\n",
    "print(\"First array is equal second array: \", arr1 == arr2)\n",
    "print(\"First array is not equal second array: \", arr1 != arr2)"
   ]
  },
  {
   "cell_type": "markdown",
   "id": "5f2f1912",
   "metadata": {},
   "source": [
    "#### 6. Write a Numpy program to split an array of 14 elements into 3 arrays, each of which has 2, 4, and 8 elements in the original order"
   ]
  },
  {
   "cell_type": "code",
   "execution_count": 37,
   "id": "fc191c38",
   "metadata": {
    "ExecuteTime": {
     "end_time": "2022-10-15T17:57:02.579538Z",
     "start_time": "2022-10-15T17:57:02.568527Z"
    }
   },
   "outputs": [
    {
     "name": "stdout",
     "output_type": "stream",
     "text": [
      "The original array is:  [ 1  2  3  4  5  6  7  8  9 10 11 12 13 14]\n",
      "The first subarray is:  [1 2]\n",
      "The second subarray is:  [3 4 5 6]\n",
      "The third subarray is:  [ 7  8  9 10 11 12 13 14]\n"
     ]
    }
   ],
   "source": [
    "arr = np.arange(1, 15, dtype = \"int32\")\n",
    "print(\"The original array is: \", arr)\n",
    "\n",
    "# N split points lead to N + 1 subarrays\n",
    "arr1, arr2, arr3 = np.split(arr, [2, 6])\n",
    "print(\"The first subarray is: \", arr1)\n",
    "print(\"The second subarray is: \", arr2)\n",
    "print(\"The third subarray is: \", arr3)"
   ]
  },
  {
   "cell_type": "markdown",
   "id": "82056f6d",
   "metadata": {},
   "source": [
    "#### 7. Write a NumPy program to create a 5x5x5."
   ]
  },
  {
   "cell_type": "code",
   "execution_count": 38,
   "id": "ab47127d",
   "metadata": {
    "ExecuteTime": {
     "end_time": "2022-10-15T18:00:41.913508Z",
     "start_time": "2022-10-15T18:00:41.889503Z"
    }
   },
   "outputs": [
    {
     "data": {
      "text/plain": [
       "array([[[1, 1, 1, 1, 1],\n",
       "        [1, 1, 1, 1, 1],\n",
       "        [1, 1, 1, 1, 1],\n",
       "        [1, 1, 1, 1, 1],\n",
       "        [1, 1, 1, 1, 1]],\n",
       "\n",
       "       [[1, 1, 1, 1, 1],\n",
       "        [1, 1, 1, 1, 1],\n",
       "        [1, 1, 1, 1, 1],\n",
       "        [1, 1, 1, 1, 1],\n",
       "        [1, 1, 1, 1, 1]],\n",
       "\n",
       "       [[1, 1, 1, 1, 1],\n",
       "        [1, 1, 1, 1, 1],\n",
       "        [1, 1, 1, 1, 1],\n",
       "        [1, 1, 1, 1, 1],\n",
       "        [1, 1, 1, 1, 1]],\n",
       "\n",
       "       [[1, 1, 1, 1, 1],\n",
       "        [1, 1, 1, 1, 1],\n",
       "        [1, 1, 1, 1, 1],\n",
       "        [1, 1, 1, 1, 1],\n",
       "        [1, 1, 1, 1, 1]],\n",
       "\n",
       "       [[1, 1, 1, 1, 1],\n",
       "        [1, 1, 1, 1, 1],\n",
       "        [1, 1, 1, 1, 1],\n",
       "        [1, 1, 1, 1, 1],\n",
       "        [1, 1, 1, 1, 1]]])"
      ]
     },
     "execution_count": 38,
     "metadata": {},
     "output_type": "execute_result"
    }
   ],
   "source": [
    "array = np.ones((5, 5, 5), dtype=int)\n",
    "array"
   ]
  },
  {
   "cell_type": "markdown",
   "id": "849c4537",
   "metadata": {},
   "source": [
    "#### 8. Write a NumPy program to access an array by column."
   ]
  },
  {
   "cell_type": "code",
   "execution_count": 51,
   "id": "6c7cab83",
   "metadata": {
    "ExecuteTime": {
     "end_time": "2022-10-15T18:11:01.510194Z",
     "start_time": "2022-10-15T18:11:01.494158Z"
    }
   },
   "outputs": [
    {
     "name": "stdout",
     "output_type": "stream",
     "text": [
      "The original array is: \n",
      " [[ 1  2  3  4  5]\n",
      " [ 6  7  8  9 10]\n",
      " [11 12 13 14 15]\n",
      " [16 17 18 19 20]\n",
      " [21 22 23 24 25]] \n",
      "\n",
      "The first column is: \n",
      " [[ 1]\n",
      " [ 6]\n",
      " [11]\n",
      " [16]\n",
      " [21]] \n",
      "\n",
      "The second column is: \n",
      " [[ 2]\n",
      " [ 7]\n",
      " [12]\n",
      " [17]\n",
      " [22]] \n",
      "\n",
      "The third column is: \n",
      " [[ 3]\n",
      " [ 8]\n",
      " [13]\n",
      " [18]\n",
      " [23]] \n",
      "\n",
      "The fourth column is: \n",
      " [[ 4]\n",
      " [ 9]\n",
      " [14]\n",
      " [19]\n",
      " [24]] \n",
      "\n",
      "The fifth column is: \n",
      " [[ 5]\n",
      " [10]\n",
      " [15]\n",
      " [20]\n",
      " [25]] \n",
      "\n"
     ]
    }
   ],
   "source": [
    "array = np.arange(1, 26).reshape(5, 5)\n",
    "print(\"The original array is: \\n\", array, \"\\n\")\n",
    "print(\"The first column is: \\n\", array[:, 0].reshape(5, 1), \"\\n\")\n",
    "print(\"The second column is: \\n\", array[:, 1].reshape(5, 1), \"\\n\")\n",
    "print(\"The third column is: \\n\", array[:, 2].reshape(5, 1), \"\\n\")\n",
    "print(\"The fourth column is: \\n\", array[:, 3].reshape(5, 1), \"\\n\")\n",
    "print(\"The fifth column is: \\n\", array[:, 4].reshape(5, 1), \"\\n\")"
   ]
  },
  {
   "cell_type": "markdown",
   "id": "bccb3998",
   "metadata": {
    "ExecuteTime": {
     "end_time": "2022-10-15T18:08:12.861565Z",
     "start_time": "2022-10-15T18:08:12.845566Z"
    }
   },
   "source": [
    "#### 9. Write a NumPy program to replace the negative values in a NumPy array with 0"
   ]
  },
  {
   "cell_type": "code",
   "execution_count": 53,
   "id": "32234935",
   "metadata": {
    "ExecuteTime": {
     "end_time": "2022-10-15T18:14:38.478464Z",
     "start_time": "2022-10-15T18:14:38.462463Z"
    }
   },
   "outputs": [
    {
     "name": "stdout",
     "output_type": "stream",
     "text": [
      "The original array =  [-3  4 -1  2  3 -5 10]\n",
      "array after replacement =  [ 0  4  0  2  3  0 10]\n"
     ]
    }
   ],
   "source": [
    "array = np.array([-3, 4, -1, 2, 3, -5, 10])\n",
    "print(\"The original array = \", array)\n",
    "array[array < 0] = 0\n",
    "print(\"array after replacement = \", array)"
   ]
  },
  {
   "cell_type": "markdown",
   "id": "ceb926c0",
   "metadata": {},
   "source": [
    "#### 10. Write a NumPy program to stack arrays in sequence vertically."
   ]
  },
  {
   "cell_type": "code",
   "execution_count": 62,
   "id": "3cad107d",
   "metadata": {
    "ExecuteTime": {
     "end_time": "2022-10-15T18:25:28.311258Z",
     "start_time": "2022-10-15T18:25:28.291258Z"
    }
   },
   "outputs": [
    {
     "name": "stdout",
     "output_type": "stream",
     "text": [
      "The first array: \n",
      " [[1 2 3]\n",
      " [4 5 6]\n",
      " [7 8 9]] \n",
      "\n",
      "The second array: \n",
      " [[10 11 12]\n",
      " [13 14 15]\n",
      " [16 17 18]] \n",
      "\n",
      "The final array after stack 2 arrays: \n",
      " [[ 1  2  3]\n",
      " [ 4  5  6]\n",
      " [ 7  8  9]\n",
      " [10 11 12]\n",
      " [13 14 15]\n",
      " [16 17 18]]\n"
     ]
    }
   ],
   "source": [
    "arr1 = np.arange(1, 10).reshape(3, 3)\n",
    "arr2 = np.arange(10, 19).reshape(3, 3)\n",
    "print(\"The first array: \\n\", arr1, \"\\n\")\n",
    "print(\"The second array: \\n\", arr2, \"\\n\")\n",
    "arr3 = np.vstack([arr1, arr2])\n",
    "print(\"The final array after stack 2 arrays: \\n\", arr3 )"
   ]
  }
 ],
 "metadata": {
  "kernelspec": {
   "display_name": "Python 3 (ipykernel)",
   "language": "python",
   "name": "python3"
  },
  "language_info": {
   "codemirror_mode": {
    "name": "ipython",
    "version": 3
   },
   "file_extension": ".py",
   "mimetype": "text/x-python",
   "name": "python",
   "nbconvert_exporter": "python",
   "pygments_lexer": "ipython3",
   "version": "3.9.12"
  }
 },
 "nbformat": 4,
 "nbformat_minor": 5
}
